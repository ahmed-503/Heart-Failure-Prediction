{
  "nbformat": 4,
  "nbformat_minor": 0,
  "metadata": {
    "kernelspec": {
      "display_name": "Python 3",
      "language": "python",
      "name": "python3"
    },
    "language_info": {
      "codemirror_mode": {
        "name": "ipython",
        "version": 3
      },
      "file_extension": ".py",
      "mimetype": "text/x-python",
      "name": "python",
      "nbconvert_exporter": "python",
      "pygments_lexer": "ipython3",
      "version": "3.7.0"
    },
    "colab": {
      "name": "Heart_Failure_Prediction.ipynb",
      "provenance": []
    }
  },
  "cells": [
    {
      "cell_type": "markdown",
      "metadata": {
        "id": "OnH3Tfedy2qK"
      },
      "source": [
        "## Heart Failure Prediction Data Analysis\n",
        "**Group 22:** Ahmed Ahmed, Anita Odchimar, Asma Al-Qasimi, Clyde Correa, Ling Zhuang\n",
        "\n",
        "Data Obtained from Kaggle at:\n",
        "https://www.kaggle.com/andrewmvd/heart-failure-clinical-data"
      ]
    },
    {
      "cell_type": "markdown",
      "metadata": {
        "id": "ypbJSiEuy2qM"
      },
      "source": [
        "* **Import the necessary packages.**"
      ]
    },
    {
      "cell_type": "code",
      "metadata": {
        "id": "5w5VY7zby2qM"
      },
      "source": [
        "import pandas as pd\n",
        "import matplotlib.pyplot as plt\n",
        "%matplotlib inline\n",
        "\n",
        "import seaborn as sns\n",
        "import numpy as np\n",
        "\n",
        "import statsmodels.api as sm\n",
        "from statsmodels.discrete.discrete_model import Logit\n",
        "from statsmodels.formula.api import ols\n",
        "from statsmodels.discrete.discrete_model import Logit\n",
        "\n",
        "from scipy.special import logit\n",
        "\n",
        "import sklearn\n",
        "from sklearn.model_selection import train_test_split\n",
        "from sklearn.neighbors import KNeighborsClassifier\n",
        "from sklearn.linear_model import LinearRegression\n",
        "from sklearn.linear_model import LogisticRegression\n",
        "from sklearn.metrics import mean_squared_error, r2_score\n",
        "from sklearn.metrics import classification_report\n",
        "from sklearn.ensemble import RandomForestClassifier\n",
        "from sklearn.metrics import accuracy_score\n",
        "\n",
        "import itertools\n",
        "import warnings\n",
        "warnings.filterwarnings('ignore')"
      ],
      "execution_count": null,
      "outputs": []
    },
    {
      "cell_type": "markdown",
      "metadata": {
        "id": "6N763qzny2qN"
      },
      "source": [
        "* **Data Exploration and Visualization**"
      ]
    },
    {
      "cell_type": "code",
      "metadata": {
        "id": "eoSnnX6xy2qN"
      },
      "source": [
        "df = pd.read_csv('./heart_failure_clinical_records_dataset.csv')"
      ],
      "execution_count": null,
      "outputs": []
    },
    {
      "cell_type": "code",
      "metadata": {
        "id": "NMwp_5fTy2qN",
        "outputId": "f3564008-db1c-4b7f-bbc6-7a07b48b8848"
      },
      "source": [
        "print(df.columns.to_list())"
      ],
      "execution_count": null,
      "outputs": [
        {
          "output_type": "stream",
          "text": [
            "['age', 'anaemia', 'creatinine_phosphokinase', 'diabetes', 'ejection_fraction', 'high_blood_pressure', 'platelets', 'serum_creatinine', 'serum_sodium', 'sex', 'smoking', 'time', 'DEATH_EVENT']\n"
          ],
          "name": "stdout"
        }
      ]
    },
    {
      "cell_type": "markdown",
      "metadata": {
        "id": "D22uxDs2y2qO"
      },
      "source": [
        "#### Dataset Description\n",
        "\n",
        "* age - age \n",
        "* anaemia - Decrease of red blood cells or hemoglobin (boolean)\n",
        "* creatinine_phosphokinase - Level of the CPK enzyme in the blood (mcg/L)\n",
        "* diabetes - If the patient has diabetes (boolean)\n",
        "* ejection_fraction - Percentage of blood leaving the heart at each contraction (percentage)\n",
        "* high_blood_pressure - If the patient has hypertension (boolean)\n",
        "* platelets - Platelets in the blood (kiloplatelets/mL)\n",
        "* serum_creatinine - Level of serum creatinine in the blood (mg/dL)\n",
        "* serum_sodium - Level of serum sodium in the blood (mEq/L)\n",
        "* sex - Woman or man (binary) | Male = 1, Female = 0\n",
        "* smoking - If the patient smokes or not (boolean)\n",
        "* time - Follow-up period (days)\n",
        "* DEATH_EVENT - If the patient deceased during the follow-up period (boolean)"
      ]
    },
    {
      "cell_type": "code",
      "metadata": {
        "id": "kGdlXcwPy2qO",
        "outputId": "0cc556a0-8a7b-4adc-f139-2f0062a97907"
      },
      "source": [
        "df.head(5)"
      ],
      "execution_count": null,
      "outputs": [
        {
          "output_type": "execute_result",
          "data": {
            "text/html": [
              "<div>\n",
              "<style scoped>\n",
              "    .dataframe tbody tr th:only-of-type {\n",
              "        vertical-align: middle;\n",
              "    }\n",
              "\n",
              "    .dataframe tbody tr th {\n",
              "        vertical-align: top;\n",
              "    }\n",
              "\n",
              "    .dataframe thead th {\n",
              "        text-align: right;\n",
              "    }\n",
              "</style>\n",
              "<table border=\"1\" class=\"dataframe\">\n",
              "  <thead>\n",
              "    <tr style=\"text-align: right;\">\n",
              "      <th></th>\n",
              "      <th>age</th>\n",
              "      <th>anaemia</th>\n",
              "      <th>creatinine_phosphokinase</th>\n",
              "      <th>diabetes</th>\n",
              "      <th>ejection_fraction</th>\n",
              "      <th>high_blood_pressure</th>\n",
              "      <th>platelets</th>\n",
              "      <th>serum_creatinine</th>\n",
              "      <th>serum_sodium</th>\n",
              "      <th>sex</th>\n",
              "      <th>smoking</th>\n",
              "      <th>time</th>\n",
              "      <th>DEATH_EVENT</th>\n",
              "    </tr>\n",
              "  </thead>\n",
              "  <tbody>\n",
              "    <tr>\n",
              "      <th>0</th>\n",
              "      <td>75.0</td>\n",
              "      <td>0</td>\n",
              "      <td>582</td>\n",
              "      <td>0</td>\n",
              "      <td>20</td>\n",
              "      <td>1</td>\n",
              "      <td>265000.00</td>\n",
              "      <td>1.9</td>\n",
              "      <td>130</td>\n",
              "      <td>1</td>\n",
              "      <td>0</td>\n",
              "      <td>4</td>\n",
              "      <td>1</td>\n",
              "    </tr>\n",
              "    <tr>\n",
              "      <th>1</th>\n",
              "      <td>55.0</td>\n",
              "      <td>0</td>\n",
              "      <td>7861</td>\n",
              "      <td>0</td>\n",
              "      <td>38</td>\n",
              "      <td>0</td>\n",
              "      <td>263358.03</td>\n",
              "      <td>1.1</td>\n",
              "      <td>136</td>\n",
              "      <td>1</td>\n",
              "      <td>0</td>\n",
              "      <td>6</td>\n",
              "      <td>1</td>\n",
              "    </tr>\n",
              "    <tr>\n",
              "      <th>2</th>\n",
              "      <td>65.0</td>\n",
              "      <td>0</td>\n",
              "      <td>146</td>\n",
              "      <td>0</td>\n",
              "      <td>20</td>\n",
              "      <td>0</td>\n",
              "      <td>162000.00</td>\n",
              "      <td>1.3</td>\n",
              "      <td>129</td>\n",
              "      <td>1</td>\n",
              "      <td>1</td>\n",
              "      <td>7</td>\n",
              "      <td>1</td>\n",
              "    </tr>\n",
              "    <tr>\n",
              "      <th>3</th>\n",
              "      <td>50.0</td>\n",
              "      <td>1</td>\n",
              "      <td>111</td>\n",
              "      <td>0</td>\n",
              "      <td>20</td>\n",
              "      <td>0</td>\n",
              "      <td>210000.00</td>\n",
              "      <td>1.9</td>\n",
              "      <td>137</td>\n",
              "      <td>1</td>\n",
              "      <td>0</td>\n",
              "      <td>7</td>\n",
              "      <td>1</td>\n",
              "    </tr>\n",
              "    <tr>\n",
              "      <th>4</th>\n",
              "      <td>65.0</td>\n",
              "      <td>1</td>\n",
              "      <td>160</td>\n",
              "      <td>1</td>\n",
              "      <td>20</td>\n",
              "      <td>0</td>\n",
              "      <td>327000.00</td>\n",
              "      <td>2.7</td>\n",
              "      <td>116</td>\n",
              "      <td>0</td>\n",
              "      <td>0</td>\n",
              "      <td>8</td>\n",
              "      <td>1</td>\n",
              "    </tr>\n",
              "  </tbody>\n",
              "</table>\n",
              "</div>"
            ],
            "text/plain": [
              "    age  anaemia  creatinine_phosphokinase  diabetes  ejection_fraction  \\\n",
              "0  75.0        0                       582         0                 20   \n",
              "1  55.0        0                      7861         0                 38   \n",
              "2  65.0        0                       146         0                 20   \n",
              "3  50.0        1                       111         0                 20   \n",
              "4  65.0        1                       160         1                 20   \n",
              "\n",
              "   high_blood_pressure  platelets  serum_creatinine  serum_sodium  sex  \\\n",
              "0                    1  265000.00               1.9           130    1   \n",
              "1                    0  263358.03               1.1           136    1   \n",
              "2                    0  162000.00               1.3           129    1   \n",
              "3                    0  210000.00               1.9           137    1   \n",
              "4                    0  327000.00               2.7           116    0   \n",
              "\n",
              "   smoking  time  DEATH_EVENT  \n",
              "0        0     4            1  \n",
              "1        0     6            1  \n",
              "2        1     7            1  \n",
              "3        0     7            1  \n",
              "4        0     8            1  "
            ]
          },
          "metadata": {
            "tags": []
          },
          "execution_count": 4
        }
      ]
    },
    {
      "cell_type": "markdown",
      "metadata": {
        "id": "S7UNaXDQy2qP"
      },
      "source": [
        "No null values:"
      ]
    },
    {
      "cell_type": "code",
      "metadata": {
        "id": "y2ztdT4by2qP",
        "outputId": "2db63e85-1da7-4c59-8b56-cbf016d65f54"
      },
      "source": [
        "df.info()"
      ],
      "execution_count": null,
      "outputs": [
        {
          "output_type": "stream",
          "text": [
            "<class 'pandas.core.frame.DataFrame'>\n",
            "RangeIndex: 299 entries, 0 to 298\n",
            "Data columns (total 13 columns):\n",
            " #   Column                    Non-Null Count  Dtype  \n",
            "---  ------                    --------------  -----  \n",
            " 0   age                       299 non-null    float64\n",
            " 1   anaemia                   299 non-null    int64  \n",
            " 2   creatinine_phosphokinase  299 non-null    int64  \n",
            " 3   diabetes                  299 non-null    int64  \n",
            " 4   ejection_fraction         299 non-null    int64  \n",
            " 5   high_blood_pressure       299 non-null    int64  \n",
            " 6   platelets                 299 non-null    float64\n",
            " 7   serum_creatinine          299 non-null    float64\n",
            " 8   serum_sodium              299 non-null    int64  \n",
            " 9   sex                       299 non-null    int64  \n",
            " 10  smoking                   299 non-null    int64  \n",
            " 11  time                      299 non-null    int64  \n",
            " 12  DEATH_EVENT               299 non-null    int64  \n",
            "dtypes: float64(3), int64(10)\n",
            "memory usage: 30.5 KB\n"
          ],
          "name": "stdout"
        }
      ]
    },
    {
      "cell_type": "markdown",
      "metadata": {
        "id": "gZyH5VFqy2qP"
      },
      "source": [
        "Histogram, showing the distribution of the values for each attribute:"
      ]
    },
    {
      "cell_type": "code",
      "metadata": {
        "id": "H9dOIjhJy2qQ",
        "outputId": "32ca599e-a7d7-46b6-e44d-a40cf70edec4"
      },
      "source": [
        "df.hist(figsize=(15,15))\n",
        "plt.show()"
      ],
      "execution_count": null,
      "outputs": [
        {
          "output_type": "display_data",
          "data": {
            "image/png": "[encoded data removed]",
            "text/plain": [
              "<Figure size 1080x1080 with 16 Axes>"
            ]
          },
          "metadata": {
            "tags": [],
            "needs_background": "light"
          }
        }
      ]
    },
    {
      "cell_type": "markdown",
      "metadata": {
        "id": "vc8pP5ezy2qQ"
      },
      "source": [
        "Roughly, the distribution type of the attributes:"
      ]
    },
    {
      "cell_type": "code",
      "metadata": {
        "id": "DfCTjbDry2qQ",
        "outputId": "4bf1b188-956a-400e-bc59-1393b0688ec6"
      },
      "source": [
        "distribution = ['Normal', 'Bernoulli', \"Skewed\", \"Bernoulli\", \"Normal\", \"Bernoulli\", \"Normal\", \"Skewed\", \"Normal\", \"Bernoulli\",\\\n",
        " \"Bernoulli\", \"Uniform\",\"Bernoulli\"]\n",
        "pd.DataFrame(distribution, index=df.columns, columns=['Distribution Type'])"
      ],
      "execution_count": null,
      "outputs": [
        {
          "output_type": "execute_result",
          "data": {
            "text/html": [
              "<div>\n",
              "<style scoped>\n",
              "    .dataframe tbody tr th:only-of-type {\n",
              "        vertical-align: middle;\n",
              "    }\n",
              "\n",
              "    .dataframe tbody tr th {\n",
              "        vertical-align: top;\n",
              "    }\n",
              "\n",
              "    .dataframe thead th {\n",
              "        text-align: right;\n",
              "    }\n",
              "</style>\n",
              "<table border=\"1\" class=\"dataframe\">\n",
              "  <thead>\n",
              "    <tr style=\"text-align: right;\">\n",
              "      <th></th>\n",
              "      <th>Distribution Type</th>\n",
              "    </tr>\n",
              "  </thead>\n",
              "  <tbody>\n",
              "    <tr>\n",
              "      <th>age</th>\n",
              "      <td>Normal</td>\n",
              "    </tr>\n",
              "    <tr>\n",
              "      <th>anaemia</th>\n",
              "      <td>Bernoulli</td>\n",
              "    </tr>\n",
              "    <tr>\n",
              "      <th>creatinine_phosphokinase</th>\n",
              "      <td>Skewed</td>\n",
              "    </tr>\n",
              "    <tr>\n",
              "      <th>diabetes</th>\n",
              "      <td>Bernoulli</td>\n",
              "    </tr>\n",
              "    <tr>\n",
              "      <th>ejection_fraction</th>\n",
              "      <td>Normal</td>\n",
              "    </tr>\n",
              "    <tr>\n",
              "      <th>high_blood_pressure</th>\n",
              "      <td>Bernoulli</td>\n",
              "    </tr>\n",
              "    <tr>\n",
              "      <th>platelets</th>\n",
              "      <td>Normal</td>\n",
              "    </tr>\n",
              "    <tr>\n",
              "      <th>serum_creatinine</th>\n",
              "      <td>Skewed</td>\n",
              "    </tr>\n",
              "    <tr>\n",
              "      <th>serum_sodium</th>\n",
              "      <td>Normal</td>\n",
              "    </tr>\n",
              "    <tr>\n",
              "      <th>sex</th>\n",
              "      <td>Bernoulli</td>\n",
              "    </tr>\n",
              "    <tr>\n",
              "      <th>smoking</th>\n",
              "      <td>Bernoulli</td>\n",
              "    </tr>\n",
              "    <tr>\n",
              "      <th>time</th>\n",
              "      <td>Uniform</td>\n",
              "    </tr>\n",
              "    <tr>\n",
              "      <th>DEATH_EVENT</th>\n",
              "      <td>Bernoulli</td>\n",
              "    </tr>\n",
              "  </tbody>\n",
              "</table>\n",
              "</div>"
            ],
            "text/plain": [
              "                         Distribution Type\n",
              "age                                 Normal\n",
              "anaemia                          Bernoulli\n",
              "creatinine_phosphokinase            Skewed\n",
              "diabetes                         Bernoulli\n",
              "ejection_fraction                   Normal\n",
              "high_blood_pressure              Bernoulli\n",
              "platelets                           Normal\n",
              "serum_creatinine                    Skewed\n",
              "serum_sodium                        Normal\n",
              "sex                              Bernoulli\n",
              "smoking                          Bernoulli\n",
              "time                               Uniform\n",
              "DEATH_EVENT                      Bernoulli"
            ]
          },
          "metadata": {
            "tags": []
          },
          "execution_count": 7
        }
      ]
    },
    {
      "cell_type": "markdown",
      "metadata": {
        "id": "ssU9ZKX-y2qR"
      },
      "source": [
        "Select statistical properties of the attributes:"
      ]
    },
    {
      "cell_type": "code",
      "metadata": {
        "id": "5ZN84Mioy2qR",
        "outputId": "c09edc39-9ab7-4c23-c1aa-a000e25941fc"
      },
      "source": [
        "df.describe().T"
      ],
      "execution_count": null,
      "outputs": [
        {
          "output_type": "execute_result",
          "data": {
            "text/html": [
              "<div>\n",
              "<style scoped>\n",
              "    .dataframe tbody tr th:only-of-type {\n",
              "        vertical-align: middle;\n",
              "    }\n",
              "\n",
              "    .dataframe tbody tr th {\n",
              "        vertical-align: top;\n",
              "    }\n",
              "\n",
              "    .dataframe thead th {\n",
              "        text-align: right;\n",
              "    }\n",
              "</style>\n",
              "<table border=\"1\" class=\"dataframe\">\n",
              "  <thead>\n",
              "    <tr style=\"text-align: right;\">\n",
              "      <th></th>\n",
              "      <th>count</th>\n",
              "      <th>mean</th>\n",
              "      <th>std</th>\n",
              "      <th>min</th>\n",
              "      <th>25%</th>\n",
              "      <th>50%</th>\n",
              "      <th>75%</th>\n",
              "      <th>max</th>\n",
              "    </tr>\n",
              "  </thead>\n",
              "  <tbody>\n",
              "    <tr>\n",
              "      <th>age</th>\n",
              "      <td>299.0</td>\n",
              "      <td>60.833893</td>\n",
              "      <td>11.894809</td>\n",
              "      <td>40.0</td>\n",
              "      <td>51.0</td>\n",
              "      <td>60.0</td>\n",
              "      <td>70.0</td>\n",
              "      <td>95.0</td>\n",
              "    </tr>\n",
              "    <tr>\n",
              "      <th>anaemia</th>\n",
              "      <td>299.0</td>\n",
              "      <td>0.431438</td>\n",
              "      <td>0.496107</td>\n",
              "      <td>0.0</td>\n",
              "      <td>0.0</td>\n",
              "      <td>0.0</td>\n",
              "      <td>1.0</td>\n",
              "      <td>1.0</td>\n",
              "    </tr>\n",
              "    <tr>\n",
              "      <th>creatinine_phosphokinase</th>\n",
              "      <td>299.0</td>\n",
              "      <td>581.839465</td>\n",
              "      <td>970.287881</td>\n",
              "      <td>23.0</td>\n",
              "      <td>116.5</td>\n",
              "      <td>250.0</td>\n",
              "      <td>582.0</td>\n",
              "      <td>7861.0</td>\n",
              "    </tr>\n",
              "    <tr>\n",
              "      <th>diabetes</th>\n",
              "      <td>299.0</td>\n",
              "      <td>0.418060</td>\n",
              "      <td>0.494067</td>\n",
              "      <td>0.0</td>\n",
              "      <td>0.0</td>\n",
              "      <td>0.0</td>\n",
              "      <td>1.0</td>\n",
              "      <td>1.0</td>\n",
              "    </tr>\n",
              "    <tr>\n",
              "      <th>ejection_fraction</th>\n",
              "      <td>299.0</td>\n",
              "      <td>38.083612</td>\n",
              "      <td>11.834841</td>\n",
              "      <td>14.0</td>\n",
              "      <td>30.0</td>\n",
              "      <td>38.0</td>\n",
              "      <td>45.0</td>\n",
              "      <td>80.0</td>\n",
              "    </tr>\n",
              "    <tr>\n",
              "      <th>high_blood_pressure</th>\n",
              "      <td>299.0</td>\n",
              "      <td>0.351171</td>\n",
              "      <td>0.478136</td>\n",
              "      <td>0.0</td>\n",
              "      <td>0.0</td>\n",
              "      <td>0.0</td>\n",
              "      <td>1.0</td>\n",
              "      <td>1.0</td>\n",
              "    </tr>\n",
              "    <tr>\n",
              "      <th>platelets</th>\n",
              "      <td>299.0</td>\n",
              "      <td>263358.029264</td>\n",
              "      <td>97804.236869</td>\n",
              "      <td>25100.0</td>\n",
              "      <td>212500.0</td>\n",
              "      <td>262000.0</td>\n",
              "      <td>303500.0</td>\n",
              "      <td>850000.0</td>\n",
              "    </tr>\n",
              "    <tr>\n",
              "      <th>serum_creatinine</th>\n",
              "      <td>299.0</td>\n",
              "      <td>1.393880</td>\n",
              "      <td>1.034510</td>\n",
              "      <td>0.5</td>\n",
              "      <td>0.9</td>\n",
              "      <td>1.1</td>\n",
              "      <td>1.4</td>\n",
              "      <td>9.4</td>\n",
              "    </tr>\n",
              "    <tr>\n",
              "      <th>serum_sodium</th>\n",
              "      <td>299.0</td>\n",
              "      <td>136.625418</td>\n",
              "      <td>4.412477</td>\n",
              "      <td>113.0</td>\n",
              "      <td>134.0</td>\n",
              "      <td>137.0</td>\n",
              "      <td>140.0</td>\n",
              "      <td>148.0</td>\n",
              "    </tr>\n",
              "    <tr>\n",
              "      <th>sex</th>\n",
              "      <td>299.0</td>\n",
              "      <td>0.648829</td>\n",
              "      <td>0.478136</td>\n",
              "      <td>0.0</td>\n",
              "      <td>0.0</td>\n",
              "      <td>1.0</td>\n",
              "      <td>1.0</td>\n",
              "      <td>1.0</td>\n",
              "    </tr>\n",
              "    <tr>\n",
              "      <th>smoking</th>\n",
              "      <td>299.0</td>\n",
              "      <td>0.321070</td>\n",
              "      <td>0.467670</td>\n",
              "      <td>0.0</td>\n",
              "      <td>0.0</td>\n",
              "      <td>0.0</td>\n",
              "      <td>1.0</td>\n",
              "      <td>1.0</td>\n",
              "    </tr>\n",
              "    <tr>\n",
              "      <th>time</th>\n",
              "      <td>299.0</td>\n",
              "      <td>130.260870</td>\n",
              "      <td>77.614208</td>\n",
              "      <td>4.0</td>\n",
              "      <td>73.0</td>\n",
              "      <td>115.0</td>\n",
              "      <td>203.0</td>\n",
              "      <td>285.0</td>\n",
              "    </tr>\n",
              "    <tr>\n",
              "      <th>DEATH_EVENT</th>\n",
              "      <td>299.0</td>\n",
              "      <td>0.321070</td>\n",
              "      <td>0.467670</td>\n",
              "      <td>0.0</td>\n",
              "      <td>0.0</td>\n",
              "      <td>0.0</td>\n",
              "      <td>1.0</td>\n",
              "      <td>1.0</td>\n",
              "    </tr>\n",
              "  </tbody>\n",
              "</table>\n",
              "</div>"
            ],
            "text/plain": [
              "                          count           mean           std      min  \\\n",
              "age                       299.0      60.833893     11.894809     40.0   \n",
              "anaemia                   299.0       0.431438      0.496107      0.0   \n",
              "creatinine_phosphokinase  299.0     581.839465    970.287881     23.0   \n",
              "diabetes                  299.0       0.418060      0.494067      0.0   \n",
              "ejection_fraction         299.0      38.083612     11.834841     14.0   \n",
              "high_blood_pressure       299.0       0.351171      0.478136      0.0   \n",
              "platelets                 299.0  263358.029264  97804.236869  25100.0   \n",
              "serum_creatinine          299.0       1.393880      1.034510      0.5   \n",
              "serum_sodium              299.0     136.625418      4.412477    113.0   \n",
              "sex                       299.0       0.648829      0.478136      0.0   \n",
              "smoking                   299.0       0.321070      0.467670      0.0   \n",
              "time                      299.0     130.260870     77.614208      4.0   \n",
              "DEATH_EVENT               299.0       0.321070      0.467670      0.0   \n",
              "\n",
              "                               25%       50%       75%       max  \n",
              "age                           51.0      60.0      70.0      95.0  \n",
              "anaemia                        0.0       0.0       1.0       1.0  \n",
              "creatinine_phosphokinase     116.5     250.0     582.0    7861.0  \n",
              "diabetes                       0.0       0.0       1.0       1.0  \n",
              "ejection_fraction             30.0      38.0      45.0      80.0  \n",
              "high_blood_pressure            0.0       0.0       1.0       1.0  \n",
              "platelets                 212500.0  262000.0  303500.0  850000.0  \n",
              "serum_creatinine               0.9       1.1       1.4       9.4  \n",
              "serum_sodium                 134.0     137.0     140.0     148.0  \n",
              "sex                            0.0       1.0       1.0       1.0  \n",
              "smoking                        0.0       0.0       1.0       1.0  \n",
              "time                          73.0     115.0     203.0     285.0  \n",
              "DEATH_EVENT                    0.0       0.0       1.0       1.0  "
            ]
          },
          "metadata": {
            "tags": []
          },
          "execution_count": 8
        }
      ]
    },
    {
      "cell_type": "markdown",
      "metadata": {
        "id": "RSHOr6jHy2qR"
      },
      "source": [
        "* Death rate is 32%\n",
        "* The average of age is 60, the youngest is 40, and the oldest is 95\n",
        "* 43.1% have anaemia\n",
        "* 41.8% have diabetes\n",
        "* 35.1% have high blood pressure \n",
        "* 32.1% smoke\n",
        "* The average of follow-up days is 130.3"
      ]
    },
    {
      "cell_type": "markdown",
      "metadata": {
        "id": "pge232o4y2qS"
      },
      "source": [
        "Check for correlation and collinearity."
      ]
    },
    {
      "cell_type": "markdown",
      "metadata": {
        "id": "mRBjHSJ7y2qS"
      },
      "source": [
        "From the following scatter plots, we can see that there is no obvious correlation or collinearity between the attributes."
      ]
    },
    {
      "cell_type": "code",
      "metadata": {
        "id": "lkJbLxUey2qS"
      },
      "source": [
        "#sns.pairplot(df[['age', 'creatinine_phosphokinase', 'ejection_fraction', 'platelets', 'serum_creatinine', 'serum_sodium','time','DEATH_EVENT']], hue=\"DEATH_EVENT\")"
      ],
      "execution_count": null,
      "outputs": []
    },
    {
      "cell_type": "markdown",
      "metadata": {
        "id": "UdznaMa2y2qT"
      },
      "source": [
        "In the following bar graphs, notice that the occurence of death is consistently lower than non-occurence for all binary variables. As we split each binarry attribute into two attibutes (classified either 0 and 1), the two resulting attributes are then correlated to each other as if var1=0 then var2=1, vice versa. Thus, we avoid to include the two variable that were split from the binary variable simultaneously in our regression."
      ]
    },
    {
      "cell_type": "code",
      "metadata": {
        "id": "qyLXkuqqy2qT",
        "outputId": "9c2f78ce-cacc-4889-eef3-65715ce8bee3"
      },
      "source": [
        "binary_vars = ['anaemia', 'diabetes', 'high_blood_pressure', 'sex', 'smoking']\n",
        "\n",
        "for i in binary_vars:\n",
        "    data = df.groupby([i, 'DEATH_EVENT'])['DEATH_EVENT'].count().unstack('DEATH_EVENT')\n",
        "    ax = data.plot(kind='bar', figsize=(10,6))\n",
        "    for p in ax.patches:\n",
        "        width, height = p.get_width(), p.get_height()\n",
        "        x, y = p.get_xy() \n",
        "        ax.text(x+width/2, y+height/2, '{:.0f}'.format(height), horizontalalignment='center', verticalalignment='center')"
      ],
      "execution_count": null,
      "outputs": [
        {
          "output_type": "display_data",
          "data": {
            "image/png": "[encoded data removed]",
            "text/plain": [
              "<Figure size 720x432 with 1 Axes>"
            ]
          },
          "metadata": {
            "tags": [],
            "needs_background": "light"
          }
        },
        {
          "output_type": "display_data",
          "data": {
            "image/png": "[encoded data removed]",
            "text/plain": [
              "<Figure size 720x432 with 1 Axes>"
            ]
          },
          "metadata": {
            "tags": [],
            "needs_background": "light"
          }
        },
        {
          "output_type": "display_data",
          "data": {
            "image/png": "[encoded data removed]",
            "text/plain": [
              "<Figure size 720x432 with 1 Axes>"
            ]
          },
          "metadata": {
            "tags": [],
            "needs_background": "light"
          }
        },
        {
          "output_type": "display_data",
          "data": {
            "image/png": "[encoded data removed]",
            "text/plain": [
              "<Figure size 720x432 with 1 Axes>"
            ]
          },
          "metadata": {
            "tags": [],
            "needs_background": "light"
          }
        },
        {
          "output_type": "display_data",
          "data": {
            "image/png": "[encoded data removed]",
            "text/plain": [
              "<Figure size 720x432 with 1 Axes>"
            ]
          },
          "metadata": {
            "tags": [],
            "needs_background": "light"
          }
        }
      ]
    },
    {
      "cell_type": "code",
      "metadata": {
        "id": "2gE3Wt05y2qT",
        "outputId": "f0d782ac-0bd8-4961-c2b5-0410cd4f0fa9"
      },
      "source": [
        "plt.figure(figsize=(20,10))\n",
        "sns.heatmap(df.corr('pearson'), annot=True) #finds measure a linearity between features"
      ],
      "execution_count": null,
      "outputs": [
        {
          "output_type": "execute_result",
          "data": {
            "text/plain": [
              "<matplotlib.axes._subplots.AxesSubplot at 0x1f220de5550>"
            ]
          },
          "metadata": {
            "tags": []
          },
          "execution_count": 11
        },
        {
          "output_type": "display_data",
          "data": {
            "image/png": "[encoded data removed]",
            "text/plain": [
              "<Figure size 1440x720 with 2 Axes>"
            ]
          },
          "metadata": {
            "tags": [],
            "needs_background": "light"
          }
        }
      ]
    },
    {
      "cell_type": "markdown",
      "metadata": {
        "id": "Tkp3bSray2qU"
      },
      "source": [
        "The graph above also shows that there is **no collinearity** between numeric variables. This is important, as it shows that the independent variables are not correlated with each other, making a **Logistic Regression Model appropriate** for the analysis.\n",
        "\n",
        "**Note** that at the end of this file, you will find an **Appendix**, where for demonstration purposes, we perform an analysis assuming that a Linear Regression Model is appropriate, and, as expected, show that it is not (low R^2 value obtained)."
      ]
    },
    {
      "cell_type": "markdown",
      "metadata": {
        "id": "ewE5-a1wy2qU"
      },
      "source": [
        "We can look at the correlation of Death Occurance with the other attributes in the following table (starting from the most correlated attribute):"
      ]
    },
    {
      "cell_type": "code",
      "metadata": {
        "id": "ypYJHt5zy2qU",
        "outputId": "ba18963e-1fc2-4e95-a152-1997297a1b43"
      },
      "source": [
        "cor = df.corr()\n",
        "cor_relevance = pd.DataFrame({'cor':abs(cor[\"DEATH_EVENT\"])})\n",
        "cor_relevance.sort_values(by=['cor'], inplace=True, ascending=False)\n",
        "cor_relevance"
      ],
      "execution_count": null,
      "outputs": [
        {
          "output_type": "execute_result",
          "data": {
            "text/html": [
              "<div>\n",
              "<style scoped>\n",
              "    .dataframe tbody tr th:only-of-type {\n",
              "        vertical-align: middle;\n",
              "    }\n",
              "\n",
              "    .dataframe tbody tr th {\n",
              "        vertical-align: top;\n",
              "    }\n",
              "\n",
              "    .dataframe thead th {\n",
              "        text-align: right;\n",
              "    }\n",
              "</style>\n",
              "<table border=\"1\" class=\"dataframe\">\n",
              "  <thead>\n",
              "    <tr style=\"text-align: right;\">\n",
              "      <th></th>\n",
              "      <th>cor</th>\n",
              "    </tr>\n",
              "  </thead>\n",
              "  <tbody>\n",
              "    <tr>\n",
              "      <th>DEATH_EVENT</th>\n",
              "      <td>1.000000</td>\n",
              "    </tr>\n",
              "    <tr>\n",
              "      <th>time</th>\n",
              "      <td>0.526964</td>\n",
              "    </tr>\n",
              "    <tr>\n",
              "      <th>serum_creatinine</th>\n",
              "      <td>0.294278</td>\n",
              "    </tr>\n",
              "    <tr>\n",
              "      <th>ejection_fraction</th>\n",
              "      <td>0.268603</td>\n",
              "    </tr>\n",
              "    <tr>\n",
              "      <th>age</th>\n",
              "      <td>0.253729</td>\n",
              "    </tr>\n",
              "    <tr>\n",
              "      <th>serum_sodium</th>\n",
              "      <td>0.195204</td>\n",
              "    </tr>\n",
              "    <tr>\n",
              "      <th>high_blood_pressure</th>\n",
              "      <td>0.079351</td>\n",
              "    </tr>\n",
              "    <tr>\n",
              "      <th>anaemia</th>\n",
              "      <td>0.066270</td>\n",
              "    </tr>\n",
              "    <tr>\n",
              "      <th>creatinine_phosphokinase</th>\n",
              "      <td>0.062728</td>\n",
              "    </tr>\n",
              "    <tr>\n",
              "      <th>platelets</th>\n",
              "      <td>0.049139</td>\n",
              "    </tr>\n",
              "    <tr>\n",
              "      <th>smoking</th>\n",
              "      <td>0.012623</td>\n",
              "    </tr>\n",
              "    <tr>\n",
              "      <th>sex</th>\n",
              "      <td>0.004316</td>\n",
              "    </tr>\n",
              "    <tr>\n",
              "      <th>diabetes</th>\n",
              "      <td>0.001943</td>\n",
              "    </tr>\n",
              "  </tbody>\n",
              "</table>\n",
              "</div>"
            ],
            "text/plain": [
              "                               cor\n",
              "DEATH_EVENT               1.000000\n",
              "time                      0.526964\n",
              "serum_creatinine          0.294278\n",
              "ejection_fraction         0.268603\n",
              "age                       0.253729\n",
              "serum_sodium              0.195204\n",
              "high_blood_pressure       0.079351\n",
              "anaemia                   0.066270\n",
              "creatinine_phosphokinase  0.062728\n",
              "platelets                 0.049139\n",
              "smoking                   0.012623\n",
              "sex                       0.004316\n",
              "diabetes                  0.001943"
            ]
          },
          "metadata": {
            "tags": []
          },
          "execution_count": 12
        }
      ]
    },
    {
      "cell_type": "markdown",
      "metadata": {
        "id": "8N77sQjRy2qV"
      },
      "source": [
        "* **Data Analysis**"
      ]
    },
    {
      "cell_type": "markdown",
      "metadata": {
        "id": "u5yMp_HHy2qV"
      },
      "source": [
        "### Logistic Regression Model"
      ]
    },
    {
      "cell_type": "markdown",
      "metadata": {
        "id": "jpo-ZtUqy2qV"
      },
      "source": [
        "Logistic regression is selected because the dependent variable, Death Occurence, is a binary quantity.\n",
        "\n",
        "To get an idea of **which attributes are the most important predictors** of death occurence, we first run a quick Logit model taking all the attributes as predictors. We then trim the predictors using different approaches and compare the logit models through **model statistical significance of predictors, statistical accuracy and other evaluation criteria**.\n",
        "\n",
        " The following approaches to improve the model were used:\n",
        " * First approach: **removal of non-significant attributes** based on p-value\n",
        " * Second approach: trying out difference **combinations of predictors** (derived from using only one of the sub-categories of the categorical variables)\n",
        " * Third approach: **backward elimination of predictors** by minimizing Akaike information criterion (AIC) \n",
        "\n",
        "Machine learning algorithm for logistic regression is also used (from scikit-learn). \n",
        "\n",
        "\n",
        "\n",
        "\n",
        "."
      ]
    },
    {
      "cell_type": "markdown",
      "metadata": {
        "id": "X5mMWd1ty2qV"
      },
      "source": [
        "* **Logit Model with all Attributes** \n",
        "(original model)"
      ]
    },
    {
      "cell_type": "code",
      "metadata": {
        "id": "SQSl7ZhMy2qW"
      },
      "source": [
        "#function to perform logistic regression given dataframe, list of predictors 'a', and assigned name to model\n",
        "def logitfit(dataframe, a):\n",
        "    global m\n",
        "    m = Logit(dataframe['DEATH_EVENT'], dataframe[a])\n",
        "    m = m.fit(disp=0)\n",
        "    \n",
        "predictors = ['anaemia','age','creatinine_phosphokinase','diabetes','ejection_fraction','high_blood_pressure','platelets','serum_creatinine',\n",
        "              'serum_sodium','sex','smoking','time']\n",
        "logitfit(df,predictors)"
      ],
      "execution_count": null,
      "outputs": []
    },
    {
      "cell_type": "code",
      "metadata": {
        "id": "IvB_ula_y2qW",
        "outputId": "8a1e78b3-41e4-47e7-bf97-673427d2841d"
      },
      "source": [
        "print(m.summary2())"
      ],
      "execution_count": null,
      "outputs": [
        {
          "output_type": "stream",
          "text": [
            "                             Results: Logit\n",
            "========================================================================\n",
            "Model:                 Logit              Pseudo R-squared:   0.406     \n",
            "Dependent Variable:    DEATH_EVENT        AIC:                246.8505  \n",
            "Date:                  2020-12-12 14:08   BIC:                291.2558  \n",
            "No. Observations:      299                Log-Likelihood:     -111.43   \n",
            "Df Model:              11                 LL-Null:            -187.67   \n",
            "Df Residuals:          287                LLR p-value:        4.5991e-27\n",
            "Converged:             1.0000             Scale:              1.0000    \n",
            "No. Iterations:        7.0000                                           \n",
            "------------------------------------------------------------------------\n",
            "                          Coef.  Std.Err.    z    P>|z|   [0.025  0.975]\n",
            "------------------------------------------------------------------------\n",
            "anaemia                  -0.0374   0.3568 -0.1049 0.9164 -0.7369  0.6620\n",
            "age                       0.0523   0.0155  3.3869 0.0007  0.0221  0.0826\n",
            "creatinine_phosphokinase  0.0002   0.0002  1.2266 0.2200 -0.0001  0.0006\n",
            "diabetes                  0.2460   0.3448  0.7135 0.4755 -0.4298  0.9219\n",
            "ejection_fraction        -0.0757   0.0160 -4.7245 0.0000 -0.1071 -0.0443\n",
            "high_blood_pressure      -0.0773   0.3554 -0.2175 0.8278 -0.7739  0.6193\n",
            "platelets                -0.0000   0.0000 -0.6063 0.5443 -0.0000  0.0000\n",
            "serum_creatinine          0.7226   0.1801  4.0116 0.0001  0.3695  1.0756\n",
            "serum_sodium              0.0032   0.0092  0.3512 0.7254 -0.0147  0.0212\n",
            "sex                      -0.4456   0.4056 -1.0986 0.2719 -1.2406  0.3494\n",
            "smoking                  -0.0163   0.4086 -0.0398 0.9683 -0.8171  0.7845\n",
            "time                     -0.0204   0.0029 -6.9469 0.0000 -0.0262 -0.0147\n",
            "========================================================================\n",
            "\n"
          ],
          "name": "stdout"
        }
      ]
    },
    {
      "cell_type": "markdown",
      "metadata": {
        "id": "kUjDc3N7y2qW"
      },
      "source": [
        "Therefore, we conclude that for univariate analysis, **age**, **ejection_fraction**, **serum_creatinine**, and **time** have statistical significance."
      ]
    },
    {
      "cell_type": "code",
      "metadata": {
        "id": "8iPnpSfSy2qW",
        "outputId": "453c9254-bee1-4cc9-aba7-ee5bdd3751ad"
      },
      "source": [
        "df.loc[:,'p'] = m.predict(df[predictors])\n",
        "df.head(5)"
      ],
      "execution_count": null,
      "outputs": [
        {
          "output_type": "execute_result",
          "data": {
            "text/html": [
              "<div>\n",
              "<style scoped>\n",
              "    .dataframe tbody tr th:only-of-type {\n",
              "        vertical-align: middle;\n",
              "    }\n",
              "\n",
              "    .dataframe tbody tr th {\n",
              "        vertical-align: top;\n",
              "    }\n",
              "\n",
              "    .dataframe thead th {\n",
              "        text-align: right;\n",
              "    }\n",
              "</style>\n",
              "<table border=\"1\" class=\"dataframe\">\n",
              "  <thead>\n",
              "    <tr style=\"text-align: right;\">\n",
              "      <th></th>\n",
              "      <th>age</th>\n",
              "      <th>anaemia</th>\n",
              "      <th>creatinine_phosphokinase</th>\n",
              "      <th>diabetes</th>\n",
              "      <th>ejection_fraction</th>\n",
              "      <th>high_blood_pressure</th>\n",
              "      <th>platelets</th>\n",
              "      <th>serum_creatinine</th>\n",
              "      <th>serum_sodium</th>\n",
              "      <th>sex</th>\n",
              "      <th>smoking</th>\n",
              "      <th>time</th>\n",
              "      <th>DEATH_EVENT</th>\n",
              "      <th>p</th>\n",
              "    </tr>\n",
              "  </thead>\n",
              "  <tbody>\n",
              "    <tr>\n",
              "      <th>0</th>\n",
              "      <td>75.0</td>\n",
              "      <td>0</td>\n",
              "      <td>582</td>\n",
              "      <td>0</td>\n",
              "      <td>20</td>\n",
              "      <td>1</td>\n",
              "      <td>265000.00</td>\n",
              "      <td>1.9</td>\n",
              "      <td>130</td>\n",
              "      <td>1</td>\n",
              "      <td>0</td>\n",
              "      <td>4</td>\n",
              "      <td>1</td>\n",
              "      <td>0.968605</td>\n",
              "    </tr>\n",
              "    <tr>\n",
              "      <th>1</th>\n",
              "      <td>55.0</td>\n",
              "      <td>0</td>\n",
              "      <td>7861</td>\n",
              "      <td>0</td>\n",
              "      <td>38</td>\n",
              "      <td>0</td>\n",
              "      <td>263358.03</td>\n",
              "      <td>1.1</td>\n",
              "      <td>136</td>\n",
              "      <td>1</td>\n",
              "      <td>0</td>\n",
              "      <td>6</td>\n",
              "      <td>1</td>\n",
              "      <td>0.887356</td>\n",
              "    </tr>\n",
              "    <tr>\n",
              "      <th>2</th>\n",
              "      <td>65.0</td>\n",
              "      <td>0</td>\n",
              "      <td>146</td>\n",
              "      <td>0</td>\n",
              "      <td>20</td>\n",
              "      <td>0</td>\n",
              "      <td>162000.00</td>\n",
              "      <td>1.3</td>\n",
              "      <td>129</td>\n",
              "      <td>1</td>\n",
              "      <td>1</td>\n",
              "      <td>7</td>\n",
              "      <td>1</td>\n",
              "      <td>0.923388</td>\n",
              "    </tr>\n",
              "    <tr>\n",
              "      <th>3</th>\n",
              "      <td>50.0</td>\n",
              "      <td>1</td>\n",
              "      <td>111</td>\n",
              "      <td>0</td>\n",
              "      <td>20</td>\n",
              "      <td>0</td>\n",
              "      <td>210000.00</td>\n",
              "      <td>1.9</td>\n",
              "      <td>137</td>\n",
              "      <td>1</td>\n",
              "      <td>0</td>\n",
              "      <td>7</td>\n",
              "      <td>1</td>\n",
              "      <td>0.889098</td>\n",
              "    </tr>\n",
              "    <tr>\n",
              "      <th>4</th>\n",
              "      <td>65.0</td>\n",
              "      <td>1</td>\n",
              "      <td>160</td>\n",
              "      <td>1</td>\n",
              "      <td>20</td>\n",
              "      <td>0</td>\n",
              "      <td>327000.00</td>\n",
              "      <td>2.7</td>\n",
              "      <td>116</td>\n",
              "      <td>0</td>\n",
              "      <td>0</td>\n",
              "      <td>8</td>\n",
              "      <td>1</td>\n",
              "      <td>0.980719</td>\n",
              "    </tr>\n",
              "  </tbody>\n",
              "</table>\n",
              "</div>"
            ],
            "text/plain": [
              "    age  anaemia  creatinine_phosphokinase  diabetes  ejection_fraction  \\\n",
              "0  75.0        0                       582         0                 20   \n",
              "1  55.0        0                      7861         0                 38   \n",
              "2  65.0        0                       146         0                 20   \n",
              "3  50.0        1                       111         0                 20   \n",
              "4  65.0        1                       160         1                 20   \n",
              "\n",
              "   high_blood_pressure  platelets  serum_creatinine  serum_sodium  sex  \\\n",
              "0                    1  265000.00               1.9           130    1   \n",
              "1                    0  263358.03               1.1           136    1   \n",
              "2                    0  162000.00               1.3           129    1   \n",
              "3                    0  210000.00               1.9           137    1   \n",
              "4                    0  327000.00               2.7           116    0   \n",
              "\n",
              "   smoking  time  DEATH_EVENT         p  \n",
              "0        0     4            1  0.968605  \n",
              "1        0     6            1  0.887356  \n",
              "2        1     7            1  0.923388  \n",
              "3        0     7            1  0.889098  \n",
              "4        0     8            1  0.980719  "
            ]
          },
          "metadata": {
            "tags": []
          },
          "execution_count": 15
        }
      ]
    },
    {
      "cell_type": "code",
      "metadata": {
        "id": "83seXw6Ky2qX",
        "outputId": "7fa3131a-fe30-47b4-d176-ca95eabe90bf"
      },
      "source": [
        "df.loc[:, 'y_p'] = (df.p > 0.5) * 1\n",
        "df.y_p.value_counts()"
      ],
      "execution_count": null,
      "outputs": [
        {
          "output_type": "execute_result",
          "data": {
            "text/plain": [
              "0    214\n",
              "1     85\n",
              "Name: y_p, dtype: int64"
            ]
          },
          "metadata": {
            "tags": []
          },
          "execution_count": 16
        }
      ]
    },
    {
      "cell_type": "code",
      "metadata": {
        "id": "aB2kS93hy2qX",
        "outputId": "e000b99a-73c6-43a5-af13-7b4554537676"
      },
      "source": [
        "pd.crosstab(df.DEATH_EVENT, df.y_p)"
      ],
      "execution_count": null,
      "outputs": [
        {
          "output_type": "execute_result",
          "data": {
            "text/html": [
              "<div>\n",
              "<style scoped>\n",
              "    .dataframe tbody tr th:only-of-type {\n",
              "        vertical-align: middle;\n",
              "    }\n",
              "\n",
              "    .dataframe tbody tr th {\n",
              "        vertical-align: top;\n",
              "    }\n",
              "\n",
              "    .dataframe thead th {\n",
              "        text-align: right;\n",
              "    }\n",
              "</style>\n",
              "<table border=\"1\" class=\"dataframe\">\n",
              "  <thead>\n",
              "    <tr style=\"text-align: right;\">\n",
              "      <th>y_p</th>\n",
              "      <th>0</th>\n",
              "      <th>1</th>\n",
              "    </tr>\n",
              "    <tr>\n",
              "      <th>DEATH_EVENT</th>\n",
              "      <th></th>\n",
              "      <th></th>\n",
              "    </tr>\n",
              "  </thead>\n",
              "  <tbody>\n",
              "    <tr>\n",
              "      <th>0</th>\n",
              "      <td>185</td>\n",
              "      <td>18</td>\n",
              "    </tr>\n",
              "    <tr>\n",
              "      <th>1</th>\n",
              "      <td>29</td>\n",
              "      <td>67</td>\n",
              "    </tr>\n",
              "  </tbody>\n",
              "</table>\n",
              "</div>"
            ],
            "text/plain": [
              "y_p            0   1\n",
              "DEATH_EVENT         \n",
              "0            185  18\n",
              "1             29  67"
            ]
          },
          "metadata": {
            "tags": []
          },
          "execution_count": 17
        }
      ]
    },
    {
      "cell_type": "code",
      "metadata": {
        "id": "olKMs9uqy2qX",
        "outputId": "2fbb5aec-a7d9-4929-eae1-4ba8e6fd3745"
      },
      "source": [
        "df.loc[:,'p'] = m.predict(df[predictors])\n",
        "df = df.sort_values(by = ['p'], axis = 0)\n",
        "plt.plot(logit(df.p), df.p, '--')\n",
        "plt.plot(logit(df.p), df.DEATH_EVENT, '+')\n",
        "plt.xlabel('logit(p)')\n",
        "plt.ylabel('p')\n",
        "plt.show()"
      ],
      "execution_count": null,
      "outputs": [
        {
          "output_type": "display_data",
          "data": {
            "image/png": "[encoded data removed]",
            "text/plain": [
              "<Figure size 432x288 with 1 Axes>"
            ]
          },
          "metadata": {
            "tags": [],
            "needs_background": "light"
          }
        }
      ]
    },
    {
      "cell_type": "code",
      "metadata": {
        "id": "-dqzA8Mey2qY",
        "outputId": "d5e4d0bc-5cf7-47ea-a91c-d45a79866474"
      },
      "source": [
        "#function to get roc area of for logit model derived from 'dataframe' and 'Predictors'\n",
        "def roc_auc(dataframe, Predictors):\n",
        "    global auc, roc\n",
        "    logitfit(dataframe, Predictors)\n",
        "    ths = np.arange(0., 1.0, 0.025)\n",
        "    sensitivity = []\n",
        "    specificity = []\n",
        "    accuracy = []\n",
        "    matthews = []\n",
        "\n",
        "    for th in ths:\n",
        "        conf_mat = m.pred_table(threshold=th)\n",
        "        tn, fp, fn, tp = conf_mat.flatten()\n",
        "        sens = (1. * tp) / (tp + fn)\n",
        "        spec = (1. * tn) / (tn + fp)    \n",
        "        acc = (tp + tn) / np.sum(conf_mat)\n",
        "        mcc = (tp * tn - fp * fn)/np.sqrt((tp + fp)*(tp + fn)*(tn + fp)*(tn + fn))    \n",
        "        sensitivity.append(sens)\n",
        "        specificity.append(spec)\n",
        "        accuracy.append(acc)\n",
        "        matthews.append(mcc)\n",
        "    roc = pd.DataFrame({'discret_thr' : ths,'sensitivity' : sensitivity, 'specificity' : specificity,'_specificity' : [1 - x for x in specificity],'accuracy' : accuracy,'matthews' : matthews})\n",
        "    roc = roc.sort_values(by = \"_specificity\")\n",
        "    auc = np.trapz(y = roc.sensitivity, x = roc._specificity)\n",
        "    print (\"Area under ROC curve = %1.5f\" % auc)\n",
        "\n",
        "def plot_auc(dataframe, Predictors):\n",
        "    logitfit(dataframe, Predictors)\n",
        "    plt.plot(roc._specificity, roc.sensitivity, label = 'ROC')\n",
        "    plt.plot(np.arange(0., 1., 0.01), \n",
        "             np.arange(0., 1., 0.01), \n",
        "             '--')\n",
        "    plt.legend(loc = 4)\n",
        "\n",
        "#function for model m evaluation using accurracy, Matthews correlation coefficient, precision, recall\n",
        "def evaluation(dataframe, Predictors):\n",
        "    global conf_mat, tn, fp, fn, tp, acc, mcc, prc, rec  \n",
        "    logitfit(dataframe, Predictors)\n",
        "    conf_mat = m.pred_table()\n",
        "    tn, fp, fn, tp = conf_mat.flatten()\n",
        "    acc = 100*(tp + tn) / np.sum(conf_mat)\n",
        "    mcc = (tp * tn - fp * fn)/np.sqrt((tp + fp)*(tp + fn)*(tn + fp)*(tn + fn))\n",
        "    prc = tp / (tp + fp)\n",
        "    rec = tp / (tp + fn)\n",
        "    print (\"Accuracy of the model is: %1.5f %%. Matthews correlation coefficient between the estimates and the true response is: %1.5f. Model's precision is %1.2f and it's recall is %1.4f.\" % (acc, mcc, prc, rec))\n",
        "\n",
        "roc_auc(df, predictors)\n",
        "plot_auc(df, predictors)"
      ],
      "execution_count": null,
      "outputs": [
        {
          "output_type": "stream",
          "text": [
            "Area under ROC curve = 0.89504\n"
          ],
          "name": "stdout"
        },
        {
          "output_type": "display_data",
          "data": {
            "image/png": "[encoded data removed]",
            "text/plain": [
              "<Figure size 432x288 with 1 Axes>"
            ]
          },
          "metadata": {
            "tags": [],
            "needs_background": "light"
          }
        }
      ]
    },
    {
      "cell_type": "markdown",
      "metadata": {
        "id": "6wUWMLbJy2qY"
      },
      "source": [
        "The **Area Under the ROC Curve is 0.90**, which is significantly greater than 0.5. This means the logistic model is pretty good. "
      ]
    },
    {
      "cell_type": "code",
      "metadata": {
        "id": "2WcKqs55y2qY",
        "outputId": "c072125f-6d94-41c0-ea74-d586f783c764"
      },
      "source": [
        "evaluation(df, predictors)\n",
        "ACC_all_var = acc"
      ],
      "execution_count": null,
      "outputs": [
        {
          "output_type": "stream",
          "text": [
            "Accuracy of the model is: 84.28094 %. Matthews correlation coefficient between the estimates and the true response is: 0.63061. Model's precision is 0.79 and it's recall is 0.6979.\n"
          ],
          "name": "stdout"
        }
      ]
    },
    {
      "cell_type": "markdown",
      "metadata": {
        "id": "TgDDEr_8y2qY"
      },
      "source": [
        ".\n",
        "\n",
        "\n",
        "\n",
        "* **First Approach:** Removal of insignificant variable form the logit model\n",
        "\n",
        "From above regression summary, we identified that age, ejection_fraction, serum_creatinine, and time have statistical significance. Thus, we remove the other predictors in the model."
      ]
    },
    {
      "cell_type": "code",
      "metadata": {
        "id": "EKsLX1moy2qZ",
        "outputId": "8f02b54d-3486-4745-879d-aaae69e5af80"
      },
      "source": [
        "predictors1 = ['age','ejection_fraction','serum_creatinine','time']\n",
        "\n",
        "logitfit(df, predictors1)\n",
        "print(m.summary2())"
      ],
      "execution_count": null,
      "outputs": [
        {
          "output_type": "stream",
          "text": [
            "                         Results: Logit\n",
            "=================================================================\n",
            "Model:              Logit            Pseudo R-squared: 0.396     \n",
            "Dependent Variable: DEATH_EVENT      AIC:              234.6432  \n",
            "Date:               2020-12-12 14:08 BIC:              249.4449  \n",
            "No. Observations:   299              Log-Likelihood:   -113.32   \n",
            "Df Model:           3                LL-Null:          -187.67   \n",
            "Df Residuals:       295              LLR p-value:      5.0117e-32\n",
            "Converged:          1.0000           Scale:            1.0000    \n",
            "No. Iterations:     7.0000                                       \n",
            "-----------------------------------------------------------------\n",
            "                   Coef.  Std.Err.    z    P>|z|   [0.025  0.975]\n",
            "-----------------------------------------------------------------\n",
            "age                0.0500   0.0098  5.1059 0.0000  0.0308  0.0691\n",
            "ejection_fraction -0.0717   0.0145 -4.9382 0.0000 -0.1001 -0.0432\n",
            "serum_creatinine   0.7304   0.1746  4.1845 0.0000  0.3883  1.0726\n",
            "time              -0.0201   0.0028 -7.3138 0.0000 -0.0255 -0.0147\n",
            "=================================================================\n",
            "\n"
          ],
          "name": "stdout"
        }
      ]
    },
    {
      "cell_type": "code",
      "metadata": {
        "id": "KZAfzx_zy2qZ",
        "outputId": "337af827-837f-480d-d31c-f5968c0b6f10"
      },
      "source": [
        "roc_auc(df, predictors1)\n",
        "plot_auc(df, predictors1)"
      ],
      "execution_count": null,
      "outputs": [
        {
          "output_type": "stream",
          "text": [
            "Area under ROC curve = 0.89057\n"
          ],
          "name": "stdout"
        },
        {
          "output_type": "display_data",
          "data": {
            "image/png": "[encoded data removed]",
            "text/plain": [
              "<Figure size 432x288 with 1 Axes>"
            ]
          },
          "metadata": {
            "tags": [],
            "needs_background": "light"
          }
        }
      ]
    },
    {
      "cell_type": "code",
      "metadata": {
        "id": "yMUZgdopy2qZ",
        "outputId": "c9b21f68-be26-4848-c199-96d09a676210"
      },
      "source": [
        "evaluation(df, predictors1)\n",
        "ACC_app1 = acc"
      ],
      "execution_count": null,
      "outputs": [
        {
          "output_type": "stream",
          "text": [
            "Accuracy of the model is: 82.60870 %. Matthews correlation coefficient between the estimates and the true response is: 0.59167. Model's precision is 0.76 and it's recall is 0.6771.\n"
          ],
          "name": "stdout"
        }
      ]
    },
    {
      "cell_type": "markdown",
      "metadata": {
        "id": "qWvFVi38y2qa"
      },
      "source": [
        "Removing these insignificant attributes (p-value > 0.005) does not improve the logit model.\n",
        "\n",
        "* Does not improve the model AUROC (remains at 0.89). \n",
        "* Accuracy reduced from 84.28% to 82.61%\n",
        "* Matthews correlation coefficient reduced from 0.63 to 0.59\n",
        "* Precision reduced from 0.79 to 0.76\n",
        "* Recall reduced from 0.70 to 0.68\n",
        "\n",
        ".\n",
        "\n"
      ]
    },
    {
      "cell_type": "markdown",
      "metadata": {
        "id": "6s8lN573y2qa"
      },
      "source": [
        "* **Second Approach:** :combinations of predictors \n",
        "\n",
        "The attributes have several categorical nominal variables, namely, anaemia, diabetes, high_blood_pressure, sex, smoking. In the first approach, the model parameters of categorical variables are interpreted as 'subcategory assigned to 1' versus 'subcategory assigned to 0' (eg. male vs female). In this second, approach, we spit the categorical variables into their subcategories and see if the model accuracy and other evaluation criteria will improve.\n",
        "\n",
        "Recognizing that the subcategories are correlated to each other, since if var0 = 1 then var1 = 0, and vice-versa, we do not simultaneously use both subcategories as predictors in our regression."
      ]
    },
    {
      "cell_type": "code",
      "metadata": {
        "id": "jqMhVmg8y2qa",
        "outputId": "90673380-98f9-4380-8f80-2fe4d2799b01"
      },
      "source": [
        "#creating new dataframe with the dummy binary variables\n",
        "df = pd.read_csv('./heart_failure_clinical_records_dataset.csv')\n",
        "df_new=df\n",
        "dummy_list = []\n",
        "for i in binary_vars:\n",
        "    dummy = pd.get_dummies(df_new[i], prefix=i)\n",
        "    df_new.drop(i,axis=1,inplace= True) \n",
        "    df_new = df_new.join(dummy)\n",
        "    \n",
        "    dummy_names = dummy.columns.tolist() #last two lines inside loop is to create a list of names of dummy for deriving combination later\n",
        "    dummy_list.append(dummy_names)\n",
        "    \n",
        "df_new.head()"
      ],
      "execution_count": null,
      "outputs": [
        {
          "output_type": "execute_result",
          "data": {
            "text/html": [
              "<div>\n",
              "<style scoped>\n",
              "    .dataframe tbody tr th:only-of-type {\n",
              "        vertical-align: middle;\n",
              "    }\n",
              "\n",
              "    .dataframe tbody tr th {\n",
              "        vertical-align: top;\n",
              "    }\n",
              "\n",
              "    .dataframe thead th {\n",
              "        text-align: right;\n",
              "    }\n",
              "</style>\n",
              "<table border=\"1\" class=\"dataframe\">\n",
              "  <thead>\n",
              "    <tr style=\"text-align: right;\">\n",
              "      <th></th>\n",
              "      <th>age</th>\n",
              "      <th>creatinine_phosphokinase</th>\n",
              "      <th>ejection_fraction</th>\n",
              "      <th>platelets</th>\n",
              "      <th>serum_creatinine</th>\n",
              "      <th>serum_sodium</th>\n",
              "      <th>time</th>\n",
              "      <th>DEATH_EVENT</th>\n",
              "      <th>anaemia_0</th>\n",
              "      <th>anaemia_1</th>\n",
              "      <th>diabetes_0</th>\n",
              "      <th>diabetes_1</th>\n",
              "      <th>high_blood_pressure_0</th>\n",
              "      <th>high_blood_pressure_1</th>\n",
              "      <th>sex_0</th>\n",
              "      <th>sex_1</th>\n",
              "      <th>smoking_0</th>\n",
              "      <th>smoking_1</th>\n",
              "    </tr>\n",
              "  </thead>\n",
              "  <tbody>\n",
              "    <tr>\n",
              "      <th>0</th>\n",
              "      <td>75.0</td>\n",
              "      <td>582</td>\n",
              "      <td>20</td>\n",
              "      <td>265000.00</td>\n",
              "      <td>1.9</td>\n",
              "      <td>130</td>\n",
              "      <td>4</td>\n",
              "      <td>1</td>\n",
              "      <td>1</td>\n",
              "      <td>0</td>\n",
              "      <td>1</td>\n",
              "      <td>0</td>\n",
              "      <td>0</td>\n",
              "      <td>1</td>\n",
              "      <td>0</td>\n",
              "      <td>1</td>\n",
              "      <td>1</td>\n",
              "      <td>0</td>\n",
              "    </tr>\n",
              "    <tr>\n",
              "      <th>1</th>\n",
              "      <td>55.0</td>\n",
              "      <td>7861</td>\n",
              "      <td>38</td>\n",
              "      <td>263358.03</td>\n",
              "      <td>1.1</td>\n",
              "      <td>136</td>\n",
              "      <td>6</td>\n",
              "      <td>1</td>\n",
              "      <td>1</td>\n",
              "      <td>0</td>\n",
              "      <td>1</td>\n",
              "      <td>0</td>\n",
              "      <td>1</td>\n",
              "      <td>0</td>\n",
              "      <td>0</td>\n",
              "      <td>1</td>\n",
              "      <td>1</td>\n",
              "      <td>0</td>\n",
              "    </tr>\n",
              "    <tr>\n",
              "      <th>2</th>\n",
              "      <td>65.0</td>\n",
              "      <td>146</td>\n",
              "      <td>20</td>\n",
              "      <td>162000.00</td>\n",
              "      <td>1.3</td>\n",
              "      <td>129</td>\n",
              "      <td>7</td>\n",
              "      <td>1</td>\n",
              "      <td>1</td>\n",
              "      <td>0</td>\n",
              "      <td>1</td>\n",
              "      <td>0</td>\n",
              "      <td>1</td>\n",
              "      <td>0</td>\n",
              "      <td>0</td>\n",
              "      <td>1</td>\n",
              "      <td>0</td>\n",
              "      <td>1</td>\n",
              "    </tr>\n",
              "    <tr>\n",
              "      <th>3</th>\n",
              "      <td>50.0</td>\n",
              "      <td>111</td>\n",
              "      <td>20</td>\n",
              "      <td>210000.00</td>\n",
              "      <td>1.9</td>\n",
              "      <td>137</td>\n",
              "      <td>7</td>\n",
              "      <td>1</td>\n",
              "      <td>0</td>\n",
              "      <td>1</td>\n",
              "      <td>1</td>\n",
              "      <td>0</td>\n",
              "      <td>1</td>\n",
              "      <td>0</td>\n",
              "      <td>0</td>\n",
              "      <td>1</td>\n",
              "      <td>1</td>\n",
              "      <td>0</td>\n",
              "    </tr>\n",
              "    <tr>\n",
              "      <th>4</th>\n",
              "      <td>65.0</td>\n",
              "      <td>160</td>\n",
              "      <td>20</td>\n",
              "      <td>327000.00</td>\n",
              "      <td>2.7</td>\n",
              "      <td>116</td>\n",
              "      <td>8</td>\n",
              "      <td>1</td>\n",
              "      <td>0</td>\n",
              "      <td>1</td>\n",
              "      <td>0</td>\n",
              "      <td>1</td>\n",
              "      <td>1</td>\n",
              "      <td>0</td>\n",
              "      <td>1</td>\n",
              "      <td>0</td>\n",
              "      <td>1</td>\n",
              "      <td>0</td>\n",
              "    </tr>\n",
              "  </tbody>\n",
              "</table>\n",
              "</div>"
            ],
            "text/plain": [
              "    age  creatinine_phosphokinase  ejection_fraction  platelets  \\\n",
              "0  75.0                       582                 20  265000.00   \n",
              "1  55.0                      7861                 38  263358.03   \n",
              "2  65.0                       146                 20  162000.00   \n",
              "3  50.0                       111                 20  210000.00   \n",
              "4  65.0                       160                 20  327000.00   \n",
              "\n",
              "   serum_creatinine  serum_sodium  time  DEATH_EVENT  anaemia_0  anaemia_1  \\\n",
              "0               1.9           130     4            1          1          0   \n",
              "1               1.1           136     6            1          1          0   \n",
              "2               1.3           129     7            1          1          0   \n",
              "3               1.9           137     7            1          0          1   \n",
              "4               2.7           116     8            1          0          1   \n",
              "\n",
              "   diabetes_0  diabetes_1  high_blood_pressure_0  high_blood_pressure_1  \\\n",
              "0           1           0                      0                      1   \n",
              "1           1           0                      1                      0   \n",
              "2           1           0                      1                      0   \n",
              "3           1           0                      1                      0   \n",
              "4           0           1                      1                      0   \n",
              "\n",
              "   sex_0  sex_1  smoking_0  smoking_1  \n",
              "0      0      1          1          0  \n",
              "1      0      1          1          0  \n",
              "2      0      1          0          1  \n",
              "3      0      1          1          0  \n",
              "4      1      0          1          0  "
            ]
          },
          "metadata": {
            "tags": []
          },
          "execution_count": 24
        }
      ]
    },
    {
      "cell_type": "code",
      "metadata": {
        "id": "y_3Ams3ny2qa"
      },
      "source": [
        "predictors2 = df_new.columns.tolist()\n",
        "predictors2.remove('DEATH_EVENT')\n",
        "#predictors"
      ],
      "execution_count": null,
      "outputs": []
    },
    {
      "cell_type": "markdown",
      "metadata": {
        "id": "L10sui6my2qa"
      },
      "source": [
        "To ensure predictors are independent from each other, we do not simultaneously include the two variable that were split from the binary variable in our regression. We use iteration to come up with logit models with different combinations of predictors. "
      ]
    },
    {
      "cell_type": "code",
      "metadata": {
        "id": "RwKLvwOWy2qb"
      },
      "source": [
        "nonbinary_vars = [i for i in df.columns.tolist() if i not in binary_vars]\n",
        "nonbinary_vars.remove('DEATH_EVENT')\n",
        "#nonbinary_vars"
      ],
      "execution_count": null,
      "outputs": []
    },
    {
      "cell_type": "code",
      "metadata": {
        "id": "3panAsyHy2qb"
      },
      "source": [
        "binary_vars_combination = [p for p in itertools.product(*dummy_list)]\n",
        "#binary_vars_combination"
      ],
      "execution_count": null,
      "outputs": []
    },
    {
      "cell_type": "code",
      "metadata": {
        "id": "5SxYjtIIy2qb",
        "outputId": "eb79ff63-918a-4d8a-9af7-6288c809253f"
      },
      "source": [
        "AIC_min = 300\n",
        "acc_max = 0\n",
        "auc_max = 0\n",
        "global df_eval\n",
        "df_eval = pd.DataFrame(columns=['Combination','Predictors', 'Accuracy', 'Matthews_Coef', 'Precision', 'Recall', 'AUC', 'AIC'])\n",
        "\n",
        "for i in range(len(binary_vars_combination)):\n",
        "    #global df_eval\n",
        "    predictors_new =  nonbinary_vars + list(binary_vars_combination[i])\n",
        "    print('Combination', i)\n",
        "    \n",
        "    logitfit(df_new, predictors_new)\n",
        "    print(m.summary2())\n",
        "    \n",
        "    evaluation(df_new, predictors_new)\n",
        "    roc_auc(df_new, predictors_new)\n",
        "    \n",
        "    df_eval=df_eval.append({'Combination': i,'Predictors': predictors_new, 'Accuracy':acc, 'Matthews_Coef': mcc, 'Precision':prc, 'Recall':rec, 'AUC':auc, 'AIC':m.aic}, ignore_index=True)"
      ],
      "execution_count": null,
      "outputs": [
        {
          "output_type": "stream",
          "text": [
            "Combination 0\n",
            "                             Results: Logit\n",
            "========================================================================\n",
            "Model:                 Logit              Pseudo R-squared:   0.407     \n",
            "Dependent Variable:    DEATH_EVENT        AIC:                246.5655  \n",
            "Date:                  2020-12-12 14:08   BIC:                290.9708  \n",
            "No. Observations:      299                Log-Likelihood:     -111.28   \n",
            "Df Model:              11                 LL-Null:            -187.67   \n",
            "Df Residuals:          287                LLR p-value:        4.0214e-27\n",
            "Converged:             1.0000             Scale:              1.0000    \n",
            "No. Iterations:        7.0000                                           \n",
            "------------------------------------------------------------------------\n",
            "                          Coef.  Std.Err.    z    P>|z|   [0.025  0.975]\n",
            "------------------------------------------------------------------------\n",
            "age                       0.0523   0.0154  3.3880 0.0007  0.0220  0.0825\n",
            "creatinine_phosphokinase  0.0002   0.0002  1.2106 0.2260 -0.0001  0.0006\n",
            "ejection_fraction        -0.0761   0.0161 -4.7359 0.0000 -0.1075 -0.0446\n",
            "platelets                -0.0000   0.0000 -0.6004 0.5482 -0.0000  0.0000\n",
            "serum_creatinine          0.7153   0.1802  3.9694 0.0001  0.3621  1.0685\n",
            "serum_sodium              0.0002   0.0090  0.0179 0.9857 -0.0175  0.0178\n",
            "time                     -0.0206   0.0030 -6.9641 0.0000 -0.0264 -0.0148\n",
            "anaemia_0                 0.0863   0.3550  0.2431 0.8079 -0.6095  0.7821\n",
            "diabetes_0               -0.1986   0.3479 -0.5708 0.5681 -0.8805  0.4833\n",
            "high_blood_pressure_0     0.1259   0.3559  0.3538 0.7235 -0.5716  0.8233\n",
            "sex_0                     0.4944   0.4077  1.2127 0.2253 -0.3046  1.2933\n",
            "smoking_0                 0.0553   0.4085  0.1353 0.8923 -0.7454  0.8560\n",
            "========================================================================\n",
            "\n",
            "Accuracy of the model is: 84.61538 %. Matthews correlation coefficient between the estimates and the true response is: 0.63915. Model's precision is 0.79 and it's recall is 0.7083.\n",
            "Area under ROC curve = 0.89391\n",
            "Combination 1\n",
            "                             Results: Logit\n",
            "========================================================================\n",
            "Model:                 Logit              Pseudo R-squared:   0.407     \n",
            "Dependent Variable:    DEATH_EVENT        AIC:                246.5838  \n",
            "Date:                  2020-12-12 14:08   BIC:                290.9891  \n",
            "No. Observations:      299                Log-Likelihood:     -111.29   \n",
            "Df Model:              11                 LL-Null:            -187.67   \n",
            "Df Residuals:          287                LLR p-value:        4.0562e-27\n",
            "Converged:             1.0000             Scale:              1.0000    \n",
            "No. Iterations:        7.0000                                           \n",
            "------------------------------------------------------------------------\n",
            "                          Coef.  Std.Err.    z    P>|z|   [0.025  0.975]\n",
            "------------------------------------------------------------------------\n",
            "age                       0.0523   0.0154  3.3874 0.0007  0.0220  0.0826\n",
            "creatinine_phosphokinase  0.0002   0.0002  1.2178 0.2233 -0.0001  0.0006\n",
            "ejection_fraction        -0.0760   0.0161 -4.7351 0.0000 -0.1075 -0.0446\n",
            "platelets                -0.0000   0.0000 -0.6138 0.5393 -0.0000  0.0000\n",
            "serum_creatinine          0.7174   0.1800  3.9854 0.0001  0.3646  1.0703\n",
            "serum_sodium              0.0004   0.0089  0.0465 0.9629 -0.0170  0.0178\n",
            "time                     -0.0206   0.0030 -6.9615 0.0000 -0.0264 -0.0148\n",
            "anaemia_0                 0.0811   0.3554  0.2282 0.8195 -0.6154  0.7776\n",
            "diabetes_0               -0.2000   0.3477 -0.5751 0.5652 -0.8816  0.4816\n",
            "high_blood_pressure_0     0.1251   0.3560  0.3515 0.7252 -0.5726  0.8229\n",
            "sex_0                     0.5146   0.4087  1.2591 0.2080 -0.2865  1.3156\n",
            "smoking_1                -0.0032   0.4095 -0.0078 0.9938 -0.8057  0.7993\n",
            "========================================================================\n",
            "\n",
            "Accuracy of the model is: 84.61538 %. Matthews correlation coefficient between the estimates and the true response is: 0.63915. Model's precision is 0.79 and it's recall is 0.7083.\n",
            "Area under ROC curve = 0.89463\n",
            "Combination 2\n",
            "                             Results: Logit\n",
            "========================================================================\n",
            "Model:                 Logit              Pseudo R-squared:   0.406     \n",
            "Dependent Variable:    DEATH_EVENT        AIC:                246.8621  \n",
            "Date:                  2020-12-12 14:08   BIC:                291.2674  \n",
            "No. Observations:      299                Log-Likelihood:     -111.43   \n",
            "Df Model:              11                 LL-Null:            -187.67   \n",
            "Df Residuals:          287                LLR p-value:        4.6242e-27\n",
            "Converged:             1.0000             Scale:              1.0000    \n",
            "No. Iterations:        7.0000                                           \n",
            "------------------------------------------------------------------------\n",
            "                          Coef.  Std.Err.    z    P>|z|   [0.025  0.975]\n",
            "------------------------------------------------------------------------\n",
            "age                       0.0523   0.0154  3.3868 0.0007  0.0220  0.0825\n",
            "creatinine_phosphokinase  0.0002   0.0002  1.1938 0.2325 -0.0001  0.0006\n",
            "ejection_fraction        -0.0758   0.0160 -4.7254 0.0000 -0.1072 -0.0443\n",
            "platelets                -0.0000   0.0000 -0.5852 0.5584 -0.0000  0.0000\n",
            "serum_creatinine          0.7185   0.1803  3.9851 0.0001  0.3651  1.0719\n",
            "serum_sodium              0.0033   0.0093  0.3551 0.7225 -0.0149  0.0215\n",
            "time                     -0.0206   0.0030 -6.9617 0.0000 -0.0264 -0.0148\n",
            "anaemia_0                 0.0854   0.3550  0.2405 0.8099 -0.6105  0.7812\n",
            "diabetes_0               -0.2046   0.3476 -0.5887 0.5561 -0.8859  0.4766\n",
            "high_blood_pressure_0     0.1205   0.3557  0.3388 0.7348 -0.5766  0.8176\n",
            "sex_1                    -0.4396   0.4047 -1.0862 0.2774 -1.2327  0.3536\n",
            "smoking_0                 0.0782   0.4067  0.1922 0.8476 -0.7189  0.8752\n",
            "========================================================================\n",
            "\n",
            "Accuracy of the model is: 84.28094 %. Matthews correlation coefficient between the estimates and the true response is: 0.63061. Model's precision is 0.79 and it's recall is 0.6979.\n",
            "Area under ROC curve = 0.89486\n",
            "Combination 3\n",
            "                             Results: Logit\n",
            "========================================================================\n",
            "Model:                 Logit              Pseudo R-squared:   0.406     \n",
            "Dependent Variable:    DEATH_EVENT        AIC:                246.8955  \n",
            "Date:                  2020-12-12 14:08   BIC:                291.3008  \n",
            "No. Observations:      299                Log-Likelihood:     -111.45   \n",
            "Df Model:              11                 LL-Null:            -187.67   \n",
            "Df Residuals:          287                LLR p-value:        4.6975e-27\n",
            "Converged:             1.0000             Scale:              1.0000    \n",
            "No. Iterations:        7.0000                                           \n",
            "------------------------------------------------------------------------\n",
            "                          Coef.  Std.Err.    z    P>|z|   [0.025  0.975]\n",
            "------------------------------------------------------------------------\n",
            "age                       0.0523   0.0154  3.3874 0.0007  0.0220  0.0826\n",
            "creatinine_phosphokinase  0.0002   0.0002  1.2009 0.2298 -0.0001  0.0006\n",
            "ejection_fraction        -0.0757   0.0160 -4.7246 0.0000 -0.1071 -0.0443\n",
            "platelets                -0.0000   0.0000 -0.5990 0.5492 -0.0000  0.0000\n",
            "serum_creatinine          0.7209   0.1801  4.0029 0.0001  0.3679  1.0739\n",
            "serum_sodium              0.0038   0.0088  0.4363 0.6626 -0.0134  0.0211\n",
            "time                     -0.0205   0.0030 -6.9587 0.0000 -0.0263 -0.0148\n",
            "anaemia_0                 0.0803   0.3553  0.2260 0.8212 -0.6162  0.7768\n",
            "diabetes_0               -0.2063   0.3474 -0.5938 0.5526 -0.8872  0.4746\n",
            "high_blood_pressure_0     0.1197   0.3558  0.3365 0.7365 -0.5776  0.8170\n",
            "sex_1                    -0.4599   0.4065 -1.1314 0.2579 -1.2565  0.3368\n",
            "smoking_1                -0.0243   0.4084 -0.0595 0.9526 -0.8247  0.7761\n",
            "========================================================================\n",
            "\n",
            "Accuracy of the model is: 84.28094 %. Matthews correlation coefficient between the estimates and the true response is: 0.63061. Model's precision is 0.79 and it's recall is 0.6979.\n",
            "Area under ROC curve = 0.89432\n",
            "Combination 4\n",
            "                             Results: Logit\n",
            "========================================================================\n",
            "Model:                 Logit              Pseudo R-squared:   0.407     \n",
            "Dependent Variable:    DEATH_EVENT        AIC:                246.6319  \n",
            "Date:                  2020-12-12 14:08   BIC:                291.0372  \n",
            "No. Observations:      299                Log-Likelihood:     -111.32   \n",
            "Df Model:              11                 LL-Null:            -187.67   \n",
            "Df Residuals:          287                LLR p-value:        4.1492e-27\n",
            "Converged:             1.0000             Scale:              1.0000    \n",
            "No. Iterations:        7.0000                                           \n",
            "------------------------------------------------------------------------\n",
            "                          Coef.  Std.Err.    z    P>|z|   [0.025  0.975]\n",
            "------------------------------------------------------------------------\n",
            "age                       0.0523   0.0154  3.3863 0.0007  0.0220  0.0826\n",
            "creatinine_phosphokinase  0.0002   0.0002  1.2152 0.2243 -0.0001  0.0006\n",
            "ejection_fraction        -0.0760   0.0161 -4.7334 0.0000 -0.1075 -0.0445\n",
            "platelets                -0.0000   0.0000 -0.6059 0.5446 -0.0000  0.0000\n",
            "serum_creatinine          0.7164   0.1801  3.9785 0.0001  0.3634  1.0693\n",
            "serum_sodium              0.0009   0.0089  0.1066 0.9151 -0.0165  0.0184\n",
            "time                     -0.0205   0.0030 -6.9548 0.0000 -0.0263 -0.0148\n",
            "anaemia_0                 0.0867   0.3550  0.2443 0.8070 -0.6090  0.7825\n",
            "diabetes_0               -0.1998   0.3479 -0.5744 0.5657 -0.8817  0.4820\n",
            "high_blood_pressure_1    -0.0864   0.3555 -0.2430 0.8080 -0.7833  0.6105\n",
            "sex_0                     0.4877   0.4072  1.1976 0.2311 -0.3105  1.2859\n",
            "smoking_0                 0.0549   0.4085  0.1345 0.8930 -0.7456  0.8555\n",
            "========================================================================\n",
            "\n",
            "Accuracy of the model is: 84.61538 %. Matthews correlation coefficient between the estimates and the true response is: 0.63915. Model's precision is 0.79 and it's recall is 0.7083.\n",
            "Area under ROC curve = 0.89391\n",
            "Combination 5\n",
            "                             Results: Logit\n",
            "========================================================================\n",
            "Model:                 Logit              Pseudo R-squared:   0.407     \n",
            "Dependent Variable:    DEATH_EVENT        AIC:                246.6499  \n",
            "Date:                  2020-12-12 14:08   BIC:                291.0553  \n",
            "No. Observations:      299                Log-Likelihood:     -111.32   \n",
            "Df Model:              11                 LL-Null:            -187.67   \n",
            "Df Residuals:          287                LLR p-value:        4.1846e-27\n",
            "Converged:             1.0000             Scale:              1.0000    \n",
            "No. Iterations:        7.0000                                           \n",
            "------------------------------------------------------------------------\n",
            "                          Coef.  Std.Err.    z    P>|z|   [0.025  0.975]\n",
            "------------------------------------------------------------------------\n",
            "age                       0.0523   0.0154  3.3856 0.0007  0.0220  0.0826\n",
            "creatinine_phosphokinase  0.0002   0.0002  1.2225 0.2215 -0.0001  0.0006\n",
            "ejection_fraction        -0.0760   0.0161 -4.7326 0.0000 -0.1074 -0.0445\n",
            "platelets                -0.0000   0.0000 -0.6194 0.5356 -0.0000  0.0000\n",
            "serum_creatinine          0.7185   0.1799  3.9944 0.0001  0.3659  1.0710\n",
            "serum_sodium              0.0012   0.0088  0.1354 0.8923 -0.0160  0.0184\n",
            "time                     -0.0205   0.0030 -6.9523 0.0000 -0.0263 -0.0147\n",
            "anaemia_0                 0.0814   0.3553  0.2291 0.8188 -0.6150  0.7779\n",
            "diabetes_0               -0.2012   0.3477 -0.5786 0.5628 -0.8828  0.4803\n",
            "high_blood_pressure_1    -0.0854   0.3557 -0.2401 0.8102 -0.7825  0.6117\n",
            "sex_0                     0.5081   0.4084  1.2441 0.2135 -0.2923  1.3085\n",
            "smoking_1                -0.0022   0.4094 -0.0055 0.9956 -0.8046  0.8001\n",
            "========================================================================\n",
            "\n",
            "Accuracy of the model is: 84.94983 %. Matthews correlation coefficient between the estimates and the true response is: 0.64649. Model's precision is 0.80 and it's recall is 0.7083.\n",
            "Area under ROC curve = 0.89363\n",
            "Combination 6\n",
            "                             Results: Logit\n",
            "========================================================================\n",
            "Model:                 Logit              Pseudo R-squared:   0.406     \n",
            "Dependent Variable:    DEATH_EVENT        AIC:                246.9271  \n",
            "Date:                  2020-12-12 14:08   BIC:                291.3325  \n",
            "No. Observations:      299                Log-Likelihood:     -111.46   \n",
            "Df Model:              11                 LL-Null:            -187.67   \n",
            "Df Residuals:          287                LLR p-value:        4.7681e-27\n",
            "Converged:             1.0000             Scale:              1.0000    \n",
            "No. Iterations:        7.0000                                           \n",
            "------------------------------------------------------------------------\n",
            "                          Coef.  Std.Err.    z    P>|z|   [0.025  0.975]\n",
            "------------------------------------------------------------------------\n",
            "age                       0.0523   0.0154  3.3845 0.0007  0.0220  0.0825\n",
            "creatinine_phosphokinase  0.0002   0.0002  1.1986 0.2307 -0.0001  0.0006\n",
            "ejection_fraction        -0.0757   0.0160 -4.7228 0.0000 -0.1071 -0.0443\n",
            "platelets                -0.0000   0.0000 -0.5905 0.5548 -0.0000  0.0000\n",
            "serum_creatinine          0.7195   0.1802  3.9940 0.0001  0.3664  1.0726\n",
            "serum_sodium              0.0040   0.0093  0.4300 0.6672 -0.0142  0.0222\n",
            "time                     -0.0205   0.0030 -6.9519 0.0000 -0.0263 -0.0147\n",
            "anaemia_0                 0.0856   0.3550  0.2412 0.8094 -0.6102  0.7814\n",
            "diabetes_0               -0.2059   0.3476 -0.5924 0.5536 -0.8871  0.4753\n",
            "high_blood_pressure_1    -0.0794   0.3551 -0.2236 0.8231 -0.7754  0.6166\n",
            "sex_1                    -0.4323   0.4040 -1.0699 0.2847 -1.2241  0.3596\n",
            "smoking_0                 0.0778   0.4066  0.1914 0.8482 -0.7191  0.8748\n",
            "========================================================================\n",
            "\n",
            "Accuracy of the model is: 83.94649 %. Matthews correlation coefficient between the estimates and the true response is: 0.62332. Model's precision is 0.78 and it's recall is 0.6979.\n",
            "Area under ROC curve = 0.89470\n",
            "Combination 7\n",
            "                             Results: Logit\n",
            "========================================================================\n",
            "Model:                 Logit              Pseudo R-squared:   0.406     \n",
            "Dependent Variable:    DEATH_EVENT        AIC:                246.9605  \n",
            "Date:                  2020-12-12 14:08   BIC:                291.3658  \n",
            "No. Observations:      299                Log-Likelihood:     -111.48   \n",
            "Df Model:              11                 LL-Null:            -187.67   \n",
            "Df Residuals:          287                LLR p-value:        4.8435e-27\n",
            "Converged:             1.0000             Scale:              1.0000    \n",
            "No. Iterations:        7.0000                                           \n",
            "------------------------------------------------------------------------\n",
            "                          Coef.  Std.Err.    z    P>|z|   [0.025  0.975]\n",
            "------------------------------------------------------------------------\n",
            "age                       0.0523   0.0154  3.3850 0.0007  0.0220  0.0826\n",
            "creatinine_phosphokinase  0.0002   0.0002  1.2057 0.2279 -0.0001  0.0006\n",
            "ejection_fraction        -0.0756   0.0160 -4.7219 0.0000 -0.1070 -0.0442\n",
            "platelets                -0.0000   0.0000 -0.6045 0.5455 -0.0000  0.0000\n",
            "serum_creatinine          0.7219   0.1800  4.0116 0.0001  0.3692  1.0747\n",
            "serum_sodium              0.0045   0.0088  0.5131 0.6079 -0.0128  0.0218\n",
            "time                     -0.0205   0.0029 -6.9489 0.0000 -0.0263 -0.0147\n",
            "anaemia_0                 0.0805   0.3553  0.2264 0.8209 -0.6160  0.7769\n",
            "diabetes_0               -0.2075   0.3474 -0.5974 0.5502 -0.8884  0.4733\n",
            "high_blood_pressure_1    -0.0782   0.3552 -0.2202 0.8257 -0.7744  0.6180\n",
            "sex_1                    -0.4527   0.4059 -1.1152 0.2647 -1.2482  0.3429\n",
            "smoking_1                -0.0235   0.4083 -0.0575 0.9542 -0.8237  0.7767\n",
            "========================================================================\n",
            "\n",
            "Accuracy of the model is: 83.94649 %. Matthews correlation coefficient between the estimates and the true response is: 0.62332. Model's precision is 0.78 and it's recall is 0.6979.\n",
            "Area under ROC curve = 0.89445\n",
            "Combination 8\n",
            "                             Results: Logit\n",
            "========================================================================\n",
            "Model:                 Logit              Pseudo R-squared:   0.407     \n",
            "Dependent Variable:    DEATH_EVENT        AIC:                246.4329  \n",
            "Date:                  2020-12-12 14:08   BIC:                290.8382  \n",
            "No. Observations:      299                Log-Likelihood:     -111.22   \n",
            "Df Model:              11                 LL-Null:            -187.67   \n",
            "Df Residuals:          287                LLR p-value:        3.7780e-27\n",
            "Converged:             1.0000             Scale:              1.0000    \n",
            "No. Iterations:        7.0000                                           \n",
            "------------------------------------------------------------------------\n",
            "                          Coef.  Std.Err.    z    P>|z|   [0.025  0.975]\n",
            "------------------------------------------------------------------------\n",
            "age                       0.0524   0.0154  3.3928 0.0007  0.0221  0.0826\n",
            "creatinine_phosphokinase  0.0002   0.0002  1.2133 0.2250 -0.0001  0.0006\n",
            "ejection_fraction        -0.0761   0.0161 -4.7371 0.0000 -0.1077 -0.0446\n",
            "platelets                -0.0000   0.0000 -0.6069 0.5439 -0.0000  0.0000\n",
            "serum_creatinine          0.7158   0.1802  3.9715 0.0001  0.3626  1.0691\n",
            "serum_sodium             -0.0014   0.0090 -0.1504 0.8805 -0.0191  0.0163\n",
            "time                     -0.0206   0.0030 -6.9668 0.0000 -0.0264 -0.0148\n",
            "anaemia_0                 0.0837   0.3551  0.2356 0.8137 -0.6123  0.7797\n",
            "diabetes_1                0.2339   0.3456  0.6768 0.4986 -0.4435  0.9113\n",
            "high_blood_pressure_0     0.1245   0.3561  0.3496 0.7266 -0.5734  0.8224\n",
            "sex_0                     0.4916   0.4078  1.2055 0.2280 -0.3076  1.2908\n",
            "smoking_0                 0.0528   0.4088  0.1293 0.8972 -0.7483  0.8540\n",
            "========================================================================\n",
            "\n",
            "Accuracy of the model is: 84.28094 %. Matthews correlation coefficient between the estimates and the true response is: 0.63061. Model's precision is 0.79 and it's recall is 0.6979.\n",
            "Area under ROC curve = 0.89417\n",
            "Combination 9\n",
            "                             Results: Logit\n",
            "========================================================================\n",
            "Model:                 Logit              Pseudo R-squared:   0.407     \n",
            "Dependent Variable:    DEATH_EVENT        AIC:                246.4496  \n",
            "Date:                  2020-12-12 14:08   BIC:                290.8549  \n",
            "No. Observations:      299                Log-Likelihood:     -111.22   \n",
            "Df Model:              11                 LL-Null:            -187.67   \n",
            "Df Residuals:          287                LLR p-value:        3.8078e-27\n",
            "Converged:             1.0000             Scale:              1.0000    \n",
            "No. Iterations:        7.0000                                           \n",
            "------------------------------------------------------------------------\n",
            "                          Coef.  Std.Err.    z    P>|z|   [0.025  0.975]\n",
            "------------------------------------------------------------------------\n",
            "age                       0.0524   0.0154  3.3919 0.0007  0.0221  0.0826\n",
            "creatinine_phosphokinase  0.0002   0.0002  1.2202 0.2224 -0.0001  0.0006\n",
            "ejection_fraction        -0.0761   0.0161 -4.7363 0.0000 -0.1076 -0.0446\n",
            "platelets                -0.0000   0.0000 -0.6200 0.5353 -0.0000  0.0000\n",
            "serum_creatinine          0.7178   0.1800  3.9873 0.0001  0.3650  1.0707\n",
            "serum_sodium             -0.0011   0.0089 -0.1264 0.8994 -0.0186  0.0164\n",
            "time                     -0.0206   0.0030 -6.9643 0.0000 -0.0264 -0.0148\n",
            "anaemia_0                 0.0786   0.3555  0.2210 0.8251 -0.6182  0.7753\n",
            "diabetes_1                0.2354   0.3454  0.6815 0.4955 -0.4416  0.9124\n",
            "high_blood_pressure_0     0.1238   0.3562  0.3475 0.7282 -0.5744  0.8219\n",
            "sex_0                     0.5112   0.4089  1.2504 0.2112 -0.2901  1.3126\n",
            "smoking_1                -0.0022   0.4096 -0.0053 0.9957 -0.8051  0.8007\n",
            "========================================================================\n",
            "\n",
            "Accuracy of the model is: 84.28094 %. Matthews correlation coefficient between the estimates and the true response is: 0.63061. Model's precision is 0.79 and it's recall is 0.6979.\n",
            "Area under ROC curve = 0.89368\n",
            "Combination 10\n",
            "                             Results: Logit\n",
            "========================================================================\n",
            "Model:                 Logit              Pseudo R-squared:   0.407     \n",
            "Dependent Variable:    DEATH_EVENT        AIC:                246.7196  \n",
            "Date:                  2020-12-12 14:08   BIC:                291.1250  \n",
            "No. Observations:      299                Log-Likelihood:     -111.36   \n",
            "Df Model:              11                 LL-Null:            -187.67   \n",
            "Df Residuals:          287                LLR p-value:        4.3242e-27\n",
            "Converged:             1.0000             Scale:              1.0000    \n",
            "No. Iterations:        7.0000                                           \n",
            "------------------------------------------------------------------------\n",
            "                          Coef.  Std.Err.    z    P>|z|   [0.025  0.975]\n",
            "------------------------------------------------------------------------\n",
            "age                       0.0523   0.0154  3.3919 0.0007  0.0221  0.0826\n",
            "creatinine_phosphokinase  0.0002   0.0002  1.1971 0.2313 -0.0001  0.0006\n",
            "ejection_fraction        -0.0758   0.0160 -4.7271 0.0000 -0.1073 -0.0444\n",
            "platelets                -0.0000   0.0000 -0.5922 0.5537 -0.0000  0.0000\n",
            "serum_creatinine          0.7190   0.1803  3.9873 0.0001  0.3656  1.0724\n",
            "serum_sodium              0.0017   0.0094  0.1829 0.8549 -0.0166  0.0201\n",
            "time                     -0.0206   0.0030 -6.9645 0.0000 -0.0263 -0.0148\n",
            "anaemia_0                 0.0828   0.3551  0.2332 0.8156 -0.6133  0.7789\n",
            "diabetes_1                0.2413   0.3452  0.6989 0.4846 -0.4353  0.9179\n",
            "high_blood_pressure_0     0.1192   0.3559  0.3350 0.7377 -0.5783  0.8167\n",
            "sex_1                    -0.4381   0.4046 -1.0827 0.2789 -1.2312  0.3550\n",
            "smoking_0                 0.0751   0.4070  0.1844 0.8537 -0.7226  0.8727\n",
            "========================================================================\n",
            "\n",
            "Accuracy of the model is: 84.28094 %. Matthews correlation coefficient between the estimates and the true response is: 0.63061. Model's precision is 0.79 and it's recall is 0.6979.\n",
            "Area under ROC curve = 0.89483\n",
            "Combination 11\n",
            "                             Results: Logit\n",
            "========================================================================\n",
            "Model:                 Logit              Pseudo R-squared:   0.407     \n",
            "Dependent Variable:    DEATH_EVENT        AIC:                246.7506  \n",
            "Date:                  2020-12-12 14:08   BIC:                291.1559  \n",
            "No. Observations:      299                Log-Likelihood:     -111.38   \n",
            "Df Model:              11                 LL-Null:            -187.67   \n",
            "Df Residuals:          287                LLR p-value:        4.3877e-27\n",
            "Converged:             1.0000             Scale:              1.0000    \n",
            "No. Iterations:        7.0000                                           \n",
            "------------------------------------------------------------------------\n",
            "                          Coef.  Std.Err.    z    P>|z|   [0.025  0.975]\n",
            "------------------------------------------------------------------------\n",
            "age                       0.0524   0.0154  3.3923 0.0007  0.0221  0.0826\n",
            "creatinine_phosphokinase  0.0002   0.0002  1.2039 0.2286 -0.0001  0.0006\n",
            "ejection_fraction        -0.0758   0.0160 -4.7263 0.0000 -0.1072 -0.0444\n",
            "platelets                -0.0000   0.0000 -0.6058 0.5447 -0.0000  0.0000\n",
            "serum_creatinine          0.7213   0.1801  4.0047 0.0001  0.3683  1.0744\n",
            "serum_sodium              0.0022   0.0089  0.2497 0.8028 -0.0153  0.0197\n",
            "time                     -0.0205   0.0030 -6.9616 0.0000 -0.0263 -0.0148\n",
            "anaemia_0                 0.0778   0.3555  0.2190 0.8267 -0.6188  0.7745\n",
            "diabetes_1                0.2432   0.3450  0.7050 0.4808 -0.4329  0.9194\n",
            "high_blood_pressure_0     0.1185   0.3560  0.3328 0.7393 -0.5793  0.8162\n",
            "sex_1                    -0.4579   0.4065 -1.1264 0.2600 -1.2545  0.3388\n",
            "smoking_1                -0.0227   0.4086 -0.0555 0.9557 -0.8235  0.7781\n",
            "========================================================================\n",
            "\n",
            "Accuracy of the model is: 84.28094 %. Matthews correlation coefficient between the estimates and the true response is: 0.63061. Model's precision is 0.79 and it's recall is 0.6979.\n",
            "Area under ROC curve = 0.89535\n",
            "Combination 12\n",
            "                             Results: Logit\n",
            "========================================================================\n",
            "Model:                 Logit              Pseudo R-squared:   0.407     \n",
            "Dependent Variable:    DEATH_EVENT        AIC:                246.4969  \n",
            "Date:                  2020-12-12 14:08   BIC:                290.9022  \n",
            "No. Observations:      299                Log-Likelihood:     -111.25   \n",
            "Df Model:              11                 LL-Null:            -187.67   \n",
            "Df Residuals:          287                LLR p-value:        3.8936e-27\n",
            "Converged:             1.0000             Scale:              1.0000    \n",
            "No. Iterations:        7.0000                                           \n",
            "------------------------------------------------------------------------\n",
            "                          Coef.  Std.Err.    z    P>|z|   [0.025  0.975]\n",
            "------------------------------------------------------------------------\n",
            "age                       0.0523   0.0154  3.3913 0.0007  0.0221  0.0826\n",
            "creatinine_phosphokinase  0.0002   0.0002  1.2178 0.2233 -0.0001  0.0006\n",
            "ejection_fraction        -0.0761   0.0161 -4.7347 0.0000 -0.1076 -0.0446\n",
            "platelets                -0.0000   0.0000 -0.6123 0.5404 -0.0000  0.0000\n",
            "serum_creatinine          0.7168   0.1801  3.9806 0.0001  0.3639  1.0698\n",
            "serum_sodium             -0.0006   0.0089 -0.0661 0.9473 -0.0181  0.0169\n",
            "time                     -0.0205   0.0030 -6.9580 0.0000 -0.0263 -0.0148\n",
            "anaemia_0                 0.0841   0.3551  0.2368 0.8128 -0.6119  0.7800\n",
            "diabetes_1                0.2355   0.3456  0.6816 0.4955 -0.4418  0.9128\n",
            "high_blood_pressure_1    -0.0861   0.3557 -0.2420 0.8088 -0.7833  0.6111\n",
            "sex_0                     0.4850   0.4073  1.1908 0.2337 -0.3133  1.2834\n",
            "smoking_0                 0.0525   0.4087  0.1284 0.8978 -0.7485  0.8535\n",
            "========================================================================\n",
            "\n",
            "Accuracy of the model is: 84.61538 %. Matthews correlation coefficient between the estimates and the true response is: 0.63915. Model's precision is 0.79 and it's recall is 0.7083.\n",
            "Area under ROC curve = 0.89447\n",
            "Combination 13\n",
            "                             Results: Logit\n",
            "========================================================================\n",
            "Model:                 Logit              Pseudo R-squared:   0.407     \n",
            "Dependent Variable:    DEATH_EVENT        AIC:                246.5134  \n",
            "Date:                  2020-12-12 14:08   BIC:                290.9187  \n",
            "No. Observations:      299                Log-Likelihood:     -111.26   \n",
            "Df Model:              11                 LL-Null:            -187.67   \n",
            "Df Residuals:          287                LLR p-value:        3.9239e-27\n",
            "Converged:             1.0000             Scale:              1.0000    \n",
            "No. Iterations:        7.0000                                           \n",
            "------------------------------------------------------------------------\n",
            "                          Coef.  Std.Err.    z    P>|z|   [0.025  0.975]\n",
            "------------------------------------------------------------------------\n",
            "age                       0.0524   0.0154  3.3903 0.0007  0.0221  0.0826\n",
            "creatinine_phosphokinase  0.0002   0.0002  1.2249 0.2206 -0.0001  0.0006\n",
            "ejection_fraction        -0.0760   0.0161 -4.7339 0.0000 -0.1075 -0.0446\n",
            "platelets                -0.0000   0.0000 -0.6255 0.5316 -0.0000  0.0000\n",
            "serum_creatinine          0.7189   0.1799  3.9962 0.0001  0.3663  1.0715\n",
            "serum_sodium             -0.0004   0.0088 -0.0419 0.9666 -0.0177  0.0170\n",
            "time                     -0.0205   0.0030 -6.9556 0.0000 -0.0263 -0.0147\n",
            "anaemia_0                 0.0789   0.3554  0.2220 0.8243 -0.6177  0.7756\n",
            "diabetes_1                0.2370   0.3454  0.6863 0.4925 -0.4399  0.9139\n",
            "high_blood_pressure_1    -0.0851   0.3559 -0.2393 0.8109 -0.7826  0.6123\n",
            "sex_0                     0.5048   0.4085  1.2358 0.2165 -0.2958  1.3055\n",
            "smoking_1                -0.0013   0.4095 -0.0031 0.9975 -0.8040  0.8014\n",
            "========================================================================\n",
            "\n",
            "Accuracy of the model is: 84.61538 %. Matthews correlation coefficient between the estimates and the true response is: 0.63915. Model's precision is 0.79 and it's recall is 0.7083.\n",
            "Area under ROC curve = 0.89347\n",
            "Combination 14\n",
            "                             Results: Logit\n",
            "========================================================================\n",
            "Model:                 Logit              Pseudo R-squared:   0.406     \n",
            "Dependent Variable:    DEATH_EVENT        AIC:                246.7824  \n",
            "Date:                  2020-12-12 14:08   BIC:                291.1877  \n",
            "No. Observations:      299                Log-Likelihood:     -111.39   \n",
            "Df Model:              11                 LL-Null:            -187.67   \n",
            "Df Residuals:          287                LLR p-value:        4.4539e-27\n",
            "Converged:             1.0000             Scale:              1.0000    \n",
            "No. Iterations:        7.0000                                           \n",
            "------------------------------------------------------------------------\n",
            "                          Coef.  Std.Err.    z    P>|z|   [0.025  0.975]\n",
            "------------------------------------------------------------------------\n",
            "age                       0.0523   0.0154  3.3898 0.0007  0.0221  0.0826\n",
            "creatinine_phosphokinase  0.0002   0.0002  1.2018 0.2294 -0.0001  0.0006\n",
            "ejection_fraction        -0.0758   0.0160 -4.7245 0.0000 -0.1072 -0.0443\n",
            "platelets                -0.0000   0.0000 -0.5976 0.5501 -0.0000  0.0000\n",
            "serum_creatinine          0.7200   0.1802  3.9961 0.0001  0.3669  1.0731\n",
            "serum_sodium              0.0024   0.0094  0.2549 0.7988 -0.0160  0.0208\n",
            "time                     -0.0205   0.0029 -6.9552 0.0000 -0.0263 -0.0147\n",
            "anaemia_0                 0.0831   0.3551  0.2339 0.8151 -0.6130  0.7791\n",
            "diabetes_1                0.2429   0.3452  0.7037 0.4816 -0.4336  0.9194\n",
            "high_blood_pressure_1    -0.0792   0.3553 -0.2230 0.8236 -0.7756  0.6172\n",
            "sex_1                    -0.4309   0.4040 -1.0668 0.2861 -1.2227  0.3608\n",
            "smoking_0                 0.0748   0.4069  0.1837 0.8542 -0.7228  0.8723\n",
            "========================================================================\n",
            "\n",
            "Accuracy of the model is: 83.94649 %. Matthews correlation coefficient between the estimates and the true response is: 0.62332. Model's precision is 0.78 and it's recall is 0.6979.\n",
            "Area under ROC curve = 0.89494\n",
            "Combination 15\n",
            "                             Results: Logit\n",
            "========================================================================\n",
            "Model:                 Logit              Pseudo R-squared:   0.406     \n",
            "Dependent Variable:    DEATH_EVENT        AIC:                246.8133  \n",
            "Date:                  2020-12-12 14:08   BIC:                291.2186  \n",
            "No. Observations:      299                Log-Likelihood:     -111.41   \n",
            "Df Model:              11                 LL-Null:            -187.67   \n",
            "Df Residuals:          287                LLR p-value:        4.5192e-27\n",
            "Converged:             1.0000             Scale:              1.0000    \n",
            "No. Iterations:        7.0000                                           \n",
            "------------------------------------------------------------------------\n",
            "                          Coef.  Std.Err.    z    P>|z|   [0.025  0.975]\n",
            "------------------------------------------------------------------------\n",
            "age                       0.0523   0.0154  3.3901 0.0007  0.0221  0.0826\n",
            "creatinine_phosphokinase  0.0002   0.0002  1.2088 0.2268 -0.0001  0.0006\n",
            "ejection_fraction        -0.0757   0.0160 -4.7237 0.0000 -0.1072 -0.0443\n",
            "platelets                -0.0000   0.0000 -0.6113 0.5410 -0.0000  0.0000\n",
            "serum_creatinine          0.7224   0.1800  4.0134 0.0001  0.3696  1.0751\n",
            "serum_sodium              0.0029   0.0090  0.3236 0.7463 -0.0147  0.0205\n",
            "time                     -0.0205   0.0029 -6.9523 0.0000 -0.0263 -0.0147\n",
            "anaemia_0                 0.0780   0.3554  0.2195 0.8263 -0.6186  0.7746\n",
            "diabetes_1                0.2448   0.3449  0.7097 0.4779 -0.4313  0.9209\n",
            "high_blood_pressure_1    -0.0781   0.3554 -0.2197 0.8261 -0.7747  0.6185\n",
            "sex_1                    -0.4508   0.4059 -1.1106 0.2667 -1.2462  0.3447\n",
            "smoking_1                -0.0219   0.4085 -0.0536 0.9573 -0.8225  0.7788\n",
            "========================================================================\n",
            "\n",
            "Accuracy of the model is: 84.28094 %. Matthews correlation coefficient between the estimates and the true response is: 0.63061. Model's precision is 0.79 and it's recall is 0.6979.\n",
            "Area under ROC curve = 0.89422\n",
            "Combination 16\n",
            "                             Results: Logit\n",
            "========================================================================\n",
            "Model:                 Logit              Pseudo R-squared:   0.407     \n",
            "Dependent Variable:    DEATH_EVENT        AIC:                246.6073  \n",
            "Date:                  2020-12-12 14:08   BIC:                291.0126  \n",
            "No. Observations:      299                Log-Likelihood:     -111.30   \n",
            "Df Model:              11                 LL-Null:            -187.67   \n",
            "Df Residuals:          287                LLR p-value:        4.1014e-27\n",
            "Converged:             1.0000             Scale:              1.0000    \n",
            "No. Iterations:        7.0000                                           \n",
            "------------------------------------------------------------------------\n",
            "                          Coef.  Std.Err.    z    P>|z|   [0.025  0.975]\n",
            "------------------------------------------------------------------------\n",
            "age                       0.0523   0.0154  3.3858 0.0007  0.0220  0.0826\n",
            "creatinine_phosphokinase  0.0002   0.0002  1.2278 0.2195 -0.0001  0.0006\n",
            "ejection_fraction        -0.0760   0.0161 -4.7368 0.0000 -0.1075 -0.0446\n",
            "platelets                -0.0000   0.0000 -0.5955 0.5515 -0.0000  0.0000\n",
            "serum_creatinine          0.7156   0.1803  3.9681 0.0001  0.3621  1.0690\n",
            "serum_sodium              0.0006   0.0090  0.0696 0.9445 -0.0170  0.0183\n",
            "time                     -0.0205   0.0030 -6.9582 0.0000 -0.0263 -0.0148\n",
            "anaemia_1                -0.0471   0.3568 -0.1320 0.8950 -0.7465  0.6523\n",
            "diabetes_0               -0.1995   0.3478 -0.5736 0.5663 -0.8812  0.4822\n",
            "high_blood_pressure_0     0.1257   0.3559  0.3532 0.7240 -0.5719  0.8233\n",
            "sex_0                     0.4897   0.4076  1.2015 0.2295 -0.3091  1.2885\n",
            "smoking_0                 0.0502   0.4087  0.1229 0.9022 -0.7509  0.8513\n",
            "========================================================================\n",
            "\n",
            "Accuracy of the model is: 84.28094 %. Matthews correlation coefficient between the estimates and the true response is: 0.63061. Model's precision is 0.79 and it's recall is 0.6979.\n",
            "Area under ROC curve = 0.89447\n",
            "Combination 17\n",
            "                             Results: Logit\n",
            "========================================================================\n",
            "Model:                 Logit              Pseudo R-squared:   0.407     \n",
            "Dependent Variable:    DEATH_EVENT        AIC:                246.6224  \n",
            "Date:                  2020-12-12 14:08   BIC:                291.0277  \n",
            "No. Observations:      299                Log-Likelihood:     -111.31   \n",
            "Df Model:              11                 LL-Null:            -187.67   \n",
            "Df Residuals:          287                LLR p-value:        4.1306e-27\n",
            "Converged:             1.0000             Scale:              1.0000    \n",
            "No. Iterations:        7.0000                                           \n",
            "------------------------------------------------------------------------\n",
            "                          Coef.  Std.Err.    z    P>|z|   [0.025  0.975]\n",
            "------------------------------------------------------------------------\n",
            "age                       0.0523   0.0155  3.3849 0.0007  0.0220  0.0826\n",
            "creatinine_phosphokinase  0.0002   0.0002  1.2353 0.2167 -0.0001  0.0006\n",
            "ejection_fraction        -0.0760   0.0160 -4.7360 0.0000 -0.1074 -0.0445\n",
            "platelets                -0.0000   0.0000 -0.6089 0.5426 -0.0000  0.0000\n",
            "serum_creatinine          0.7177   0.1801  3.9839 0.0001  0.3646  1.0707\n",
            "serum_sodium              0.0008   0.0090  0.0892 0.9289 -0.0168  0.0184\n",
            "time                     -0.0205   0.0029 -6.9558 0.0000 -0.0263 -0.0147\n",
            "anaemia_1                -0.0415   0.3570 -0.1164 0.9074 -0.7413  0.6583\n",
            "diabetes_0               -0.2008   0.3477 -0.5777 0.5635 -0.8822  0.4806\n",
            "high_blood_pressure_0     0.1249   0.3561  0.3508 0.7257 -0.5729  0.8228\n",
            "sex_0                     0.5102   0.4087  1.2484 0.2119 -0.2908  1.3112\n",
            "smoking_1                 0.0026   0.4095  0.0064 0.9949 -0.8000  0.8052\n",
            "========================================================================\n",
            "\n",
            "Accuracy of the model is: 84.28094 %. Matthews correlation coefficient between the estimates and the true response is: 0.63061. Model's precision is 0.79 and it's recall is 0.6979.\n",
            "Area under ROC curve = 0.89437\n",
            "Combination 18\n",
            "                             Results: Logit\n",
            "========================================================================\n",
            "Model:                 Logit              Pseudo R-squared:   0.406     \n",
            "Dependent Variable:    DEATH_EVENT        AIC:                246.9045  \n",
            "Date:                  2020-12-12 14:08   BIC:                291.3098  \n",
            "No. Observations:      299                Log-Likelihood:     -111.45   \n",
            "Df Model:              11                 LL-Null:            -187.67   \n",
            "Df Residuals:          287                LLR p-value:        4.7174e-27\n",
            "Converged:             1.0000             Scale:              1.0000    \n",
            "No. Iterations:        7.0000                                           \n",
            "------------------------------------------------------------------------\n",
            "                          Coef.  Std.Err.    z    P>|z|   [0.025  0.975]\n",
            "------------------------------------------------------------------------\n",
            "age                       0.0523   0.0154  3.3839 0.0007  0.0220  0.0825\n",
            "creatinine_phosphokinase  0.0002   0.0002  1.2115 0.2257 -0.0001  0.0006\n",
            "ejection_fraction        -0.0757   0.0160 -4.7263 0.0000 -0.1071 -0.0443\n",
            "platelets                -0.0000   0.0000 -0.5800 0.5619 -0.0000  0.0000\n",
            "serum_creatinine          0.7187   0.1804  3.9835 0.0001  0.3651  1.0724\n",
            "serum_sodium              0.0037   0.0094  0.3966 0.6916 -0.0146  0.0220\n",
            "time                     -0.0205   0.0029 -6.9554 0.0000 -0.0263 -0.0147\n",
            "anaemia_1                -0.0445   0.3567 -0.1248 0.9007 -0.7436  0.6546\n",
            "diabetes_0               -0.2055   0.3475 -0.5915 0.5542 -0.8866  0.4756\n",
            "high_blood_pressure_0     0.1202   0.3557  0.3379 0.7354 -0.5770  0.8174\n",
            "sex_1                    -0.4341   0.4044 -1.0734 0.2831 -1.2266  0.3585\n",
            "smoking_0                 0.0732   0.4069  0.1798 0.8573 -0.7244  0.8708\n",
            "========================================================================\n",
            "\n",
            "Accuracy of the model is: 83.94649 %. Matthews correlation coefficient between the estimates and the true response is: 0.62332. Model's precision is 0.78 and it's recall is 0.6979.\n",
            "Area under ROC curve = 0.89519\n",
            "Combination 19\n",
            "                             Results: Logit\n",
            "========================================================================\n",
            "Model:                 Logit              Pseudo R-squared:   0.406     \n",
            "Dependent Variable:    DEATH_EVENT        AIC:                246.9347  \n",
            "Date:                  2020-12-12 14:08   BIC:                291.3400  \n",
            "No. Observations:      299                Log-Likelihood:     -111.47   \n",
            "Df Model:              11                 LL-Null:            -187.67   \n",
            "Df Residuals:          287                LLR p-value:        4.7851e-27\n",
            "Converged:             1.0000             Scale:              1.0000    \n",
            "No. Iterations:        7.0000                                           \n",
            "------------------------------------------------------------------------\n",
            "                          Coef.  Std.Err.    z    P>|z|   [0.025  0.975]\n",
            "------------------------------------------------------------------------\n",
            "age                       0.0523   0.0155  3.3843 0.0007  0.0220  0.0826\n",
            "creatinine_phosphokinase  0.0002   0.0002  1.2188 0.2229 -0.0001  0.0006\n",
            "ejection_fraction        -0.0757   0.0160 -4.7254 0.0000 -0.1071 -0.0443\n",
            "platelets                -0.0000   0.0000 -0.5937 0.5527 -0.0000  0.0000\n",
            "serum_creatinine          0.7211   0.1802  4.0010 0.0001  0.3679  1.0744\n",
            "serum_sodium              0.0042   0.0090  0.4655 0.6416 -0.0134  0.0218\n",
            "time                     -0.0205   0.0029 -6.9525 0.0000 -0.0263 -0.0147\n",
            "anaemia_1                -0.0389   0.3568 -0.1091 0.9131 -0.7383  0.6605\n",
            "diabetes_0               -0.2072   0.3473 -0.5965 0.5509 -0.8879  0.4736\n",
            "high_blood_pressure_0     0.1194   0.3558  0.3355 0.7373 -0.5780  0.8168\n",
            "sex_1                    -0.4547   0.4062 -1.1192 0.2630 -1.2509  0.3415\n",
            "smoking_1                -0.0186   0.4084 -0.0455 0.9637 -0.8191  0.7820\n",
            "========================================================================\n",
            "\n",
            "Accuracy of the model is: 84.28094 %. Matthews correlation coefficient between the estimates and the true response is: 0.63061. Model's precision is 0.79 and it's recall is 0.6979.\n",
            "Area under ROC curve = 0.89537\n",
            "Combination 20\n",
            "                             Results: Logit\n",
            "========================================================================\n",
            "Model:                 Logit              Pseudo R-squared:   0.407     \n",
            "Dependent Variable:    DEATH_EVENT        AIC:                246.6743  \n",
            "Date:                  2020-12-12 14:08   BIC:                291.0796  \n",
            "No. Observations:      299                Log-Likelihood:     -111.34   \n",
            "Df Model:              11                 LL-Null:            -187.67   \n",
            "Df Residuals:          287                LLR p-value:        4.2329e-27\n",
            "Converged:             1.0000             Scale:              1.0000    \n",
            "No. Iterations:        7.0000                                           \n",
            "------------------------------------------------------------------------\n",
            "                          Coef.  Std.Err.    z    P>|z|   [0.025  0.975]\n",
            "------------------------------------------------------------------------\n",
            "age                       0.0523   0.0155  3.3841 0.0007  0.0220  0.0826\n",
            "creatinine_phosphokinase  0.0002   0.0002  1.2327 0.2177 -0.0001  0.0006\n",
            "ejection_fraction        -0.0760   0.0160 -4.7344 0.0000 -0.1074 -0.0445\n",
            "platelets                -0.0000   0.0000 -0.6009 0.5479 -0.0000  0.0000\n",
            "serum_creatinine          0.7166   0.1802  3.9770 0.0001  0.3635  1.0698\n",
            "serum_sodium              0.0014   0.0089  0.1585 0.8740 -0.0160  0.0188\n",
            "time                     -0.0205   0.0029 -6.9492 0.0000 -0.0263 -0.0147\n",
            "anaemia_1                -0.0471   0.3568 -0.1319 0.8951 -0.7463  0.6522\n",
            "diabetes_0               -0.2007   0.3478 -0.5772 0.5638 -0.8824  0.4809\n",
            "high_blood_pressure_1    -0.0857   0.3556 -0.2409 0.8096 -0.7825  0.6112\n",
            "sex_0                     0.4829   0.4071  1.1863 0.2355 -0.3150  1.2809\n",
            "smoking_0                 0.0498   0.4087  0.1218 0.9030 -0.7512  0.8508\n",
            "========================================================================\n",
            "\n",
            "Accuracy of the model is: 84.61538 %. Matthews correlation coefficient between the estimates and the true response is: 0.63915. Model's precision is 0.79 and it's recall is 0.7083.\n",
            "Area under ROC curve = 0.89427\n",
            "Combination 21\n",
            "                             Results: Logit\n",
            "========================================================================\n",
            "Model:                 Logit              Pseudo R-squared:   0.407     \n",
            "Dependent Variable:    DEATH_EVENT        AIC:                246.6891  \n",
            "Date:                  2020-12-12 14:08   BIC:                291.0944  \n",
            "No. Observations:      299                Log-Likelihood:     -111.34   \n",
            "Df Model:              11                 LL-Null:            -187.67   \n",
            "Df Residuals:          287                LLR p-value:        4.2624e-27\n",
            "Converged:             1.0000             Scale:              1.0000    \n",
            "No. Iterations:        7.0000                                           \n",
            "------------------------------------------------------------------------\n",
            "                          Coef.  Std.Err.    z    P>|z|   [0.025  0.975]\n",
            "------------------------------------------------------------------------\n",
            "age                       0.0523   0.0155  3.3830 0.0007  0.0220  0.0826\n",
            "creatinine_phosphokinase  0.0002   0.0002  1.2402 0.2149 -0.0001  0.0006\n",
            "ejection_fraction        -0.0759   0.0160 -4.7335 0.0000 -0.1074 -0.0445\n",
            "platelets                -0.0000   0.0000 -0.6145 0.5389 -0.0000  0.0000\n",
            "serum_creatinine          0.7187   0.1800  3.9927 0.0001  0.3659  1.0716\n",
            "serum_sodium              0.0016   0.0089  0.1769 0.8596 -0.0159  0.0190\n",
            "time                     -0.0205   0.0029 -6.9469 0.0000 -0.0262 -0.0147\n",
            "anaemia_1                -0.0414   0.3570 -0.1161 0.9076 -0.7411  0.6582\n",
            "diabetes_0               -0.2021   0.3476 -0.5812 0.5611 -0.8834  0.4793\n",
            "high_blood_pressure_1    -0.0847   0.3557 -0.2380 0.8119 -0.7818  0.6125\n",
            "sex_0                     0.5036   0.4083  1.2333 0.2175 -0.2967  1.3039\n",
            "smoking_1                 0.0036   0.4094  0.0089 0.9929 -0.7988  0.8060\n",
            "========================================================================\n",
            "\n",
            "Accuracy of the model is: 84.61538 %. Matthews correlation coefficient between the estimates and the true response is: 0.63915. Model's precision is 0.79 and it's recall is 0.7083.\n",
            "Area under ROC curve = 0.89368\n",
            "Combination 22\n",
            "                             Results: Logit\n",
            "========================================================================\n",
            "Model:                 Logit              Pseudo R-squared:   0.406     \n",
            "Dependent Variable:    DEATH_EVENT        AIC:                246.9700  \n",
            "Date:                  2020-12-12 14:08   BIC:                291.3753  \n",
            "No. Observations:      299                Log-Likelihood:     -111.48   \n",
            "Df Model:              11                 LL-Null:            -187.67   \n",
            "Df Residuals:          287                LLR p-value:        4.8652e-27\n",
            "Converged:             1.0000             Scale:              1.0000    \n",
            "No. Iterations:        7.0000                                           \n",
            "------------------------------------------------------------------------\n",
            "                          Coef.  Std.Err.    z    P>|z|   [0.025  0.975]\n",
            "------------------------------------------------------------------------\n",
            "age                       0.0522   0.0154  3.3815 0.0007  0.0220  0.0825\n",
            "creatinine_phosphokinase  0.0002   0.0002  1.2165 0.2238 -0.0001  0.0006\n",
            "ejection_fraction        -0.0756   0.0160 -4.7236 0.0000 -0.1070 -0.0443\n",
            "platelets                -0.0000   0.0000 -0.5853 0.5583 -0.0000  0.0000\n",
            "serum_creatinine          0.7198   0.1803  3.9921 0.0001  0.3664  1.0731\n",
            "serum_sodium              0.0044   0.0094  0.4699 0.6384 -0.0139  0.0227\n",
            "time                     -0.0205   0.0029 -6.9459 0.0000 -0.0262 -0.0147\n",
            "anaemia_1                -0.0443   0.3566 -0.1243 0.9011 -0.7433  0.6546\n",
            "diabetes_0               -0.2068   0.3475 -0.5952 0.5517 -0.8879  0.4743\n",
            "high_blood_pressure_1    -0.0786   0.3551 -0.2212 0.8249 -0.7746  0.6175\n",
            "sex_1                    -0.4266   0.4037 -1.0569 0.2906 -1.2178  0.3645\n",
            "smoking_0                 0.0728   0.4069  0.1789 0.8580 -0.7247  0.8703\n",
            "========================================================================\n",
            "\n",
            "Accuracy of the model is: 83.61204 %. Matthews correlation coefficient between the estimates and the true response is: 0.61473. Model's precision is 0.78 and it's recall is 0.6875.\n",
            "Area under ROC curve = 0.89473\n",
            "Combination 23\n",
            "                             Results: Logit\n",
            "========================================================================\n",
            "Model:                 Logit              Pseudo R-squared:   0.406     \n",
            "Dependent Variable:    DEATH_EVENT        AIC:                247.0001  \n",
            "Date:                  2020-12-12 14:08   BIC:                291.4054  \n",
            "No. Observations:      299                Log-Likelihood:     -111.50   \n",
            "Df Model:              11                 LL-Null:            -187.67   \n",
            "Df Residuals:          287                LLR p-value:        4.9347e-27\n",
            "Converged:             1.0000             Scale:              1.0000    \n",
            "No. Iterations:        7.0000                                           \n",
            "------------------------------------------------------------------------\n",
            "                          Coef.  Std.Err.    z    P>|z|   [0.025  0.975]\n",
            "------------------------------------------------------------------------\n",
            "age                       0.0523   0.0155  3.3817 0.0007  0.0220  0.0826\n",
            "creatinine_phosphokinase  0.0002   0.0002  1.2240 0.2210 -0.0001  0.0006\n",
            "ejection_fraction        -0.0756   0.0160 -4.7228 0.0000 -0.1070 -0.0442\n",
            "platelets                -0.0000   0.0000 -0.5993 0.5490 -0.0000  0.0000\n",
            "serum_creatinine          0.7222   0.1801  4.0095 0.0001  0.3692  1.0752\n",
            "serum_sodium              0.0049   0.0090  0.5395 0.5895 -0.0128  0.0225\n",
            "time                     -0.0204   0.0029 -6.9430 0.0000 -0.0262 -0.0147\n",
            "anaemia_1                -0.0387   0.3568 -0.1085 0.9136 -0.7379  0.6605\n",
            "diabetes_0               -0.2084   0.3473 -0.6001 0.5485 -0.8891  0.4723\n",
            "high_blood_pressure_1    -0.0774   0.3552 -0.2178 0.8276 -0.7736  0.6189\n",
            "sex_1                    -0.4474   0.4056 -1.1028 0.2701 -1.2424  0.3477\n",
            "smoking_1                -0.0177   0.4084 -0.0433 0.9655 -0.8180  0.7827\n",
            "========================================================================\n",
            "\n",
            "Accuracy of the model is: 83.61204 %. Matthews correlation coefficient between the estimates and the true response is: 0.61473. Model's precision is 0.78 and it's recall is 0.6875.\n",
            "Area under ROC curve = 0.89496\n",
            "Combination 24\n",
            "                             Results: Logit\n",
            "========================================================================\n",
            "Model:                 Logit              Pseudo R-squared:   0.407     \n",
            "Dependent Variable:    DEATH_EVENT        AIC:                246.4722  \n",
            "Date:                  2020-12-12 14:08   BIC:                290.8776  \n",
            "No. Observations:      299                Log-Likelihood:     -111.24   \n",
            "Df Model:              11                 LL-Null:            -187.67   \n",
            "Df Residuals:          287                LLR p-value:        3.8486e-27\n",
            "Converged:             1.0000             Scale:              1.0000    \n",
            "No. Iterations:        7.0000                                           \n",
            "------------------------------------------------------------------------\n",
            "                          Coef.  Std.Err.    z    P>|z|   [0.025  0.975]\n",
            "------------------------------------------------------------------------\n",
            "age                       0.0524   0.0154  3.3907 0.0007  0.0221  0.0826\n",
            "creatinine_phosphokinase  0.0002   0.0002  1.2300 0.2187 -0.0001  0.0006\n",
            "ejection_fraction        -0.0761   0.0161 -4.7381 0.0000 -0.1076 -0.0446\n",
            "platelets                -0.0000   0.0000 -0.6022 0.5470 -0.0000  0.0000\n",
            "serum_creatinine          0.7161   0.1803  3.9705 0.0001  0.3626  1.0696\n",
            "serum_sodium             -0.0009   0.0090 -0.1012 0.9194 -0.0187  0.0168\n",
            "time                     -0.0205   0.0030 -6.9614 0.0000 -0.0263 -0.0148\n",
            "anaemia_1                -0.0456   0.3569 -0.1276 0.8984 -0.7451  0.6540\n",
            "diabetes_1                0.2352   0.3455  0.6809 0.4959 -0.4419  0.9124\n",
            "high_blood_pressure_0     0.1243   0.3561  0.3491 0.7270 -0.5737  0.8223\n",
            "sex_0                     0.4870   0.4076  1.1947 0.2322 -0.3119  1.2860\n",
            "smoking_0                 0.0479   0.4090  0.1171 0.9068 -0.7536  0.8494\n",
            "========================================================================\n",
            "\n",
            "Accuracy of the model is: 84.28094 %. Matthews correlation coefficient between the estimates and the true response is: 0.63061. Model's precision is 0.79 and it's recall is 0.6979.\n",
            "Area under ROC curve = 0.89473\n",
            "Combination 25\n",
            "                             Results: Logit\n",
            "========================================================================\n",
            "Model:                 Logit              Pseudo R-squared:   0.407     \n",
            "Dependent Variable:    DEATH_EVENT        AIC:                246.4859  \n",
            "Date:                  2020-12-12 14:08   BIC:                290.8912  \n",
            "No. Observations:      299                Log-Likelihood:     -111.24   \n",
            "Df Model:              11                 LL-Null:            -187.67   \n",
            "Df Residuals:          287                LLR p-value:        3.8735e-27\n",
            "Converged:             1.0000             Scale:              1.0000    \n",
            "No. Iterations:        7.0000                                           \n",
            "------------------------------------------------------------------------\n",
            "                          Coef.  Std.Err.    z    P>|z|   [0.025  0.975]\n",
            "------------------------------------------------------------------------\n",
            "age                       0.0524   0.0154  3.3895 0.0007  0.0221  0.0826\n",
            "creatinine_phosphokinase  0.0002   0.0002  1.2372 0.2160 -0.0001  0.0006\n",
            "ejection_fraction        -0.0761   0.0161 -4.7372 0.0000 -0.1076 -0.0446\n",
            "platelets                -0.0000   0.0000 -0.6153 0.5383 -0.0000  0.0000\n",
            "serum_creatinine          0.7181   0.1802  3.9860 0.0001  0.3650  1.0712\n",
            "serum_sodium             -0.0008   0.0091 -0.0841 0.9330 -0.0185  0.0170\n",
            "time                     -0.0205   0.0029 -6.9591 0.0000 -0.0263 -0.0147\n",
            "anaemia_1                -0.0402   0.3571 -0.1125 0.9105 -0.7401  0.6598\n",
            "diabetes_1                0.2367   0.3453  0.6854 0.4931 -0.4401  0.9134\n",
            "high_blood_pressure_0     0.1236   0.3563  0.3468 0.7287 -0.5747  0.8218\n",
            "sex_0                     0.5070   0.4088  1.2401 0.2150 -0.2943  1.3083\n",
            "smoking_1                 0.0034   0.4096  0.0084 0.9933 -0.7994  0.8063\n",
            "========================================================================\n",
            "\n",
            "Accuracy of the model is: 84.28094 %. Matthews correlation coefficient between the estimates and the true response is: 0.63061. Model's precision is 0.79 and it's recall is 0.6979.\n",
            "Area under ROC curve = 0.89350\n",
            "Combination 26\n",
            "                             Results: Logit\n",
            "========================================================================\n",
            "Model:                 Logit              Pseudo R-squared:   0.407     \n",
            "Dependent Variable:    DEATH_EVENT        AIC:                246.7595  \n",
            "Date:                  2020-12-12 14:08   BIC:                291.1648  \n",
            "No. Observations:      299                Log-Likelihood:     -111.38   \n",
            "Df Model:              11                 LL-Null:            -187.67   \n",
            "Df Residuals:          287                LLR p-value:        4.4062e-27\n",
            "Converged:             1.0000             Scale:              1.0000    \n",
            "No. Iterations:        7.0000                                           \n",
            "------------------------------------------------------------------------\n",
            "                          Coef.  Std.Err.    z    P>|z|   [0.025  0.975]\n",
            "------------------------------------------------------------------------\n",
            "age                       0.0523   0.0154  3.3892 0.0007  0.0221  0.0826\n",
            "creatinine_phosphokinase  0.0002   0.0002  1.2143 0.2246 -0.0001  0.0006\n",
            "ejection_fraction        -0.0758   0.0160 -4.7280 0.0000 -0.1072 -0.0444\n",
            "platelets                -0.0000   0.0000 -0.5873 0.5570 -0.0000  0.0000\n",
            "serum_creatinine          0.7193   0.1804  3.9859 0.0001  0.3656  1.0729\n",
            "serum_sodium              0.0021   0.0095  0.2229 0.8236 -0.0164  0.0206\n",
            "time                     -0.0205   0.0029 -6.9586 0.0000 -0.0263 -0.0147\n",
            "anaemia_1                -0.0431   0.3568 -0.1207 0.9039 -0.7423  0.6562\n",
            "diabetes_1                0.2426   0.3451  0.7031 0.4820 -0.4337  0.9190\n",
            "high_blood_pressure_0     0.1189   0.3559  0.3341 0.7383 -0.5787  0.8165\n",
            "sex_1                    -0.4327   0.4043 -1.0703 0.2845 -1.2252  0.3597\n",
            "smoking_0                 0.0702   0.4072  0.1723 0.8632 -0.7280  0.8683\n",
            "========================================================================\n",
            "\n",
            "Accuracy of the model is: 84.28094 %. Matthews correlation coefficient between the estimates and the true response is: 0.63061. Model's precision is 0.79 and it's recall is 0.6979.\n",
            "Area under ROC curve = 0.89535\n",
            "Combination 27\n",
            "                             Results: Logit\n",
            "========================================================================\n",
            "Model:                 Logit              Pseudo R-squared:   0.406     \n",
            "Dependent Variable:    DEATH_EVENT        AIC:                246.7875  \n",
            "Date:                  2020-12-12 14:08   BIC:                291.1928  \n",
            "No. Observations:      299                Log-Likelihood:     -111.39   \n",
            "Df Model:              11                 LL-Null:            -187.67   \n",
            "Df Residuals:          287                LLR p-value:        4.4646e-27\n",
            "Converged:             1.0000             Scale:              1.0000    \n",
            "No. Iterations:        7.0000                                           \n",
            "------------------------------------------------------------------------\n",
            "                          Coef.  Std.Err.    z    P>|z|   [0.025  0.975]\n",
            "------------------------------------------------------------------------\n",
            "age                       0.0524   0.0154  3.3893 0.0007  0.0221  0.0826\n",
            "creatinine_phosphokinase  0.0002   0.0002  1.2215 0.2219 -0.0001  0.0006\n",
            "ejection_fraction        -0.0758   0.0160 -4.7271 0.0000 -0.1072 -0.0444\n",
            "platelets                -0.0000   0.0000 -0.6008 0.5480 -0.0000  0.0000\n",
            "serum_creatinine          0.7216   0.1803  4.0030 0.0001  0.3683  1.0749\n",
            "serum_sodium              0.0026   0.0091  0.2798 0.7796 -0.0153  0.0204\n",
            "time                     -0.0205   0.0029 -6.9559 0.0000 -0.0263 -0.0147\n",
            "anaemia_1                -0.0376   0.3569 -0.1055 0.9160 -0.7372  0.6619\n",
            "diabetes_1                0.2445   0.3449  0.7089 0.4784 -0.4315  0.9204\n",
            "high_blood_pressure_0     0.1181   0.3561  0.3318 0.7400 -0.5797  0.8160\n",
            "sex_1                    -0.4528   0.4062 -1.1146 0.2650 -1.2490  0.3434\n",
            "smoking_1                -0.0171   0.4087 -0.0418 0.9666 -0.8181  0.7839\n",
            "========================================================================\n",
            "\n",
            "Accuracy of the model is: 84.28094 %. Matthews correlation coefficient between the estimates and the true response is: 0.63061. Model's precision is 0.79 and it's recall is 0.6979.\n",
            "Area under ROC curve = 0.89511\n",
            "Combination 28\n",
            "                             Results: Logit\n",
            "========================================================================\n",
            "Model:                 Logit              Pseudo R-squared:   0.407     \n",
            "Dependent Variable:    DEATH_EVENT        AIC:                246.5368  \n",
            "Date:                  2020-12-12 14:08   BIC:                290.9421  \n",
            "No. Observations:      299                Log-Likelihood:     -111.27   \n",
            "Df Model:              11                 LL-Null:            -187.67   \n",
            "Df Residuals:          287                LLR p-value:        3.9674e-27\n",
            "Converged:             1.0000             Scale:              1.0000    \n",
            "No. Iterations:        7.0000                                           \n",
            "------------------------------------------------------------------------\n",
            "                          Coef.  Std.Err.    z    P>|z|   [0.025  0.975]\n",
            "------------------------------------------------------------------------\n",
            "age                       0.0524   0.0154  3.3891 0.0007  0.0221  0.0826\n",
            "creatinine_phosphokinase  0.0002   0.0002  1.2349 0.2169 -0.0001  0.0006\n",
            "ejection_fraction        -0.0761   0.0161 -4.7357 0.0000 -0.1075 -0.0446\n",
            "platelets                -0.0000   0.0000 -0.6076 0.5435 -0.0000  0.0000\n",
            "serum_creatinine          0.7171   0.1802  3.9793 0.0001  0.3639  1.0703\n",
            "serum_sodium             -0.0001   0.0090 -0.0167 0.9867 -0.0177  0.0174\n",
            "time                     -0.0205   0.0029 -6.9529 0.0000 -0.0263 -0.0147\n",
            "anaemia_1                -0.0455   0.3569 -0.1276 0.8984 -0.7450  0.6539\n",
            "diabetes_1                0.2369   0.3455  0.6857 0.4929 -0.4402  0.9140\n",
            "high_blood_pressure_1    -0.0854   0.3558 -0.2400 0.8103 -0.7827  0.6119\n",
            "sex_0                     0.4804   0.4072  1.1798 0.2381 -0.3177  1.2785\n",
            "smoking_0                 0.0475   0.4089  0.1161 0.9075 -0.7539  0.8489\n",
            "========================================================================\n",
            "\n",
            "Accuracy of the model is: 84.28094 %. Matthews correlation coefficient between the estimates and the true response is: 0.63061. Model's precision is 0.79 and it's recall is 0.6979.\n",
            "Area under ROC curve = 0.89470\n",
            "Combination 29\n",
            "                             Results: Logit\n",
            "========================================================================\n",
            "Model:                 Logit              Pseudo R-squared:   0.407     \n",
            "Dependent Variable:    DEATH_EVENT        AIC:                246.5501  \n",
            "Date:                  2020-12-12 14:08   BIC:                290.9555  \n",
            "No. Observations:      299                Log-Likelihood:     -111.28   \n",
            "Df Model:              11                 LL-Null:            -187.67   \n",
            "Df Residuals:          287                LLR p-value:        3.9925e-27\n",
            "Converged:             1.0000             Scale:              1.0000    \n",
            "No. Iterations:        7.0000                                           \n",
            "------------------------------------------------------------------------\n",
            "                          Coef.  Std.Err.    z    P>|z|   [0.025  0.975]\n",
            "------------------------------------------------------------------------\n",
            "age                       0.0524   0.0155  3.3878 0.0007  0.0221  0.0826\n",
            "creatinine_phosphokinase  0.0002   0.0002  1.2422 0.2142 -0.0001  0.0006\n",
            "ejection_fraction        -0.0760   0.0161 -4.7348 0.0000 -0.1075 -0.0445\n",
            "platelets                -0.0000   0.0000 -0.6208 0.5347 -0.0000  0.0000\n",
            "serum_creatinine          0.7191   0.1800  3.9947 0.0001  0.3663  1.0720\n",
            "serum_sodium             -0.0000   0.0090 -0.0006 0.9995 -0.0176  0.0176\n",
            "time                     -0.0205   0.0029 -6.9506 0.0000 -0.0262 -0.0147\n",
            "anaemia_1                -0.0401   0.3571 -0.1123 0.9106 -0.7399  0.6597\n",
            "diabetes_1                0.2383   0.3453  0.6901 0.4901 -0.4384  0.9150\n",
            "high_blood_pressure_1    -0.0845   0.3559 -0.2373 0.8124 -0.7819  0.6130\n",
            "sex_0                     0.5005   0.4085  1.2253 0.2205 -0.3001  1.3011\n",
            "smoking_1                 0.0044   0.4096  0.0108 0.9914 -0.7983  0.8071\n",
            "========================================================================\n",
            "\n",
            "Accuracy of the model is: 84.28094 %. Matthews correlation coefficient between the estimates and the true response is: 0.63061. Model's precision is 0.79 and it's recall is 0.6979.\n",
            "Area under ROC curve = 0.89352\n",
            "Combination 30\n",
            "                             Results: Logit\n",
            "========================================================================\n",
            "Model:                 Logit              Pseudo R-squared:   0.406     \n",
            "Dependent Variable:    DEATH_EVENT        AIC:                246.8227  \n",
            "Date:                  2020-12-12 14:08   BIC:                291.2280  \n",
            "No. Observations:      299                Log-Likelihood:     -111.41   \n",
            "Df Model:              11                 LL-Null:            -187.67   \n",
            "Df Residuals:          287                LLR p-value:        4.5392e-27\n",
            "Converged:             1.0000             Scale:              1.0000    \n",
            "No. Iterations:        7.0000                                           \n",
            "------------------------------------------------------------------------\n",
            "                          Coef.  Std.Err.    z    P>|z|   [0.025  0.975]\n",
            "------------------------------------------------------------------------\n",
            "age                       0.0523   0.0154  3.3870 0.0007  0.0220  0.0826\n",
            "creatinine_phosphokinase  0.0002   0.0002  1.2193 0.2227 -0.0001  0.0006\n",
            "ejection_fraction        -0.0757   0.0160 -4.7254 0.0000 -0.1072 -0.0443\n",
            "platelets                -0.0000   0.0000 -0.5926 0.5535 -0.0000  0.0000\n",
            "serum_creatinine          0.7203   0.1803  3.9945 0.0001  0.3669  1.0737\n",
            "serum_sodium              0.0028   0.0095  0.2935 0.7692 -0.0158  0.0214\n",
            "time                     -0.0205   0.0029 -6.9496 0.0000 -0.0262 -0.0147\n",
            "anaemia_1                -0.0429   0.3567 -0.1203 0.9042 -0.7420  0.6562\n",
            "diabetes_1                0.2442   0.3450  0.7078 0.4791 -0.4321  0.9205\n",
            "high_blood_pressure_1    -0.0784   0.3553 -0.2207 0.8253 -0.7749  0.6180\n",
            "sex_1                    -0.4255   0.4036 -1.0542 0.2918 -1.2165  0.3656\n",
            "smoking_0                 0.0698   0.4072  0.1715 0.8638 -0.7282  0.8678\n",
            "========================================================================\n",
            "\n",
            "Accuracy of the model is: 83.94649 %. Matthews correlation coefficient between the estimates and the true response is: 0.62332. Model's precision is 0.78 and it's recall is 0.6979.\n",
            "Area under ROC curve = 0.89432\n",
            "Combination 31\n",
            "                             Results: Logit\n",
            "========================================================================\n",
            "Model:                 Logit              Pseudo R-squared:   0.406     \n",
            "Dependent Variable:    DEATH_EVENT        AIC:                246.8505  \n",
            "Date:                  2020-12-12 14:08   BIC:                291.2558  \n",
            "No. Observations:      299                Log-Likelihood:     -111.43   \n",
            "Df Model:              11                 LL-Null:            -187.67   \n",
            "Df Residuals:          287                LLR p-value:        4.5991e-27\n",
            "Converged:             1.0000             Scale:              1.0000    \n",
            "No. Iterations:        7.0000                                           \n",
            "------------------------------------------------------------------------\n",
            "                          Coef.  Std.Err.    z    P>|z|   [0.025  0.975]\n",
            "------------------------------------------------------------------------\n",
            "age                       0.0523   0.0155  3.3869 0.0007  0.0221  0.0826\n",
            "creatinine_phosphokinase  0.0002   0.0002  1.2266 0.2200 -0.0001  0.0006\n",
            "ejection_fraction        -0.0757   0.0160 -4.7245 0.0000 -0.1071 -0.0443\n",
            "platelets                -0.0000   0.0000 -0.6063 0.5443 -0.0000  0.0000\n",
            "serum_creatinine          0.7226   0.1801  4.0116 0.0001  0.3695  1.0756\n",
            "serum_sodium              0.0032   0.0092  0.3512 0.7254 -0.0147  0.0212\n",
            "time                     -0.0204   0.0029 -6.9469 0.0000 -0.0262 -0.0147\n",
            "anaemia_1                -0.0374   0.3568 -0.1049 0.9164 -0.7369  0.6620\n",
            "diabetes_1                0.2460   0.3448  0.7135 0.4755 -0.4298  0.9219\n",
            "high_blood_pressure_1    -0.0773   0.3554 -0.2175 0.8278 -0.7739  0.6193\n",
            "sex_1                    -0.4456   0.4056 -1.0986 0.2719 -1.2406  0.3494\n",
            "smoking_1                -0.0163   0.4086 -0.0398 0.9683 -0.8171  0.7845\n",
            "========================================================================\n",
            "\n",
            "Accuracy of the model is: 84.28094 %. Matthews correlation coefficient between the estimates and the true response is: 0.63061. Model's precision is 0.79 and it's recall is 0.6979.\n",
            "Area under ROC curve = 0.89504\n"
          ],
          "name": "stdout"
        }
      ]
    },
    {
      "cell_type": "markdown",
      "metadata": {
        "id": "XQmqJxEty2qb"
      },
      "source": [
        "Logit models with max/min evalution criteria:"
      ]
    },
    {
      "cell_type": "code",
      "metadata": {
        "id": "K0vSV-cFy2qb",
        "outputId": "87b3d185-957e-439e-afc5-d55a4bd09a53"
      },
      "source": [
        "df_eval.describe()"
      ],
      "execution_count": null,
      "outputs": [
        {
          "output_type": "execute_result",
          "data": {
            "text/html": [
              "<div>\n",
              "<style scoped>\n",
              "    .dataframe tbody tr th:only-of-type {\n",
              "        vertical-align: middle;\n",
              "    }\n",
              "\n",
              "    .dataframe tbody tr th {\n",
              "        vertical-align: top;\n",
              "    }\n",
              "\n",
              "    .dataframe thead th {\n",
              "        text-align: right;\n",
              "    }\n",
              "</style>\n",
              "<table border=\"1\" class=\"dataframe\">\n",
              "  <thead>\n",
              "    <tr style=\"text-align: right;\">\n",
              "      <th></th>\n",
              "      <th>Accuracy</th>\n",
              "      <th>Matthews_Coef</th>\n",
              "      <th>Precision</th>\n",
              "      <th>Recall</th>\n",
              "      <th>AUC</th>\n",
              "      <th>AIC</th>\n",
              "    </tr>\n",
              "  </thead>\n",
              "  <tbody>\n",
              "    <tr>\n",
              "      <th>count</th>\n",
              "      <td>32.000000</td>\n",
              "      <td>32.000000</td>\n",
              "      <td>32.000000</td>\n",
              "      <td>32.000000</td>\n",
              "      <td>32.000000</td>\n",
              "      <td>32.000000</td>\n",
              "    </tr>\n",
              "    <tr>\n",
              "      <th>mean</th>\n",
              "      <td>84.280936</td>\n",
              "      <td>0.630842</td>\n",
              "      <td>0.786974</td>\n",
              "      <td>0.699870</td>\n",
              "      <td>0.894464</td>\n",
              "      <td>246.709449</td>\n",
              "    </tr>\n",
              "    <tr>\n",
              "      <th>std</th>\n",
              "      <td>0.294275</td>\n",
              "      <td>0.007027</td>\n",
              "      <td>0.005164</td>\n",
              "      <td>0.005574</td>\n",
              "      <td>0.000576</td>\n",
              "      <td>0.172593</td>\n",
              "    </tr>\n",
              "    <tr>\n",
              "      <th>min</th>\n",
              "      <td>83.612040</td>\n",
              "      <td>0.614729</td>\n",
              "      <td>0.776471</td>\n",
              "      <td>0.687500</td>\n",
              "      <td>0.893473</td>\n",
              "      <td>246.432917</td>\n",
              "    </tr>\n",
              "    <tr>\n",
              "      <th>25%</th>\n",
              "      <td>84.280936</td>\n",
              "      <td>0.630609</td>\n",
              "      <td>0.788235</td>\n",
              "      <td>0.697917</td>\n",
              "      <td>0.894101</td>\n",
              "      <td>246.561661</td>\n",
              "    </tr>\n",
              "    <tr>\n",
              "      <th>50%</th>\n",
              "      <td>84.280936</td>\n",
              "      <td>0.630609</td>\n",
              "      <td>0.788235</td>\n",
              "      <td>0.697917</td>\n",
              "      <td>0.894474</td>\n",
              "      <td>246.704347</td>\n",
              "    </tr>\n",
              "    <tr>\n",
              "      <th>75%</th>\n",
              "      <td>84.364548</td>\n",
              "      <td>0.632744</td>\n",
              "      <td>0.788851</td>\n",
              "      <td>0.700521</td>\n",
              "      <td>0.894878</td>\n",
              "      <td>246.853408</td>\n",
              "    </tr>\n",
              "    <tr>\n",
              "      <th>max</th>\n",
              "      <td>84.949833</td>\n",
              "      <td>0.646490</td>\n",
              "      <td>0.800000</td>\n",
              "      <td>0.708333</td>\n",
              "      <td>0.895372</td>\n",
              "      <td>247.000090</td>\n",
              "    </tr>\n",
              "  </tbody>\n",
              "</table>\n",
              "</div>"
            ],
            "text/plain": [
              "        Accuracy  Matthews_Coef  Precision     Recall        AUC         AIC\n",
              "count  32.000000      32.000000  32.000000  32.000000  32.000000   32.000000\n",
              "mean   84.280936       0.630842   0.786974   0.699870   0.894464  246.709449\n",
              "std     0.294275       0.007027   0.005164   0.005574   0.000576    0.172593\n",
              "min    83.612040       0.614729   0.776471   0.687500   0.893473  246.432917\n",
              "25%    84.280936       0.630609   0.788235   0.697917   0.894101  246.561661\n",
              "50%    84.280936       0.630609   0.788235   0.697917   0.894474  246.704347\n",
              "75%    84.364548       0.632744   0.788851   0.700521   0.894878  246.853408\n",
              "max    84.949833       0.646490   0.800000   0.708333   0.895372  247.000090"
            ]
          },
          "metadata": {
            "tags": []
          },
          "execution_count": 29
        }
      ]
    },
    {
      "cell_type": "code",
      "metadata": {
        "id": "qPmpqDv2y2qc",
        "outputId": "8991f365-e32f-426a-f57d-9914f43fe1d3"
      },
      "source": [
        "df_eval.iloc[df_eval.Accuracy.idxmax()]\n",
        "#df_eval.iloc[df_eval.Precision.idxmax()]\n",
        "#df_eval.iloc[df_eval.Recall.idxmax()]\n",
        "#df_eval.iloc[df_eval.AUC.idxmax()]"
      ],
      "execution_count": null,
      "outputs": [
        {
          "output_type": "execute_result",
          "data": {
            "text/plain": [
              "Combination                                                      5\n",
              "Predictors       [age, creatinine_phosphokinase, ejection_fract...\n",
              "Accuracy                                                   84.9498\n",
              "Matthews_Coef                                              0.64649\n",
              "Precision                                                      0.8\n",
              "Recall                                                    0.708333\n",
              "AUC                                                       0.893627\n",
              "AIC                                                         246.65\n",
              "Name: 5, dtype: object"
            ]
          },
          "metadata": {
            "tags": []
          },
          "execution_count": 30
        }
      ]
    },
    {
      "cell_type": "code",
      "metadata": {
        "id": "1CimXC3ny2qc",
        "outputId": "514747b2-a056-4753-d624-c930174a20f2"
      },
      "source": [
        "df_eval.iloc[df_eval.Matthews_Coef.idxmax()]"
      ],
      "execution_count": null,
      "outputs": [
        {
          "output_type": "execute_result",
          "data": {
            "text/plain": [
              "Combination                                                      5\n",
              "Predictors       [age, creatinine_phosphokinase, ejection_fract...\n",
              "Accuracy                                                   84.9498\n",
              "Matthews_Coef                                              0.64649\n",
              "Precision                                                      0.8\n",
              "Recall                                                    0.708333\n",
              "AUC                                                       0.893627\n",
              "AIC                                                         246.65\n",
              "Name: 5, dtype: object"
            ]
          },
          "metadata": {
            "tags": []
          },
          "execution_count": 31
        }
      ]
    },
    {
      "cell_type": "code",
      "metadata": {
        "id": "_PAEW25ty2qc",
        "outputId": "2d3b5d37-2ad0-42d7-bcef-3f88342fc2d7"
      },
      "source": [
        "df_eval.iloc[df_eval.AIC.idxmin()]"
      ],
      "execution_count": null,
      "outputs": [
        {
          "output_type": "execute_result",
          "data": {
            "text/plain": [
              "Combination                                                      8\n",
              "Predictors       [age, creatinine_phosphokinase, ejection_fract...\n",
              "Accuracy                                                   84.2809\n",
              "Matthews_Coef                                             0.630609\n",
              "Precision                                                 0.788235\n",
              "Recall                                                    0.697917\n",
              "AUC                                                       0.894166\n",
              "AIC                                                        246.433\n",
              "Name: 8, dtype: object"
            ]
          },
          "metadata": {
            "tags": []
          },
          "execution_count": 32
        }
      ]
    },
    {
      "cell_type": "markdown",
      "metadata": {
        "id": "Uitnx4QLy2qc"
      },
      "source": [
        "The predictors set/combination with the highest logit model's accuracy value also has the highest MCC value, signifying robustness. However, as shown below, the p-values of some of the attributes are greater than 0.5% significance level. Thus, there is not enough evidence to conclude that a non-zero correlation exists, or that these attributes are significantly associated with the response."
      ]
    },
    {
      "cell_type": "code",
      "metadata": {
        "id": "qAXRPOe-y2qc",
        "outputId": "ff6a0aa7-8e03-4bdb-fb3c-7168c0a9a4e6"
      },
      "source": [
        "logitfit(df_new, df_eval.Predictors[5])\n",
        "ACC_app2 = df_eval.Accuracy[5] #get the accuracy for this combination\n",
        "print(m.summary2())"
      ],
      "execution_count": null,
      "outputs": [
        {
          "output_type": "stream",
          "text": [
            "                             Results: Logit\n",
            "========================================================================\n",
            "Model:                 Logit              Pseudo R-squared:   0.407     \n",
            "Dependent Variable:    DEATH_EVENT        AIC:                246.6499  \n",
            "Date:                  2020-12-12 14:08   BIC:                291.0553  \n",
            "No. Observations:      299                Log-Likelihood:     -111.32   \n",
            "Df Model:              11                 LL-Null:            -187.67   \n",
            "Df Residuals:          287                LLR p-value:        4.1846e-27\n",
            "Converged:             1.0000             Scale:              1.0000    \n",
            "No. Iterations:        7.0000                                           \n",
            "------------------------------------------------------------------------\n",
            "                          Coef.  Std.Err.    z    P>|z|   [0.025  0.975]\n",
            "------------------------------------------------------------------------\n",
            "age                       0.0523   0.0154  3.3856 0.0007  0.0220  0.0826\n",
            "creatinine_phosphokinase  0.0002   0.0002  1.2225 0.2215 -0.0001  0.0006\n",
            "ejection_fraction        -0.0760   0.0161 -4.7326 0.0000 -0.1074 -0.0445\n",
            "platelets                -0.0000   0.0000 -0.6194 0.5356 -0.0000  0.0000\n",
            "serum_creatinine          0.7185   0.1799  3.9944 0.0001  0.3659  1.0710\n",
            "serum_sodium              0.0012   0.0088  0.1354 0.8923 -0.0160  0.0184\n",
            "time                     -0.0205   0.0030 -6.9523 0.0000 -0.0263 -0.0147\n",
            "anaemia_0                 0.0814   0.3553  0.2291 0.8188 -0.6150  0.7779\n",
            "diabetes_0               -0.2012   0.3477 -0.5786 0.5628 -0.8828  0.4803\n",
            "high_blood_pressure_1    -0.0854   0.3557 -0.2401 0.8102 -0.7825  0.6117\n",
            "sex_0                     0.5081   0.4084  1.2441 0.2135 -0.2923  1.3085\n",
            "smoking_1                -0.0022   0.4094 -0.0055 0.9956 -0.8046  0.8001\n",
            "========================================================================\n",
            "\n"
          ],
          "name": "stdout"
        }
      ]
    },
    {
      "cell_type": "markdown",
      "metadata": {
        "id": "7waaaumEy2qd"
      },
      "source": [
        "Splitting the categorical varibales into subvariables, and taking the combination of predictors with the highest accuracy and Matthews correlation coefficient, improves the model compared to original model where all variables were used as predictors.\n",
        "\n",
        "* Accuracy increased from 84.28% to 84.95%\n",
        "* Matthews correlation coefficient increased from 0.63 to 0.65\n",
        "* Precision increased from 0.79 to 0.80\n",
        "* Recall increased from 0.6979 to 0.7083\n",
        "* AUROC decreased from 0.89504 to 0.893627, but still higher than 0.5.\n",
        "\n",
        ".\n",
        "\n",
        "\n"
      ]
    },
    {
      "cell_type": "markdown",
      "metadata": {
        "id": "T1Gfgh01y2qd"
      },
      "source": [
        "* **Third Approach:** Backward Elimination (minimize AIC)\n",
        "\n",
        "We try to trim down the attributes by minimizing the model's Akaike information criterion (AIC) using backward elimination. The resulting evaluation criteria and p-values are also extracted to decide on the acceptable logit model.\n",
        "\n",
        "(Backward elimination through maximizing the accuracy and AUC was also attempted but the combinations with max accuracy and AUC presented above are already the optimum. No further elimination will increase their values.)"
      ]
    },
    {
      "cell_type": "code",
      "metadata": {
        "id": "1zHPnm44y2qd",
        "outputId": "3475ad60-aa57-4a27-c363-2fc8bea42c1d"
      },
      "source": [
        "b = df_eval.Predictors[8] #combination with least AIC from Second Approach\n",
        "AIC_min=df_eval.AIC.min()\n",
        "df_eval2 = pd.DataFrame(columns=['Combination','Predictors', 'Accuracy', 'Matthews_Coef', 'Precision', 'Recall', 'AUC', 'AIC', 'max_p-value'], index=None)\n",
        "for i in range(len(b)):\n",
        "    for j in b:\n",
        "        test_predictors = b[:]\n",
        "        test_predictors.remove(j)\n",
        "        logitfit(df_new, test_predictors)\n",
        "        if m.aic < AIC_min:\n",
        "            new_predictors = test_predictors[:]\n",
        "            m_new = m\n",
        "            AIC_min = m_new.aic\n",
        "    print('Combination', i)\n",
        "    print(m_new.summary2())\n",
        "    evaluation(df_new, new_predictors)\n",
        "    roc_auc(df_new, new_predictors)\n",
        "    df_eval2=df_eval2.append({'Combination': i,'Predictors': new_predictors, 'Accuracy':acc, 'Matthews_Coef': mcc, 'Precision':prc, 'Recall':rec, 'AUC':auc, 'AIC':AIC_min, 'max_p-value': m_new.pvalues.max()}, ignore_index=True)        \n",
        "    b = new_predictors"
      ],
      "execution_count": null,
      "outputs": [
        {
          "output_type": "stream",
          "text": [
            "Combination 0\n",
            "                             Results: Logit\n",
            "========================================================================\n",
            "Model:                 Logit              Pseudo R-squared:   0.407     \n",
            "Dependent Variable:    DEATH_EVENT        AIC:                244.4496  \n",
            "Date:                  2020-12-12 14:08   BIC:                285.1545  \n",
            "No. Observations:      299                Log-Likelihood:     -111.22   \n",
            "Df Model:              10                 LL-Null:            -187.67   \n",
            "Df Residuals:          288                LLR p-value:        9.4336e-28\n",
            "Converged:             1.0000             Scale:              1.0000    \n",
            "No. Iterations:        7.0000                                           \n",
            "------------------------------------------------------------------------\n",
            "                          Coef.  Std.Err.    z    P>|z|   [0.025  0.975]\n",
            "------------------------------------------------------------------------\n",
            "age                       0.0524   0.0154  3.3919 0.0007  0.0221  0.0826\n",
            "creatinine_phosphokinase  0.0002   0.0002  1.2218 0.2218 -0.0001  0.0006\n",
            "ejection_fraction        -0.0761   0.0161 -4.7369 0.0000 -0.1076 -0.0446\n",
            "platelets                -0.0000   0.0000 -0.6239 0.5327 -0.0000  0.0000\n",
            "serum_creatinine          0.7179   0.1795  4.0000 0.0001  0.3661  1.0697\n",
            "serum_sodium             -0.0011   0.0089 -0.1281 0.8981 -0.0185  0.0162\n",
            "time                     -0.0206   0.0030 -6.9708 0.0000 -0.0264 -0.0148\n",
            "anaemia_0                 0.0783   0.3527  0.2221 0.8242 -0.6129  0.7695\n",
            "diabetes_1                0.2355   0.3453  0.6819 0.4953 -0.4413  0.9122\n",
            "high_blood_pressure_0     0.1237   0.3561  0.3474 0.7283 -0.5743  0.8218\n",
            "sex_0                     0.5121   0.3761  1.3615 0.1733 -0.2251  1.2492\n",
            "========================================================================\n",
            "\n",
            "Accuracy of the model is: 84.28094 %. Matthews correlation coefficient between the estimates and the true response is: 0.63061. Model's precision is 0.79 and it's recall is 0.6979.\n",
            "Area under ROC curve = 0.89370\n",
            "Combination 1\n",
            "                             Results: Logit\n",
            "========================================================================\n",
            "Model:                 Logit              Pseudo R-squared:   0.407     \n",
            "Dependent Variable:    DEATH_EVENT        AIC:                242.4660  \n",
            "Date:                  2020-12-12 14:08   BIC:                279.4705  \n",
            "No. Observations:      299                Log-Likelihood:     -111.23   \n",
            "Df Model:              9                  LL-Null:            -187.67   \n",
            "Df Residuals:          289                LLR p-value:        2.2285e-28\n",
            "Converged:             1.0000             Scale:              1.0000    \n",
            "No. Iterations:        7.0000                                           \n",
            "------------------------------------------------------------------------\n",
            "                          Coef.  Std.Err.    z    P>|z|   [0.025  0.975]\n",
            "------------------------------------------------------------------------\n",
            "age                       0.0510   0.0113  4.5094 0.0000  0.0288  0.0732\n",
            "creatinine_phosphokinase  0.0002   0.0002  1.2228 0.2214 -0.0001  0.0005\n",
            "ejection_fraction        -0.0767   0.0155 -4.9493 0.0000 -0.1070 -0.0463\n",
            "platelets                -0.0000   0.0000 -0.7274 0.4670 -0.0000  0.0000\n",
            "serum_creatinine          0.7158   0.1785  4.0103 0.0001  0.3659  1.0656\n",
            "time                     -0.0206   0.0029 -7.1302 0.0000 -0.0263 -0.0150\n",
            "anaemia_0                 0.0734   0.3505  0.2095 0.8341 -0.6136  0.7604\n",
            "diabetes_1                0.2286   0.3411  0.6701 0.5028 -0.4399  0.8971\n",
            "high_blood_pressure_0     0.1158   0.3506  0.3302 0.7412 -0.5713  0.8029\n",
            "sex_0                     0.5066   0.3737  1.3555 0.1752 -0.2259  1.2390\n",
            "========================================================================\n",
            "\n",
            "Accuracy of the model is: 84.28094 %. Matthews correlation coefficient between the estimates and the true response is: 0.63061. Model's precision is 0.79 and it's recall is 0.6979.\n",
            "Area under ROC curve = 0.89324\n",
            "Combination 2\n",
            "                             Results: Logit\n",
            "========================================================================\n",
            "Model:                 Logit              Pseudo R-squared:   0.407     \n",
            "Dependent Variable:    DEATH_EVENT        AIC:                240.5100  \n",
            "Date:                  2020-12-12 14:08   BIC:                273.8140  \n",
            "No. Observations:      299                Log-Likelihood:     -111.25   \n",
            "Df Model:              8                  LL-Null:            -187.67   \n",
            "Df Residuals:          290                LLR p-value:        5.0130e-29\n",
            "Converged:             1.0000             Scale:              1.0000    \n",
            "No. Iterations:        7.0000                                           \n",
            "------------------------------------------------------------------------\n",
            "                          Coef.  Std.Err.    z    P>|z|   [0.025  0.975]\n",
            "------------------------------------------------------------------------\n",
            "age                       0.0512   0.0113  4.5409 0.0000  0.0291  0.0733\n",
            "creatinine_phosphokinase  0.0002   0.0002  1.2802 0.2005 -0.0001  0.0005\n",
            "ejection_fraction        -0.0765   0.0155 -4.9494 0.0000 -0.1068 -0.0462\n",
            "platelets                -0.0000   0.0000 -0.7084 0.4787 -0.0000  0.0000\n",
            "serum_creatinine          0.7158   0.1787  4.0054 0.0001  0.3656  1.0661\n",
            "time                     -0.0205   0.0028 -7.2225 0.0000 -0.0261 -0.0150\n",
            "diabetes_1                0.2313   0.3407  0.6789 0.4972 -0.4365  0.8991\n",
            "high_blood_pressure_0     0.1168   0.3507  0.3331 0.7391 -0.5705  0.8041\n",
            "sex_0                     0.4951   0.3695  1.3399 0.1803 -0.2291  1.2194\n",
            "========================================================================\n",
            "\n",
            "Accuracy of the model is: 84.28094 %. Matthews correlation coefficient between the estimates and the true response is: 0.63061. Model's precision is 0.79 and it's recall is 0.6979.\n",
            "Area under ROC curve = 0.89545\n",
            "Combination 3\n",
            "                             Results: Logit\n",
            "========================================================================\n",
            "Model:                 Logit              Pseudo R-squared:   0.407     \n",
            "Dependent Variable:    DEATH_EVENT        AIC:                238.6213  \n",
            "Date:                  2020-12-12 14:08   BIC:                268.2248  \n",
            "No. Observations:      299                Log-Likelihood:     -111.31   \n",
            "Df Model:              7                  LL-Null:            -187.67   \n",
            "Df Residuals:          291                LLR p-value:        1.0853e-29\n",
            "Converged:             1.0000             Scale:              1.0000    \n",
            "No. Iterations:        7.0000                                           \n",
            "------------------------------------------------------------------------\n",
            "                          Coef.  Std.Err.    z    P>|z|   [0.025  0.975]\n",
            "------------------------------------------------------------------------\n",
            "age                       0.0517   0.0112  4.6125 0.0000  0.0297  0.0737\n",
            "creatinine_phosphokinase  0.0002   0.0002  1.3117 0.1896 -0.0001  0.0006\n",
            "ejection_fraction        -0.0761   0.0154 -4.9435 0.0000 -0.1063 -0.0459\n",
            "platelets                -0.0000   0.0000 -0.7004 0.4837 -0.0000  0.0000\n",
            "serum_creatinine          0.7186   0.1784  4.0288 0.0001  0.3690  1.0682\n",
            "time                     -0.0204   0.0028 -7.3093 0.0000 -0.0258 -0.0149\n",
            "diabetes_1                0.2372   0.3404  0.6968 0.4859 -0.4299  0.9043\n",
            "sex_0                     0.4772   0.3655  1.3055 0.1917 -0.2392  1.1935\n",
            "========================================================================\n",
            "\n",
            "Accuracy of the model is: 84.28094 %. Matthews correlation coefficient between the estimates and the true response is: 0.63190. Model's precision is 0.78 and it's recall is 0.7083.\n",
            "Area under ROC curve = 0.89319\n",
            "Combination 4\n",
            "                             Results: Logit\n",
            "========================================================================\n",
            "Model:                 Logit              Pseudo R-squared:   0.406     \n",
            "Dependent Variable:    DEATH_EVENT        AIC:                237.1077  \n",
            "Date:                  2020-12-12 14:08   BIC:                263.0108  \n",
            "No. Observations:      299                Log-Likelihood:     -111.55   \n",
            "Df Model:              6                  LL-Null:            -187.67   \n",
            "Df Residuals:          292                LLR p-value:        2.5981e-30\n",
            "Converged:             1.0000             Scale:              1.0000    \n",
            "No. Iterations:        7.0000                                           \n",
            "------------------------------------------------------------------------\n",
            "                          Coef.  Std.Err.    z    P>|z|   [0.025  0.975]\n",
            "------------------------------------------------------------------------\n",
            "age                       0.0520   0.0112  4.6298 0.0000  0.0300  0.0740\n",
            "creatinine_phosphokinase  0.0002   0.0002  1.3227 0.1859 -0.0001  0.0006\n",
            "ejection_fraction        -0.0751   0.0153 -4.9171 0.0000 -0.1050 -0.0452\n",
            "platelets                -0.0000   0.0000 -0.6118 0.5407 -0.0000  0.0000\n",
            "serum_creatinine          0.7117   0.1771  4.0188 0.0001  0.3646  1.0588\n",
            "time                     -0.0203   0.0028 -7.2855 0.0000 -0.0258 -0.0148\n",
            "sex_0                     0.5058   0.3626  1.3948 0.1631 -0.2049  1.2164\n",
            "========================================================================\n",
            "\n",
            "Accuracy of the model is: 84.61538 %. Matthews correlation coefficient between the estimates and the true response is: 0.63915. Model's precision is 0.79 and it's recall is 0.7083.\n",
            "Area under ROC curve = 0.89442\n",
            "Combination 5\n",
            "                             Results: Logit\n",
            "========================================================================\n",
            "Model:                 Logit              Pseudo R-squared:   0.405     \n",
            "Dependent Variable:    DEATH_EVENT        AIC:                235.4910  \n",
            "Date:                  2020-12-12 14:08   BIC:                257.6937  \n",
            "No. Observations:      299                Log-Likelihood:     -111.75   \n",
            "Df Model:              5                  LL-Null:            -187.67   \n",
            "Df Residuals:          293                LLR p-value:        5.3708e-31\n",
            "Converged:             1.0000             Scale:              1.0000    \n",
            "No. Iterations:        7.0000                                           \n",
            "------------------------------------------------------------------------\n",
            "                          Coef.  Std.Err.    z    P>|z|   [0.025  0.975]\n",
            "------------------------------------------------------------------------\n",
            "age                       0.0489   0.0099  4.9455 0.0000  0.0295  0.0683\n",
            "creatinine_phosphokinase  0.0002   0.0002  1.2574 0.2086 -0.0001  0.0005\n",
            "ejection_fraction        -0.0763   0.0151 -5.0459 0.0000 -0.1059 -0.0467\n",
            "serum_creatinine          0.7148   0.1764  4.0518 0.0001  0.3690  1.0605\n",
            "time                     -0.0204   0.0028 -7.3508 0.0000 -0.0259 -0.0150\n",
            "sex_0                     0.4741   0.3591  1.3202 0.1868 -0.2298  1.1780\n",
            "========================================================================\n",
            "\n",
            "Accuracy of the model is: 84.61538 %. Matthews correlation coefficient between the estimates and the true response is: 0.63799. Model's precision is 0.80 and it's recall is 0.6979.\n",
            "Area under ROC curve = 0.89345\n",
            "Combination 6\n",
            "                             Results: Logit\n",
            "========================================================================\n",
            "Model:                 Logit              Pseudo R-squared:   0.400     \n",
            "Dependent Variable:    DEATH_EVENT        AIC:                235.2431  \n",
            "Date:                  2020-12-12 14:08   BIC:                253.7454  \n",
            "No. Observations:      299                Log-Likelihood:     -112.62   \n",
            "Df Model:              4                  LL-Null:            -187.67   \n",
            "Df Residuals:          294                LLR p-value:        1.9324e-31\n",
            "Converged:             1.0000             Scale:              1.0000    \n",
            "No. Iterations:        7.0000                                           \n",
            "------------------------------------------------------------------------\n",
            "                          Coef.  Std.Err.    z    P>|z|   [0.025  0.975]\n",
            "------------------------------------------------------------------------\n",
            "age                       0.0487   0.0099  4.9346 0.0000  0.0293  0.0680\n",
            "creatinine_phosphokinase  0.0002   0.0002  1.1136 0.2654 -0.0001  0.0005\n",
            "ejection_fraction        -0.0721   0.0146 -4.9361 0.0000 -0.1008 -0.0435\n",
            "serum_creatinine          0.7352   0.1769  4.1558 0.0000  0.3885  1.0820\n",
            "time                     -0.0203   0.0028 -7.3227 0.0000 -0.0257 -0.0148\n",
            "========================================================================\n",
            "\n",
            "Accuracy of the model is: 83.94649 %. Matthews correlation coefficient between the estimates and the true response is: 0.62205. Model's precision is 0.79 and it's recall is 0.6875.\n",
            "Area under ROC curve = 0.89165\n",
            "Combination 7\n",
            "                         Results: Logit\n",
            "=================================================================\n",
            "Model:              Logit            Pseudo R-squared: 0.396     \n",
            "Dependent Variable: DEATH_EVENT      AIC:              234.6432  \n",
            "Date:               2020-12-12 14:08 BIC:              249.4449  \n",
            "No. Observations:   299              Log-Likelihood:   -113.32   \n",
            "Df Model:           3                LL-Null:          -187.67   \n",
            "Df Residuals:       295              LLR p-value:      5.0117e-32\n",
            "Converged:          1.0000           Scale:            1.0000    \n",
            "No. Iterations:     7.0000                                       \n",
            "-----------------------------------------------------------------\n",
            "                   Coef.  Std.Err.    z    P>|z|   [0.025  0.975]\n",
            "-----------------------------------------------------------------\n",
            "age                0.0500   0.0098  5.1059 0.0000  0.0308  0.0691\n",
            "ejection_fraction -0.0717   0.0145 -4.9382 0.0000 -0.1001 -0.0432\n",
            "serum_creatinine   0.7304   0.1746  4.1845 0.0000  0.3883  1.0726\n",
            "time              -0.0201   0.0028 -7.3138 0.0000 -0.0255 -0.0147\n",
            "=================================================================\n",
            "\n",
            "Accuracy of the model is: 82.60870 %. Matthews correlation coefficient between the estimates and the true response is: 0.59167. Model's precision is 0.76 and it's recall is 0.6771.\n",
            "Area under ROC curve = 0.89057\n",
            "Combination 8\n",
            "                         Results: Logit\n",
            "=================================================================\n",
            "Model:              Logit            Pseudo R-squared: 0.396     \n",
            "Dependent Variable: DEATH_EVENT      AIC:              234.6432  \n",
            "Date:               2020-12-12 14:08 BIC:              249.4449  \n",
            "No. Observations:   299              Log-Likelihood:   -113.32   \n",
            "Df Model:           3                LL-Null:          -187.67   \n",
            "Df Residuals:       295              LLR p-value:      5.0117e-32\n",
            "Converged:          1.0000           Scale:            1.0000    \n",
            "No. Iterations:     7.0000                                       \n",
            "-----------------------------------------------------------------\n",
            "                   Coef.  Std.Err.    z    P>|z|   [0.025  0.975]\n",
            "-----------------------------------------------------------------\n",
            "age                0.0500   0.0098  5.1059 0.0000  0.0308  0.0691\n",
            "ejection_fraction -0.0717   0.0145 -4.9382 0.0000 -0.1001 -0.0432\n",
            "serum_creatinine   0.7304   0.1746  4.1845 0.0000  0.3883  1.0726\n",
            "time              -0.0201   0.0028 -7.3138 0.0000 -0.0255 -0.0147\n",
            "=================================================================\n",
            "\n",
            "Accuracy of the model is: 82.60870 %. Matthews correlation coefficient between the estimates and the true response is: 0.59167. Model's precision is 0.76 and it's recall is 0.6771.\n",
            "Area under ROC curve = 0.89057\n",
            "Combination 9\n",
            "                         Results: Logit\n",
            "=================================================================\n",
            "Model:              Logit            Pseudo R-squared: 0.396     \n",
            "Dependent Variable: DEATH_EVENT      AIC:              234.6432  \n",
            "Date:               2020-12-12 14:08 BIC:              249.4449  \n",
            "No. Observations:   299              Log-Likelihood:   -113.32   \n",
            "Df Model:           3                LL-Null:          -187.67   \n",
            "Df Residuals:       295              LLR p-value:      5.0117e-32\n",
            "Converged:          1.0000           Scale:            1.0000    \n",
            "No. Iterations:     7.0000                                       \n",
            "-----------------------------------------------------------------\n",
            "                   Coef.  Std.Err.    z    P>|z|   [0.025  0.975]\n",
            "-----------------------------------------------------------------\n",
            "age                0.0500   0.0098  5.1059 0.0000  0.0308  0.0691\n",
            "ejection_fraction -0.0717   0.0145 -4.9382 0.0000 -0.1001 -0.0432\n",
            "serum_creatinine   0.7304   0.1746  4.1845 0.0000  0.3883  1.0726\n",
            "time              -0.0201   0.0028 -7.3138 0.0000 -0.0255 -0.0147\n",
            "=================================================================\n",
            "\n",
            "Accuracy of the model is: 82.60870 %. Matthews correlation coefficient between the estimates and the true response is: 0.59167. Model's precision is 0.76 and it's recall is 0.6771.\n",
            "Area under ROC curve = 0.89057\n",
            "Combination 10\n",
            "                         Results: Logit\n",
            "=================================================================\n",
            "Model:              Logit            Pseudo R-squared: 0.396     \n",
            "Dependent Variable: DEATH_EVENT      AIC:              234.6432  \n",
            "Date:               2020-12-12 14:08 BIC:              249.4449  \n",
            "No. Observations:   299              Log-Likelihood:   -113.32   \n",
            "Df Model:           3                LL-Null:          -187.67   \n",
            "Df Residuals:       295              LLR p-value:      5.0117e-32\n",
            "Converged:          1.0000           Scale:            1.0000    \n",
            "No. Iterations:     7.0000                                       \n",
            "-----------------------------------------------------------------\n",
            "                   Coef.  Std.Err.    z    P>|z|   [0.025  0.975]\n",
            "-----------------------------------------------------------------\n",
            "age                0.0500   0.0098  5.1059 0.0000  0.0308  0.0691\n",
            "ejection_fraction -0.0717   0.0145 -4.9382 0.0000 -0.1001 -0.0432\n",
            "serum_creatinine   0.7304   0.1746  4.1845 0.0000  0.3883  1.0726\n",
            "time              -0.0201   0.0028 -7.3138 0.0000 -0.0255 -0.0147\n",
            "=================================================================\n",
            "\n",
            "Accuracy of the model is: 82.60870 %. Matthews correlation coefficient between the estimates and the true response is: 0.59167. Model's precision is 0.76 and it's recall is 0.6771.\n",
            "Area under ROC curve = 0.89057\n",
            "Combination 11\n",
            "                         Results: Logit\n",
            "=================================================================\n",
            "Model:              Logit            Pseudo R-squared: 0.396     \n",
            "Dependent Variable: DEATH_EVENT      AIC:              234.6432  \n",
            "Date:               2020-12-12 14:08 BIC:              249.4449  \n",
            "No. Observations:   299              Log-Likelihood:   -113.32   \n",
            "Df Model:           3                LL-Null:          -187.67   \n",
            "Df Residuals:       295              LLR p-value:      5.0117e-32\n",
            "Converged:          1.0000           Scale:            1.0000    \n",
            "No. Iterations:     7.0000                                       \n",
            "-----------------------------------------------------------------\n",
            "                   Coef.  Std.Err.    z    P>|z|   [0.025  0.975]\n",
            "-----------------------------------------------------------------\n",
            "age                0.0500   0.0098  5.1059 0.0000  0.0308  0.0691\n",
            "ejection_fraction -0.0717   0.0145 -4.9382 0.0000 -0.1001 -0.0432\n",
            "serum_creatinine   0.7304   0.1746  4.1845 0.0000  0.3883  1.0726\n",
            "time              -0.0201   0.0028 -7.3138 0.0000 -0.0255 -0.0147\n",
            "=================================================================\n",
            "\n",
            "Accuracy of the model is: 82.60870 %. Matthews correlation coefficient between the estimates and the true response is: 0.59167. Model's precision is 0.76 and it's recall is 0.6771.\n",
            "Area under ROC curve = 0.89057\n"
          ],
          "name": "stdout"
        }
      ]
    },
    {
      "cell_type": "code",
      "metadata": {
        "id": "NWiCxD-Ay2qd",
        "outputId": "3a5e8b76-f7d5-4838-a86a-b75116d4bcf0"
      },
      "source": [
        "df_eval2"
      ],
      "execution_count": null,
      "outputs": [
        {
          "output_type": "execute_result",
          "data": {
            "text/html": [
              "<div>\n",
              "<style scoped>\n",
              "    .dataframe tbody tr th:only-of-type {\n",
              "        vertical-align: middle;\n",
              "    }\n",
              "\n",
              "    .dataframe tbody tr th {\n",
              "        vertical-align: top;\n",
              "    }\n",
              "\n",
              "    .dataframe thead th {\n",
              "        text-align: right;\n",
              "    }\n",
              "</style>\n",
              "<table border=\"1\" class=\"dataframe\">\n",
              "  <thead>\n",
              "    <tr style=\"text-align: right;\">\n",
              "      <th></th>\n",
              "      <th>Combination</th>\n",
              "      <th>Predictors</th>\n",
              "      <th>Accuracy</th>\n",
              "      <th>Matthews_Coef</th>\n",
              "      <th>Precision</th>\n",
              "      <th>Recall</th>\n",
              "      <th>AUC</th>\n",
              "      <th>AIC</th>\n",
              "      <th>max_p-value</th>\n",
              "    </tr>\n",
              "  </thead>\n",
              "  <tbody>\n",
              "    <tr>\n",
              "      <th>0</th>\n",
              "      <td>0</td>\n",
              "      <td>[age, creatinine_phosphokinase, ejection_fract...</td>\n",
              "      <td>84.280936</td>\n",
              "      <td>0.630609</td>\n",
              "      <td>0.788235</td>\n",
              "      <td>0.697917</td>\n",
              "      <td>0.893704</td>\n",
              "      <td>244.449626</td>\n",
              "      <td>0.898092</td>\n",
              "    </tr>\n",
              "    <tr>\n",
              "      <th>1</th>\n",
              "      <td>1</td>\n",
              "      <td>[age, creatinine_phosphokinase, ejection_fract...</td>\n",
              "      <td>84.280936</td>\n",
              "      <td>0.630609</td>\n",
              "      <td>0.788235</td>\n",
              "      <td>0.697917</td>\n",
              "      <td>0.893242</td>\n",
              "      <td>242.466029</td>\n",
              "      <td>0.834093</td>\n",
              "    </tr>\n",
              "    <tr>\n",
              "      <th>2</th>\n",
              "      <td>2</td>\n",
              "      <td>[age, creatinine_phosphokinase, ejection_fract...</td>\n",
              "      <td>84.280936</td>\n",
              "      <td>0.630609</td>\n",
              "      <td>0.788235</td>\n",
              "      <td>0.697917</td>\n",
              "      <td>0.895448</td>\n",
              "      <td>240.509979</td>\n",
              "      <td>0.739078</td>\n",
              "    </tr>\n",
              "    <tr>\n",
              "      <th>3</th>\n",
              "      <td>3</td>\n",
              "      <td>[age, creatinine_phosphokinase, ejection_fract...</td>\n",
              "      <td>84.280936</td>\n",
              "      <td>0.631896</td>\n",
              "      <td>0.781609</td>\n",
              "      <td>0.708333</td>\n",
              "      <td>0.893191</td>\n",
              "      <td>238.621270</td>\n",
              "      <td>0.485921</td>\n",
              "    </tr>\n",
              "    <tr>\n",
              "      <th>4</th>\n",
              "      <td>4</td>\n",
              "      <td>[age, creatinine_phosphokinase, ejection_fract...</td>\n",
              "      <td>84.615385</td>\n",
              "      <td>0.639147</td>\n",
              "      <td>0.790698</td>\n",
              "      <td>0.708333</td>\n",
              "      <td>0.894422</td>\n",
              "      <td>237.107729</td>\n",
              "      <td>0.540674</td>\n",
              "    </tr>\n",
              "    <tr>\n",
              "      <th>5</th>\n",
              "      <td>5</td>\n",
              "      <td>[age, creatinine_phosphokinase, ejection_fract...</td>\n",
              "      <td>84.615385</td>\n",
              "      <td>0.637992</td>\n",
              "      <td>0.797619</td>\n",
              "      <td>0.697917</td>\n",
              "      <td>0.893447</td>\n",
              "      <td>235.491043</td>\n",
              "      <td>0.208592</td>\n",
              "    </tr>\n",
              "    <tr>\n",
              "      <th>6</th>\n",
              "      <td>6</td>\n",
              "      <td>[age, creatinine_phosphokinase, ejection_fract...</td>\n",
              "      <td>83.946488</td>\n",
              "      <td>0.622054</td>\n",
              "      <td>0.785714</td>\n",
              "      <td>0.687500</td>\n",
              "      <td>0.891651</td>\n",
              "      <td>235.243140</td>\n",
              "      <td>0.265438</td>\n",
              "    </tr>\n",
              "    <tr>\n",
              "      <th>7</th>\n",
              "      <td>7</td>\n",
              "      <td>[age, ejection_fraction, serum_creatinine, time]</td>\n",
              "      <td>82.608696</td>\n",
              "      <td>0.591671</td>\n",
              "      <td>0.755814</td>\n",
              "      <td>0.677083</td>\n",
              "      <td>0.890574</td>\n",
              "      <td>234.643174</td>\n",
              "      <td>0.000029</td>\n",
              "    </tr>\n",
              "    <tr>\n",
              "      <th>8</th>\n",
              "      <td>8</td>\n",
              "      <td>[age, ejection_fraction, serum_creatinine, time]</td>\n",
              "      <td>82.608696</td>\n",
              "      <td>0.591671</td>\n",
              "      <td>0.755814</td>\n",
              "      <td>0.677083</td>\n",
              "      <td>0.890574</td>\n",
              "      <td>234.643174</td>\n",
              "      <td>0.000029</td>\n",
              "    </tr>\n",
              "    <tr>\n",
              "      <th>9</th>\n",
              "      <td>9</td>\n",
              "      <td>[age, ejection_fraction, serum_creatinine, time]</td>\n",
              "      <td>82.608696</td>\n",
              "      <td>0.591671</td>\n",
              "      <td>0.755814</td>\n",
              "      <td>0.677083</td>\n",
              "      <td>0.890574</td>\n",
              "      <td>234.643174</td>\n",
              "      <td>0.000029</td>\n",
              "    </tr>\n",
              "    <tr>\n",
              "      <th>10</th>\n",
              "      <td>10</td>\n",
              "      <td>[age, ejection_fraction, serum_creatinine, time]</td>\n",
              "      <td>82.608696</td>\n",
              "      <td>0.591671</td>\n",
              "      <td>0.755814</td>\n",
              "      <td>0.677083</td>\n",
              "      <td>0.890574</td>\n",
              "      <td>234.643174</td>\n",
              "      <td>0.000029</td>\n",
              "    </tr>\n",
              "    <tr>\n",
              "      <th>11</th>\n",
              "      <td>11</td>\n",
              "      <td>[age, ejection_fraction, serum_creatinine, time]</td>\n",
              "      <td>82.608696</td>\n",
              "      <td>0.591671</td>\n",
              "      <td>0.755814</td>\n",
              "      <td>0.677083</td>\n",
              "      <td>0.890574</td>\n",
              "      <td>234.643174</td>\n",
              "      <td>0.000029</td>\n",
              "    </tr>\n",
              "  </tbody>\n",
              "</table>\n",
              "</div>"
            ],
            "text/plain": [
              "   Combination                                         Predictors   Accuracy  \\\n",
              "0            0  [age, creatinine_phosphokinase, ejection_fract...  84.280936   \n",
              "1            1  [age, creatinine_phosphokinase, ejection_fract...  84.280936   \n",
              "2            2  [age, creatinine_phosphokinase, ejection_fract...  84.280936   \n",
              "3            3  [age, creatinine_phosphokinase, ejection_fract...  84.280936   \n",
              "4            4  [age, creatinine_phosphokinase, ejection_fract...  84.615385   \n",
              "5            5  [age, creatinine_phosphokinase, ejection_fract...  84.615385   \n",
              "6            6  [age, creatinine_phosphokinase, ejection_fract...  83.946488   \n",
              "7            7   [age, ejection_fraction, serum_creatinine, time]  82.608696   \n",
              "8            8   [age, ejection_fraction, serum_creatinine, time]  82.608696   \n",
              "9            9   [age, ejection_fraction, serum_creatinine, time]  82.608696   \n",
              "10          10   [age, ejection_fraction, serum_creatinine, time]  82.608696   \n",
              "11          11   [age, ejection_fraction, serum_creatinine, time]  82.608696   \n",
              "\n",
              "    Matthews_Coef  Precision    Recall       AUC         AIC  max_p-value  \n",
              "0        0.630609   0.788235  0.697917  0.893704  244.449626     0.898092  \n",
              "1        0.630609   0.788235  0.697917  0.893242  242.466029     0.834093  \n",
              "2        0.630609   0.788235  0.697917  0.895448  240.509979     0.739078  \n",
              "3        0.631896   0.781609  0.708333  0.893191  238.621270     0.485921  \n",
              "4        0.639147   0.790698  0.708333  0.894422  237.107729     0.540674  \n",
              "5        0.637992   0.797619  0.697917  0.893447  235.491043     0.208592  \n",
              "6        0.622054   0.785714  0.687500  0.891651  235.243140     0.265438  \n",
              "7        0.591671   0.755814  0.677083  0.890574  234.643174     0.000029  \n",
              "8        0.591671   0.755814  0.677083  0.890574  234.643174     0.000029  \n",
              "9        0.591671   0.755814  0.677083  0.890574  234.643174     0.000029  \n",
              "10       0.591671   0.755814  0.677083  0.890574  234.643174     0.000029  \n",
              "11       0.591671   0.755814  0.677083  0.890574  234.643174     0.000029  "
            ]
          },
          "metadata": {
            "tags": []
          },
          "execution_count": 35
        }
      ]
    },
    {
      "cell_type": "code",
      "metadata": {
        "id": "T5FjDO4Fy2qd",
        "outputId": "e137ae63-7ae1-4872-a4ce-3241b761005f"
      },
      "source": [
        "df_eval2.max()"
      ],
      "execution_count": null,
      "outputs": [
        {
          "output_type": "execute_result",
          "data": {
            "text/plain": [
              "Combination                                                    11\n",
              "Predictors       [age, ejection_fraction, serum_creatinine, time]\n",
              "Accuracy                                                  84.6154\n",
              "Matthews_Coef                                            0.639147\n",
              "Precision                                                0.797619\n",
              "Recall                                                   0.708333\n",
              "AUC                                                      0.895448\n",
              "AIC                                                        244.45\n",
              "max_p-value                                              0.898092\n",
              "dtype: object"
            ]
          },
          "metadata": {
            "tags": []
          },
          "execution_count": 36
        }
      ]
    },
    {
      "cell_type": "markdown",
      "metadata": {
        "id": "s6jgxMTfy2qe"
      },
      "source": [
        "The predictors set/combination no.4 has the model with highest accuracy and Matthews correlation coefficient (MCC) values. The maximum p-value of attributes is still quite high at 0.54. However, models with p_values less than 0.005 have lower acc and mcc.\n",
        "\n",
        "The attributes in this model are quite similar to the relevant attributes ranked by Random Forest Classifier (shown under Machine Learning section below), except for sex_0. This attribute may be relevant in the logit model because of its high coefficient value."
      ]
    },
    {
      "cell_type": "code",
      "metadata": {
        "id": "J-gj8vjZy2qe",
        "outputId": "83593fc9-4511-47c7-dcaa-fbd56ff76f87"
      },
      "source": [
        "logitfit(df_new, df_eval2.Predictors[4])\n",
        "ACC_app3 = df_eval2.Accuracy[4]\n",
        "print(m.summary2())"
      ],
      "execution_count": null,
      "outputs": [
        {
          "output_type": "stream",
          "text": [
            "                             Results: Logit\n",
            "========================================================================\n",
            "Model:                 Logit              Pseudo R-squared:   0.406     \n",
            "Dependent Variable:    DEATH_EVENT        AIC:                237.1077  \n",
            "Date:                  2020-12-12 14:08   BIC:                263.0108  \n",
            "No. Observations:      299                Log-Likelihood:     -111.55   \n",
            "Df Model:              6                  LL-Null:            -187.67   \n",
            "Df Residuals:          292                LLR p-value:        2.5981e-30\n",
            "Converged:             1.0000             Scale:              1.0000    \n",
            "No. Iterations:        7.0000                                           \n",
            "------------------------------------------------------------------------\n",
            "                          Coef.  Std.Err.    z    P>|z|   [0.025  0.975]\n",
            "------------------------------------------------------------------------\n",
            "age                       0.0520   0.0112  4.6298 0.0000  0.0300  0.0740\n",
            "creatinine_phosphokinase  0.0002   0.0002  1.3227 0.1859 -0.0001  0.0006\n",
            "ejection_fraction        -0.0751   0.0153 -4.9171 0.0000 -0.1050 -0.0452\n",
            "platelets                -0.0000   0.0000 -0.6118 0.5407 -0.0000  0.0000\n",
            "serum_creatinine          0.7117   0.1771  4.0188 0.0001  0.3646  1.0588\n",
            "time                     -0.0203   0.0028 -7.2855 0.0000 -0.0258 -0.0148\n",
            "sex_0                     0.5058   0.3626  1.3948 0.1631 -0.2049  1.2164\n",
            "========================================================================\n",
            "\n"
          ],
          "name": "stdout"
        }
      ]
    },
    {
      "cell_type": "code",
      "metadata": {
        "id": "c2nFTxLay2qe",
        "outputId": "e17ae591-cb49-4441-b7f5-1019feff0846"
      },
      "source": [
        "m.pvalues.sort_values(ascending=True)"
      ],
      "execution_count": null,
      "outputs": [
        {
          "output_type": "execute_result",
          "data": {
            "text/plain": [
              "time                        3.204689e-13\n",
              "ejection_fraction           8.781893e-07\n",
              "age                         3.660122e-06\n",
              "serum_creatinine            5.848753e-05\n",
              "sex_0                       1.630648e-01\n",
              "creatinine_phosphokinase    1.859232e-01\n",
              "platelets                   5.406741e-01\n",
              "dtype: float64"
            ]
          },
          "metadata": {
            "tags": []
          },
          "execution_count": 38
        }
      ]
    },
    {
      "cell_type": "code",
      "metadata": {
        "id": "7iHSfWgdy2qf",
        "outputId": "9afe57de-fe01-4d84-cecf-859700127b11"
      },
      "source": [
        "params = m.params\n",
        "conf = m.conf_int()\n",
        "conf['Odds Ratio'] = params\n",
        "conf.columns = ['5%', '95%', 'Odds Ratio']\n",
        "print(np.exp(conf).sort_values('Odds Ratio', ascending=False))"
      ],
      "execution_count": null,
      "outputs": [
        {
          "output_type": "stream",
          "text": [
            "                                5%       95%  Odds Ratio\n",
            "serum_creatinine          1.439946  2.882874    2.037445\n",
            "sex_0                     0.814719  3.375124    1.658246\n",
            "age                       1.030427  1.076786    1.053351\n",
            "creatinine_phosphokinase  0.999892  1.000555    1.000224\n",
            "platelets                 0.999996  1.000002    0.999999\n",
            "time                      0.974570  0.985272    0.979907\n",
            "ejection_fraction         0.900296  0.955841    0.927653\n"
          ],
          "name": "stdout"
        }
      ]
    },
    {
      "cell_type": "markdown",
      "metadata": {
        "id": "Zp4ihktKy2qf"
      },
      "source": [
        "The above indicates that the attributes namely **age, creatinine phosphokinase, ejection fraction, platelets, serum creatinine, time and females can satisfactorily predict the death occurence due to heart failure**, given the evaluation criteria. \n",
        "\n",
        ".\n",
        "\n",
        "From the above, we now know that **high levels of serum creatinine contribute to occurence of death, as it has the highest greater than 1 odds ratio**. Moreover, **females are more susceptible** to death due to heart failure, as evident also by the high odds ratio (greater than 1). **Age and creatinine phosphokinase are also associated with death occurence but to lower extents**. Meanwhile, ejection fraction, time (follow-up period) and platelets density are associated to the non-occurence of death because of as indicated by their less than 1 odds ratio. \n",
        ".\n",
        "\n",
        "**Time, ejection fraction, age and serum creatinine have p-values less than 0.5% significance level. These indicate that there is significant evidence to conclude these attributes are correlated to heart failure.** \n",
        "\n",
        ".\n",
        "\n",
        "Interestingly, **time is significant and is negatively associated with death occurence**. Perhaps, it could be interpreted that the longer the gap between follow-up check-ups, the less severe is the heart issue, thus less likely for patient to die.\n",
        "\n",
        ".\n",
        "\n"
      ]
    },
    {
      "cell_type": "markdown",
      "metadata": {
        "id": "tGSpyLKVy2qf"
      },
      "source": [
        "* **Logistic Regression using Machine Learning** "
      ]
    },
    {
      "cell_type": "code",
      "metadata": {
        "id": "cXNFXYFEy2qf",
        "outputId": "928f4659-8ade-42a0-86ad-68bf33500a46"
      },
      "source": [
        "df = pd.read_csv('./heart_failure_clinical_records_dataset.csv')\n",
        "\n",
        "X_train_log, X_test_log, y_train_log, y_test_log = train_test_split(df.drop('DEATH_EVENT',axis=1), \n",
        "                                                    df['DEATH_EVENT'], test_size=0.30, \n",
        "                                                    random_state=101)\n",
        "logmodel = LogisticRegression()\n",
        "logmodel.fit(X_train_log,y_train_log)"
      ],
      "execution_count": null,
      "outputs": [
        {
          "output_type": "execute_result",
          "data": {
            "text/plain": [
              "LogisticRegression()"
            ]
          },
          "metadata": {
            "tags": []
          },
          "execution_count": 40
        }
      ]
    },
    {
      "cell_type": "code",
      "metadata": {
        "id": "na9ne66dy2qf",
        "outputId": "71d28778-e55d-4ee1-afc7-fbbd5191300d"
      },
      "source": [
        "df_coef = pd.DataFrame(df.drop('DEATH_EVENT',axis=1).columns)\n",
        "df_coef.loc[:,'coefficient'] = logmodel.coef_[0]\n",
        "df_coef.loc[:,'Odds Ratio'] = np.exp(logmodel.coef_[0])\n",
        "df_coef.sort_values(by=['Odds Ratio'], inplace=True, ascending=False)\n",
        "df_coef"
      ],
      "execution_count": null,
      "outputs": [
        {
          "output_type": "execute_result",
          "data": {
            "text/html": [
              "<div>\n",
              "<style scoped>\n",
              "    .dataframe tbody tr th:only-of-type {\n",
              "        vertical-align: middle;\n",
              "    }\n",
              "\n",
              "    .dataframe tbody tr th {\n",
              "        vertical-align: top;\n",
              "    }\n",
              "\n",
              "    .dataframe thead th {\n",
              "        text-align: right;\n",
              "    }\n",
              "</style>\n",
              "<table border=\"1\" class=\"dataframe\">\n",
              "  <thead>\n",
              "    <tr style=\"text-align: right;\">\n",
              "      <th></th>\n",
              "      <th>0</th>\n",
              "      <th>coefficient</th>\n",
              "      <th>Odds Ratio</th>\n",
              "    </tr>\n",
              "  </thead>\n",
              "  <tbody>\n",
              "    <tr>\n",
              "      <th>0</th>\n",
              "      <td>age</td>\n",
              "      <td>9.358023e-03</td>\n",
              "      <td>1.009402</td>\n",
              "    </tr>\n",
              "    <tr>\n",
              "      <th>8</th>\n",
              "      <td>serum_sodium</td>\n",
              "      <td>8.571668e-03</td>\n",
              "      <td>1.008609</td>\n",
              "    </tr>\n",
              "    <tr>\n",
              "      <th>7</th>\n",
              "      <td>serum_creatinine</td>\n",
              "      <td>5.231787e-04</td>\n",
              "      <td>1.000523</td>\n",
              "    </tr>\n",
              "    <tr>\n",
              "      <th>2</th>\n",
              "      <td>creatinine_phosphokinase</td>\n",
              "      <td>2.147997e-04</td>\n",
              "      <td>1.000215</td>\n",
              "    </tr>\n",
              "    <tr>\n",
              "      <th>1</th>\n",
              "      <td>anaemia</td>\n",
              "      <td>1.172142e-04</td>\n",
              "      <td>1.000117</td>\n",
              "    </tr>\n",
              "    <tr>\n",
              "      <th>10</th>\n",
              "      <td>smoking</td>\n",
              "      <td>6.249943e-05</td>\n",
              "      <td>1.000063</td>\n",
              "    </tr>\n",
              "    <tr>\n",
              "      <th>5</th>\n",
              "      <td>high_blood_pressure</td>\n",
              "      <td>4.799447e-05</td>\n",
              "      <td>1.000048</td>\n",
              "    </tr>\n",
              "    <tr>\n",
              "      <th>9</th>\n",
              "      <td>sex</td>\n",
              "      <td>3.333940e-05</td>\n",
              "      <td>1.000033</td>\n",
              "    </tr>\n",
              "    <tr>\n",
              "      <th>3</th>\n",
              "      <td>diabetes</td>\n",
              "      <td>3.177202e-05</td>\n",
              "      <td>1.000032</td>\n",
              "    </tr>\n",
              "    <tr>\n",
              "      <th>6</th>\n",
              "      <td>platelets</td>\n",
              "      <td>-9.060658e-07</td>\n",
              "      <td>0.999999</td>\n",
              "    </tr>\n",
              "    <tr>\n",
              "      <th>4</th>\n",
              "      <td>ejection_fraction</td>\n",
              "      <td>-2.787714e-03</td>\n",
              "      <td>0.997216</td>\n",
              "    </tr>\n",
              "    <tr>\n",
              "      <th>11</th>\n",
              "      <td>time</td>\n",
              "      <td>-2.073900e-02</td>\n",
              "      <td>0.979475</td>\n",
              "    </tr>\n",
              "  </tbody>\n",
              "</table>\n",
              "</div>"
            ],
            "text/plain": [
              "                           0   coefficient  Odds Ratio\n",
              "0                        age  9.358023e-03    1.009402\n",
              "8               serum_sodium  8.571668e-03    1.008609\n",
              "7           serum_creatinine  5.231787e-04    1.000523\n",
              "2   creatinine_phosphokinase  2.147997e-04    1.000215\n",
              "1                    anaemia  1.172142e-04    1.000117\n",
              "10                   smoking  6.249943e-05    1.000063\n",
              "5        high_blood_pressure  4.799447e-05    1.000048\n",
              "9                        sex  3.333940e-05    1.000033\n",
              "3                   diabetes  3.177202e-05    1.000032\n",
              "6                  platelets -9.060658e-07    0.999999\n",
              "4          ejection_fraction -2.787714e-03    0.997216\n",
              "11                      time -2.073900e-02    0.979475"
            ]
          },
          "metadata": {
            "tags": []
          },
          "execution_count": 41
        }
      ]
    },
    {
      "cell_type": "code",
      "metadata": {
        "id": "Nd2zCQDfy2qg",
        "outputId": "4b2b0199-daa8-4c7e-ab96-1dafb470be36"
      },
      "source": [
        "#intercept\n",
        "print(logmodel.intercept_)"
      ],
      "execution_count": null,
      "outputs": [
        {
          "output_type": "stream",
          "text": [
            "[6.94810463e-05]\n"
          ],
          "name": "stdout"
        }
      ]
    },
    {
      "cell_type": "code",
      "metadata": {
        "id": "fNRhvl6zy2qg",
        "outputId": "23b1fb01-f436-4f71-eb24-0ec98d266633"
      },
      "source": [
        "predictions_log = logmodel.predict(X_test_log)\n",
        "df_log = pd.DataFrame({'Actual': y_test_log, 'Predicted': predictions_log})  \n",
        "df_log.loc[:, 'p'] = [i[1] for i in logmodel.predict_proba(X_test_log)]\n",
        "df_log.head()"
      ],
      "execution_count": null,
      "outputs": [
        {
          "output_type": "execute_result",
          "data": {
            "text/html": [
              "<div>\n",
              "<style scoped>\n",
              "    .dataframe tbody tr th:only-of-type {\n",
              "        vertical-align: middle;\n",
              "    }\n",
              "\n",
              "    .dataframe tbody tr th {\n",
              "        vertical-align: top;\n",
              "    }\n",
              "\n",
              "    .dataframe thead th {\n",
              "        text-align: right;\n",
              "    }\n",
              "</style>\n",
              "<table border=\"1\" class=\"dataframe\">\n",
              "  <thead>\n",
              "    <tr style=\"text-align: right;\">\n",
              "      <th></th>\n",
              "      <th>Actual</th>\n",
              "      <th>Predicted</th>\n",
              "      <th>p</th>\n",
              "    </tr>\n",
              "  </thead>\n",
              "  <tbody>\n",
              "    <tr>\n",
              "      <th>176</th>\n",
              "      <td>0</td>\n",
              "      <td>0</td>\n",
              "      <td>0.241054</td>\n",
              "    </tr>\n",
              "    <tr>\n",
              "      <th>280</th>\n",
              "      <td>0</td>\n",
              "      <td>0</td>\n",
              "      <td>0.045500</td>\n",
              "    </tr>\n",
              "    <tr>\n",
              "      <th>12</th>\n",
              "      <td>1</td>\n",
              "      <td>1</td>\n",
              "      <td>0.797696</td>\n",
              "    </tr>\n",
              "    <tr>\n",
              "      <th>16</th>\n",
              "      <td>1</td>\n",
              "      <td>1</td>\n",
              "      <td>0.804272</td>\n",
              "    </tr>\n",
              "    <tr>\n",
              "      <th>257</th>\n",
              "      <td>0</td>\n",
              "      <td>0</td>\n",
              "      <td>0.034163</td>\n",
              "    </tr>\n",
              "  </tbody>\n",
              "</table>\n",
              "</div>"
            ],
            "text/plain": [
              "     Actual  Predicted         p\n",
              "176       0          0  0.241054\n",
              "280       0          0  0.045500\n",
              "12        1          1  0.797696\n",
              "16        1          1  0.804272\n",
              "257       0          0  0.034163"
            ]
          },
          "metadata": {
            "tags": []
          },
          "execution_count": 43
        }
      ]
    },
    {
      "cell_type": "code",
      "metadata": {
        "id": "u22jnphDy2qg",
        "outputId": "c2bac010-c77c-49d8-80c5-12784e73df5a"
      },
      "source": [
        "df_log.loc[:, 'y_p'] = (df_log.p > 0.5) * 1\n",
        "df_log.y_p.value_counts()"
      ],
      "execution_count": null,
      "outputs": [
        {
          "output_type": "execute_result",
          "data": {
            "text/plain": [
              "0    68\n",
              "1    22\n",
              "Name: y_p, dtype: int64"
            ]
          },
          "metadata": {
            "tags": []
          },
          "execution_count": 44
        }
      ]
    },
    {
      "cell_type": "code",
      "metadata": {
        "id": "UYmDKvEuy2qg",
        "outputId": "d79f2fcd-032a-4190-a39a-3440fd5736e4"
      },
      "source": [
        "pd.crosstab(df.DEATH_EVENT, df_log.y_p)"
      ],
      "execution_count": null,
      "outputs": [
        {
          "output_type": "execute_result",
          "data": {
            "text/html": [
              "<div>\n",
              "<style scoped>\n",
              "    .dataframe tbody tr th:only-of-type {\n",
              "        vertical-align: middle;\n",
              "    }\n",
              "\n",
              "    .dataframe tbody tr th {\n",
              "        vertical-align: top;\n",
              "    }\n",
              "\n",
              "    .dataframe thead th {\n",
              "        text-align: right;\n",
              "    }\n",
              "</style>\n",
              "<table border=\"1\" class=\"dataframe\">\n",
              "  <thead>\n",
              "    <tr style=\"text-align: right;\">\n",
              "      <th>y_p</th>\n",
              "      <th>0</th>\n",
              "      <th>1</th>\n",
              "    </tr>\n",
              "    <tr>\n",
              "      <th>DEATH_EVENT</th>\n",
              "      <th></th>\n",
              "      <th></th>\n",
              "    </tr>\n",
              "  </thead>\n",
              "  <tbody>\n",
              "    <tr>\n",
              "      <th>0</th>\n",
              "      <td>58</td>\n",
              "      <td>4</td>\n",
              "    </tr>\n",
              "    <tr>\n",
              "      <th>1</th>\n",
              "      <td>10</td>\n",
              "      <td>18</td>\n",
              "    </tr>\n",
              "  </tbody>\n",
              "</table>\n",
              "</div>"
            ],
            "text/plain": [
              "y_p           0   1\n",
              "DEATH_EVENT        \n",
              "0            58   4\n",
              "1            10  18"
            ]
          },
          "metadata": {
            "tags": []
          },
          "execution_count": 45
        }
      ]
    },
    {
      "cell_type": "code",
      "metadata": {
        "id": "Zu0Lcd7Vy2qh",
        "outputId": "77581a59-8dcb-405a-aea4-e043af38a432"
      },
      "source": [
        "#accuracy\n",
        "ACC_ml_log = 100*logmodel.score(X_test_log, y_test_log)\n",
        "ACC_ml_log"
      ],
      "execution_count": null,
      "outputs": [
        {
          "output_type": "execute_result",
          "data": {
            "text/plain": [
              "84.44444444444444"
            ]
          },
          "metadata": {
            "tags": []
          },
          "execution_count": 46
        }
      ]
    },
    {
      "cell_type": "code",
      "metadata": {
        "id": "oOVkXZbdy2qh",
        "outputId": "0e6e078a-4e90-42ad-d18d-7438a415285c"
      },
      "source": [
        "print(classification_report(y_test_log,predictions_log)) #other evaluation criteria"
      ],
      "execution_count": null,
      "outputs": [
        {
          "output_type": "stream",
          "text": [
            "              precision    recall  f1-score   support\n",
            "\n",
            "           0       0.85      0.94      0.89        62\n",
            "           1       0.82      0.64      0.72        28\n",
            "\n",
            "    accuracy                           0.84        90\n",
            "   macro avg       0.84      0.79      0.81        90\n",
            "weighted avg       0.84      0.84      0.84        90\n",
            "\n"
          ],
          "name": "stdout"
        }
      ]
    },
    {
      "cell_type": "markdown",
      "metadata": {
        "id": "A2R4wKy7y2qh"
      },
      "source": [
        "**Taking all attributes as predictors**, there is an **increase in model accuracy** when using machine learning test-train algorithm. The increase in accuracy is from 84.28% to 84.44%.\n",
        "\n",
        "."
      ]
    },
    {
      "cell_type": "markdown",
      "metadata": {
        "id": "baqxKqSfy2qh"
      },
      "source": [
        "### Machine Learning (ML) Models (other classifiers) \n",
        "\n",
        "Here, we consider an important concept in ML models: the concept of **train and test**. The idea is to split a data into two parts, usually 80% and 20% OR 70% and 30%, where the first portion of the data is used to train the model, and the second part is used to test it. This is called *Supervised Learning*.\n",
        "\n",
        "Here, we study two different approaches:\n",
        "* Random Forest Classifier\n",
        "* KNN Classifier"
      ]
    },
    {
      "cell_type": "markdown",
      "metadata": {
        "id": "uo4XT0z_y2qh"
      },
      "source": [
        "Let's fit the data based on a model obtained using the **Random Forest classifier**."
      ]
    },
    {
      "cell_type": "markdown",
      "metadata": {
        "id": "Fo43sP7Zy2qh"
      },
      "source": [
        "X represents the features/predictors/input for the model.\n",
        "y is the training target for ML model. In this example, it is the binary column 'DEATH_EVENT'."
      ]
    },
    {
      "cell_type": "code",
      "metadata": {
        "id": "QuRaa0Cby2qh"
      },
      "source": [
        "df = pd.read_csv('./heart_failure_clinical_records_dataset.csv')"
      ],
      "execution_count": null,
      "outputs": []
    },
    {
      "cell_type": "code",
      "metadata": {
        "id": "v18iMBmBy2qi",
        "outputId": "ab3ceec1-4f16-40f3-d870-ef282b9124bb"
      },
      "source": [
        "X = df[['age', 'anaemia', 'creatinine_phosphokinase', 'diabetes', 'ejection_fraction', 'high_blood_pressure', 'platelets', 'serum_creatinine', 'serum_sodium', 'sex','smoking','time']]\n",
        "y = df['DEATH_EVENT']\n",
        "\n",
        "print(X.shape)\n",
        "print(y.shape)"
      ],
      "execution_count": null,
      "outputs": [
        {
          "output_type": "stream",
          "text": [
            "(299, 12)\n",
            "(299,)\n"
          ],
          "name": "stdout"
        }
      ]
    },
    {
      "cell_type": "markdown",
      "metadata": {
        "id": "MBNJuCt2y2qi"
      },
      "source": [
        "**Train-test split**: 80% of the data will be used for training and 20% for testing."
      ]
    },
    {
      "cell_type": "code",
      "metadata": {
        "id": "ftv-DZCKy2qi",
        "outputId": "fcf0fa8c-6e9d-4812-ae2f-5b20c71a433c"
      },
      "source": [
        "X_train, X_test, y_train, y_test = train_test_split(X, y, test_size=0.2)\n",
        "\n",
        "print(X_train.shape)\n",
        "print(X_test.shape)\n",
        "print(y_train.shape)\n",
        "print(y_test.shape)"
      ],
      "execution_count": null,
      "outputs": [
        {
          "output_type": "stream",
          "text": [
            "(239, 12)\n",
            "(60, 12)\n",
            "(239,)\n",
            "(60,)\n"
          ],
          "name": "stdout"
        }
      ]
    },
    {
      "cell_type": "code",
      "metadata": {
        "id": "qtNIiT-Qy2qi",
        "outputId": "02041623-ea90-415c-8d38-205181521cc0"
      },
      "source": [
        "X_train.head()"
      ],
      "execution_count": null,
      "outputs": [
        {
          "output_type": "execute_result",
          "data": {
            "text/html": [
              "<div>\n",
              "<style scoped>\n",
              "    .dataframe tbody tr th:only-of-type {\n",
              "        vertical-align: middle;\n",
              "    }\n",
              "\n",
              "    .dataframe tbody tr th {\n",
              "        vertical-align: top;\n",
              "    }\n",
              "\n",
              "    .dataframe thead th {\n",
              "        text-align: right;\n",
              "    }\n",
              "</style>\n",
              "<table border=\"1\" class=\"dataframe\">\n",
              "  <thead>\n",
              "    <tr style=\"text-align: right;\">\n",
              "      <th></th>\n",
              "      <th>age</th>\n",
              "      <th>anaemia</th>\n",
              "      <th>creatinine_phosphokinase</th>\n",
              "      <th>diabetes</th>\n",
              "      <th>ejection_fraction</th>\n",
              "      <th>high_blood_pressure</th>\n",
              "      <th>platelets</th>\n",
              "      <th>serum_creatinine</th>\n",
              "      <th>serum_sodium</th>\n",
              "      <th>sex</th>\n",
              "      <th>smoking</th>\n",
              "      <th>time</th>\n",
              "    </tr>\n",
              "  </thead>\n",
              "  <tbody>\n",
              "    <tr>\n",
              "      <th>178</th>\n",
              "      <td>63.0</td>\n",
              "      <td>1</td>\n",
              "      <td>122</td>\n",
              "      <td>1</td>\n",
              "      <td>60</td>\n",
              "      <td>0</td>\n",
              "      <td>267000.00</td>\n",
              "      <td>1.2</td>\n",
              "      <td>145</td>\n",
              "      <td>1</td>\n",
              "      <td>0</td>\n",
              "      <td>147</td>\n",
              "    </tr>\n",
              "    <tr>\n",
              "      <th>86</th>\n",
              "      <td>55.0</td>\n",
              "      <td>0</td>\n",
              "      <td>47</td>\n",
              "      <td>0</td>\n",
              "      <td>35</td>\n",
              "      <td>1</td>\n",
              "      <td>173000.00</td>\n",
              "      <td>1.1</td>\n",
              "      <td>137</td>\n",
              "      <td>1</td>\n",
              "      <td>0</td>\n",
              "      <td>79</td>\n",
              "    </tr>\n",
              "    <tr>\n",
              "      <th>210</th>\n",
              "      <td>70.0</td>\n",
              "      <td>0</td>\n",
              "      <td>212</td>\n",
              "      <td>1</td>\n",
              "      <td>17</td>\n",
              "      <td>1</td>\n",
              "      <td>389000.00</td>\n",
              "      <td>1.0</td>\n",
              "      <td>136</td>\n",
              "      <td>1</td>\n",
              "      <td>1</td>\n",
              "      <td>188</td>\n",
              "    </tr>\n",
              "    <tr>\n",
              "      <th>163</th>\n",
              "      <td>50.0</td>\n",
              "      <td>1</td>\n",
              "      <td>2334</td>\n",
              "      <td>1</td>\n",
              "      <td>35</td>\n",
              "      <td>0</td>\n",
              "      <td>75000.00</td>\n",
              "      <td>0.9</td>\n",
              "      <td>142</td>\n",
              "      <td>0</td>\n",
              "      <td>0</td>\n",
              "      <td>126</td>\n",
              "    </tr>\n",
              "    <tr>\n",
              "      <th>170</th>\n",
              "      <td>51.0</td>\n",
              "      <td>1</td>\n",
              "      <td>582</td>\n",
              "      <td>1</td>\n",
              "      <td>35</td>\n",
              "      <td>0</td>\n",
              "      <td>263358.03</td>\n",
              "      <td>1.5</td>\n",
              "      <td>136</td>\n",
              "      <td>1</td>\n",
              "      <td>1</td>\n",
              "      <td>145</td>\n",
              "    </tr>\n",
              "  </tbody>\n",
              "</table>\n",
              "</div>"
            ],
            "text/plain": [
              "      age  anaemia  creatinine_phosphokinase  diabetes  ejection_fraction  \\\n",
              "178  63.0        1                       122         1                 60   \n",
              "86   55.0        0                        47         0                 35   \n",
              "210  70.0        0                       212         1                 17   \n",
              "163  50.0        1                      2334         1                 35   \n",
              "170  51.0        1                       582         1                 35   \n",
              "\n",
              "     high_blood_pressure  platelets  serum_creatinine  serum_sodium  sex  \\\n",
              "178                    0  267000.00               1.2           145    1   \n",
              "86                     1  173000.00               1.1           137    1   \n",
              "210                    1  389000.00               1.0           136    1   \n",
              "163                    0   75000.00               0.9           142    0   \n",
              "170                    0  263358.03               1.5           136    1   \n",
              "\n",
              "     smoking  time  \n",
              "178        0   147  \n",
              "86         0    79  \n",
              "210        1   188  \n",
              "163        0   126  \n",
              "170        1   145  "
            ]
          },
          "metadata": {
            "tags": []
          },
          "execution_count": 51
        }
      ]
    },
    {
      "cell_type": "code",
      "metadata": {
        "id": "Vt2YDP1Cy2qi",
        "outputId": "12fb6e6a-8d96-4fd6-bf9b-4dd0622c42ff"
      },
      "source": [
        "y_train.head()"
      ],
      "execution_count": null,
      "outputs": [
        {
          "output_type": "execute_result",
          "data": {
            "text/plain": [
              "178    0\n",
              "86     0\n",
              "210    0\n",
              "163    1\n",
              "170    0\n",
              "Name: DEATH_EVENT, dtype: int64"
            ]
          },
          "metadata": {
            "tags": []
          },
          "execution_count": 52
        }
      ]
    },
    {
      "cell_type": "markdown",
      "metadata": {
        "id": "ls5OfhRIy2qj"
      },
      "source": [
        "**Using the Random Forest Classifier**"
      ]
    },
    {
      "cell_type": "markdown",
      "metadata": {
        "id": "_cVuzXy_y2qj"
      },
      "source": [
        "**TRAINING**"
      ]
    },
    {
      "cell_type": "code",
      "metadata": {
        "id": "Qvy1gXSJy2qj",
        "outputId": "daad2dfd-f0ee-477f-bcf9-5946a04d3d29"
      },
      "source": [
        "%%time\n",
        "rf_clf = RandomForestClassifier(n_estimators=200, n_jobs=-1)\n",
        "rf_clf.fit(X_train, y_train) #train the model on the training set"
      ],
      "execution_count": null,
      "outputs": [
        {
          "output_type": "stream",
          "text": [
            "Wall time: 295 ms\n"
          ],
          "name": "stdout"
        },
        {
          "output_type": "execute_result",
          "data": {
            "text/plain": [
              "RandomForestClassifier(n_estimators=200, n_jobs=-1)"
            ]
          },
          "metadata": {
            "tags": []
          },
          "execution_count": 53
        }
      ]
    },
    {
      "cell_type": "markdown",
      "metadata": {
        "id": "pPNycjlTy2qj"
      },
      "source": [
        "**TESTING**"
      ]
    },
    {
      "cell_type": "code",
      "metadata": {
        "id": "l_AdqVeLy2qj",
        "outputId": "17e3a0cf-2ed4-431f-a6e9-99dba10033f3"
      },
      "source": [
        "y_pred = rf_clf.predict(X_test) #make predictions for the test set\n",
        "print(y_pred.shape)\n",
        "y_pred #these are the predictions made by the model"
      ],
      "execution_count": null,
      "outputs": [
        {
          "output_type": "stream",
          "text": [
            "(60,)\n"
          ],
          "name": "stdout"
        },
        {
          "output_type": "execute_result",
          "data": {
            "text/plain": [
              "array([0, 1, 1, 0, 0, 1, 0, 0, 1, 0, 0, 0, 0, 0, 1, 0, 0, 0, 1, 1, 0, 1,\n",
              "       0, 0, 1, 1, 0, 1, 0, 1, 0, 0, 0, 0, 0, 0, 0, 0, 0, 1, 0, 0, 0, 0,\n",
              "       0, 0, 0, 0, 0, 0, 0, 0, 0, 0, 1, 0, 0, 0, 0, 1], dtype=int64)"
            ]
          },
          "metadata": {
            "tags": []
          },
          "execution_count": 54
        }
      ]
    },
    {
      "cell_type": "code",
      "metadata": {
        "id": "ukgmEpTny2qk",
        "outputId": "b48c7e22-e217-439a-c431-3c9864505fbe"
      },
      "source": [
        "#compare y_pred to our actual y_test\n",
        "(y_pred == y_test).sum()"
      ],
      "execution_count": null,
      "outputs": [
        {
          "output_type": "execute_result",
          "data": {
            "text/plain": [
              "54"
            ]
          },
          "metadata": {
            "tags": []
          },
          "execution_count": 55
        }
      ]
    },
    {
      "cell_type": "markdown",
      "metadata": {
        "id": "fBTMCny4y2qk"
      },
      "source": [
        "**This is a really good number: Out of the 60 tested, the model got 55 of them right!**"
      ]
    },
    {
      "cell_type": "markdown",
      "metadata": {
        "id": "ry42vzory2qk"
      },
      "source": [
        "Let's calculate the accuracy of our prediction:"
      ]
    },
    {
      "cell_type": "code",
      "metadata": {
        "id": "TrRzACHey2qk",
        "outputId": "5d755a3c-a7e3-4d0f-ee78-5e08744dab4e"
      },
      "source": [
        "ACC_RFC = 100*accuracy_score(y_test, y_pred)\n",
        "print(ACC_RFC)"
      ],
      "execution_count": null,
      "outputs": [
        {
          "output_type": "stream",
          "text": [
            "90.0\n"
          ],
          "name": "stdout"
        }
      ]
    },
    {
      "cell_type": "code",
      "metadata": {
        "id": "ZEIPnTJby2qk",
        "outputId": "19796a51-3e42-4ecd-8cd5-33e001a98a25"
      },
      "source": [
        "print('This is', accuracy_score(y_test, y_pred)*100,'% accuracy in the ability of the model to predict Heart Failure.')"
      ],
      "execution_count": null,
      "outputs": [
        {
          "output_type": "stream",
          "text": [
            "This is 90.0 % accuracy in the ability of the model to predict Heart Failure.\n"
          ],
          "name": "stdout"
        }
      ]
    },
    {
      "cell_type": "code",
      "metadata": {
        "id": "WDR0hW3Ly2qk",
        "outputId": "17538c6c-ff37-46dc-ba49-b362959f6135"
      },
      "source": [
        "y_test.value_counts()"
      ],
      "execution_count": null,
      "outputs": [
        {
          "output_type": "execute_result",
          "data": {
            "text/plain": [
              "0    39\n",
              "1    21\n",
              "Name: DEATH_EVENT, dtype: int64"
            ]
          },
          "metadata": {
            "tags": []
          },
          "execution_count": 58
        }
      ]
    },
    {
      "cell_type": "code",
      "metadata": {
        "id": "voPvH4nay2ql",
        "outputId": "08801153-ae9f-4d42-a4c6-613f475073e1"
      },
      "source": [
        "y_test.value_counts()[0]/y_test.value_counts().sum()"
      ],
      "execution_count": null,
      "outputs": [
        {
          "output_type": "execute_result",
          "data": {
            "text/plain": [
              "0.65"
            ]
          },
          "metadata": {
            "tags": []
          },
          "execution_count": 59
        }
      ]
    },
    {
      "cell_type": "markdown",
      "metadata": {
        "id": "sSQwvTcIy2ql"
      },
      "source": [
        "One way to visualize this is to use a **Confusion Matrix**."
      ]
    },
    {
      "cell_type": "code",
      "metadata": {
        "id": "l9coOmn4y2ql",
        "outputId": "ee35f11d-2ff4-4aff-812a-a20c3d644b0d"
      },
      "source": [
        "#visualize classification results with confusion matrix\n",
        "from sklearn.metrics import plot_confusion_matrix\n",
        "with plt.style.context(\"default\"): #temporarily set the plot style\n",
        "  fig = plt.figure(figsize=(20,15))\n",
        "  ax = plot_confusion_matrix(rf_clf, X_test, y_test, values_format=\"\", cmap=\"Blues\")"
      ],
      "execution_count": null,
      "outputs": [
        {
          "output_type": "display_data",
          "data": {
            "text/plain": [
              "<Figure size 2000x1500 with 0 Axes>"
            ]
          },
          "metadata": {
            "tags": []
          }
        },
        {
          "output_type": "display_data",
          "data": {
            "image/png": "[encoded data removed]",
            "text/plain": [
              "<Figure size 640x480 with 2 Axes>"
            ]
          },
          "metadata": {
            "tags": []
          }
        }
      ]
    },
    {
      "cell_type": "markdown",
      "metadata": {
        "id": "YFKSFmtgy2ql"
      },
      "source": [
        "Now, let's look at the **most important features** that determine Death."
      ]
    },
    {
      "cell_type": "code",
      "metadata": {
        "id": "qKE9Aeg-y2ql",
        "outputId": "287a8b43-2dff-4f7a-9412-aaa53391a82a"
      },
      "source": [
        "df_imp = pd.DataFrame(rf_clf.feature_importances_, index=X_train.columns, columns=[\"Feature Importance\"]).sort_values(\"Feature Importance\", ascending=False)\n",
        "df_imp"
      ],
      "execution_count": null,
      "outputs": [
        {
          "output_type": "execute_result",
          "data": {
            "text/html": [
              "<div>\n",
              "<style scoped>\n",
              "    .dataframe tbody tr th:only-of-type {\n",
              "        vertical-align: middle;\n",
              "    }\n",
              "\n",
              "    .dataframe tbody tr th {\n",
              "        vertical-align: top;\n",
              "    }\n",
              "\n",
              "    .dataframe thead th {\n",
              "        text-align: right;\n",
              "    }\n",
              "</style>\n",
              "<table border=\"1\" class=\"dataframe\">\n",
              "  <thead>\n",
              "    <tr style=\"text-align: right;\">\n",
              "      <th></th>\n",
              "      <th>Feature Importance</th>\n",
              "    </tr>\n",
              "  </thead>\n",
              "  <tbody>\n",
              "    <tr>\n",
              "      <th>time</th>\n",
              "      <td>0.343004</td>\n",
              "    </tr>\n",
              "    <tr>\n",
              "      <th>serum_creatinine</th>\n",
              "      <td>0.127541</td>\n",
              "    </tr>\n",
              "    <tr>\n",
              "      <th>ejection_fraction</th>\n",
              "      <td>0.125640</td>\n",
              "    </tr>\n",
              "    <tr>\n",
              "      <th>age</th>\n",
              "      <td>0.106342</td>\n",
              "    </tr>\n",
              "    <tr>\n",
              "      <th>creatinine_phosphokinase</th>\n",
              "      <td>0.087558</td>\n",
              "    </tr>\n",
              "    <tr>\n",
              "      <th>platelets</th>\n",
              "      <td>0.081745</td>\n",
              "    </tr>\n",
              "    <tr>\n",
              "      <th>serum_sodium</th>\n",
              "      <td>0.063689</td>\n",
              "    </tr>\n",
              "    <tr>\n",
              "      <th>sex</th>\n",
              "      <td>0.014268</td>\n",
              "    </tr>\n",
              "    <tr>\n",
              "      <th>smoking</th>\n",
              "      <td>0.013576</td>\n",
              "    </tr>\n",
              "    <tr>\n",
              "      <th>diabetes</th>\n",
              "      <td>0.013137</td>\n",
              "    </tr>\n",
              "    <tr>\n",
              "      <th>high_blood_pressure</th>\n",
              "      <td>0.012092</td>\n",
              "    </tr>\n",
              "    <tr>\n",
              "      <th>anaemia</th>\n",
              "      <td>0.011407</td>\n",
              "    </tr>\n",
              "  </tbody>\n",
              "</table>\n",
              "</div>"
            ],
            "text/plain": [
              "                          Feature Importance\n",
              "time                                0.343004\n",
              "serum_creatinine                    0.127541\n",
              "ejection_fraction                   0.125640\n",
              "age                                 0.106342\n",
              "creatinine_phosphokinase            0.087558\n",
              "platelets                           0.081745\n",
              "serum_sodium                        0.063689\n",
              "sex                                 0.014268\n",
              "smoking                             0.013576\n",
              "diabetes                            0.013137\n",
              "high_blood_pressure                 0.012092\n",
              "anaemia                             0.011407"
            ]
          },
          "metadata": {
            "tags": []
          },
          "execution_count": 61
        }
      ]
    },
    {
      "cell_type": "markdown",
      "metadata": {
        "id": "0kMa8DTLy2qm"
      },
      "source": [
        "Notice how the significance is directly related to the correlations calculated in the early part of this analysis.\n",
        "\n",
        "Here is a visual for the feature importance, as used by the Random Forest Classifier:"
      ]
    },
    {
      "cell_type": "code",
      "metadata": {
        "id": "LUf-7eQDy2qm",
        "outputId": "c131bb99-876e-46c8-8ada-0568c63e1397"
      },
      "source": [
        "fig = plt.figure(figsize=(20,10))\n",
        "ax = sns.barplot(x=\"Feature Importance\", y=df_imp.index, data=df_imp, palette=\"summer\")\n",
        "fig.suptitle(\"Feature Importance of Random Forest Classifier\", y=0.92, fontsize=18);"
      ],
      "execution_count": null,
      "outputs": [
        {
          "output_type": "display_data",
          "data": {
            "image/png": "[encoded data removed]",
            "text/plain": [
              "<Figure size 1440x720 with 1 Axes>"
            ]
          },
          "metadata": {
            "tags": [],
            "needs_background": "light"
          }
        }
      ]
    },
    {
      "cell_type": "markdown",
      "metadata": {
        "id": "eDsPOuemy2qm"
      },
      "source": [
        "Now, let's build a model using the **k-Nearest Neighbors Classifier**."
      ]
    },
    {
      "cell_type": "code",
      "metadata": {
        "id": "56MV3bzsy2qm"
      },
      "source": [
        "from sklearn import preprocessing\n",
        "le=preprocessing.LabelEncoder()\n",
        "le.fit(df['DEATH_EVENT'])\n",
        "df['DEATH_EVENT_t']=le.transform(df['DEATH_EVENT'])"
      ],
      "execution_count": null,
      "outputs": []
    },
    {
      "cell_type": "code",
      "metadata": {
        "id": "0n_Pg0Ahy2qm",
        "outputId": "ee529782-1202-4566-affe-873e29163af4"
      },
      "source": [
        "pd.crosstab(df['DEATH_EVENT'],df['DEATH_EVENT_t'])"
      ],
      "execution_count": null,
      "outputs": [
        {
          "output_type": "execute_result",
          "data": {
            "text/html": [
              "<div>\n",
              "<style scoped>\n",
              "    .dataframe tbody tr th:only-of-type {\n",
              "        vertical-align: middle;\n",
              "    }\n",
              "\n",
              "    .dataframe tbody tr th {\n",
              "        vertical-align: top;\n",
              "    }\n",
              "\n",
              "    .dataframe thead th {\n",
              "        text-align: right;\n",
              "    }\n",
              "</style>\n",
              "<table border=\"1\" class=\"dataframe\">\n",
              "  <thead>\n",
              "    <tr style=\"text-align: right;\">\n",
              "      <th>DEATH_EVENT_t</th>\n",
              "      <th>0</th>\n",
              "      <th>1</th>\n",
              "    </tr>\n",
              "    <tr>\n",
              "      <th>DEATH_EVENT</th>\n",
              "      <th></th>\n",
              "      <th></th>\n",
              "    </tr>\n",
              "  </thead>\n",
              "  <tbody>\n",
              "    <tr>\n",
              "      <th>0</th>\n",
              "      <td>203</td>\n",
              "      <td>0</td>\n",
              "    </tr>\n",
              "    <tr>\n",
              "      <th>1</th>\n",
              "      <td>0</td>\n",
              "      <td>96</td>\n",
              "    </tr>\n",
              "  </tbody>\n",
              "</table>\n",
              "</div>"
            ],
            "text/plain": [
              "DEATH_EVENT_t    0   1\n",
              "DEATH_EVENT           \n",
              "0              203   0\n",
              "1                0  96"
            ]
          },
          "metadata": {
            "tags": []
          },
          "execution_count": 64
        }
      ]
    },
    {
      "cell_type": "code",
      "metadata": {
        "id": "SVve6lZby2qn"
      },
      "source": [
        "X=df[['anaemia','age','creatinine_phosphokinase','diabetes','ejection_fraction','high_blood_pressure','platelets','serum_creatinine',\n",
        "              'serum_sodium','sex','smoking','time']]\n",
        "Y=df['DEATH_EVENT_t']"
      ],
      "execution_count": null,
      "outputs": []
    },
    {
      "cell_type": "code",
      "metadata": {
        "id": "xz0oVnaWy2qn",
        "outputId": "3ab94501-b765-4695-95cb-99b3b8fe803d"
      },
      "source": [
        "x_train,x_test,y_train,y_test=train_test_split(X,Y,test_size=0.3)\n",
        "print(x_train.shape)\n",
        "print(y_train.shape)\n",
        "print(x_test.shape)\n",
        "print(y_test.shape)"
      ],
      "execution_count": null,
      "outputs": [
        {
          "output_type": "stream",
          "text": [
            "(209, 12)\n",
            "(209,)\n",
            "(90, 12)\n",
            "(90,)\n"
          ],
          "name": "stdout"
        }
      ]
    },
    {
      "cell_type": "code",
      "metadata": {
        "id": "UDJXIkcBy2qn",
        "outputId": "db886bff-c54e-4520-9870-76006b4d89dd"
      },
      "source": [
        "knn = KNeighborsClassifier(n_neighbors=1)\n",
        "print(knn)"
      ],
      "execution_count": null,
      "outputs": [
        {
          "output_type": "stream",
          "text": [
            "KNeighborsClassifier(n_neighbors=1)\n"
          ],
          "name": "stdout"
        }
      ]
    },
    {
      "cell_type": "code",
      "metadata": {
        "id": "FpM-N4FTy2qn",
        "outputId": "8e0525da-68fc-441d-de98-5b0dc81febdc"
      },
      "source": [
        "knn.fit(x_train, y_train)"
      ],
      "execution_count": null,
      "outputs": [
        {
          "output_type": "execute_result",
          "data": {
            "text/plain": [
              "KNeighborsClassifier(n_neighbors=1)"
            ]
          },
          "metadata": {
            "tags": []
          },
          "execution_count": 68
        }
      ]
    },
    {
      "cell_type": "code",
      "metadata": {
        "id": "k4HxpME2y2qn",
        "outputId": "1fc90936-ec56-4378-c0b0-7f0805128d3a"
      },
      "source": [
        "result = knn.predict(x_test)\n",
        "y_pred=list(result)\n",
        "y_true=list(y_test)\n",
        "print(y_pred)\n",
        "print(y_true)"
      ],
      "execution_count": null,
      "outputs": [
        {
          "output_type": "stream",
          "text": [
            "[0, 0, 1, 0, 0, 0, 1, 0, 1, 1, 0, 0, 0, 0, 1, 0, 0, 1, 0, 1, 0, 0, 1, 0, 0, 1, 1, 0, 1, 1, 0, 1, 0, 0, 1, 0, 0, 0, 1, 0, 0, 0, 0, 0, 1, 0, 1, 0, 0, 1, 0, 0, 0, 0, 0, 0, 0, 0, 1, 0, 0, 0, 0, 0, 0, 0, 0, 0, 0, 1, 0, 0, 0, 0, 1, 0, 0, 0, 0, 0, 1, 0, 0, 1, 0, 0, 0, 0, 0, 1]\n",
            "[0, 1, 0, 0, 0, 1, 0, 0, 1, 0, 0, 1, 0, 1, 0, 1, 1, 0, 0, 0, 0, 0, 1, 0, 0, 0, 0, 0, 0, 0, 0, 0, 0, 0, 0, 0, 0, 1, 0, 0, 0, 1, 0, 0, 0, 1, 0, 0, 0, 0, 0, 1, 0, 0, 1, 1, 0, 1, 0, 0, 0, 0, 0, 0, 0, 1, 0, 0, 0, 0, 1, 0, 0, 0, 1, 0, 0, 1, 1, 0, 0, 0, 0, 0, 1, 1, 0, 0, 1, 0]\n"
          ],
          "name": "stdout"
        }
      ]
    },
    {
      "cell_type": "code",
      "metadata": {
        "id": "GkiVkqQyy2qo",
        "outputId": "a69014c4-4862-4e10-a110-6a1fa28dfc17"
      },
      "source": [
        "ACC_KNN = 100*accuracy_score(y_true, y_pred)\n",
        "print(ACC_KNN)"
      ],
      "execution_count": null,
      "outputs": [
        {
          "output_type": "stream",
          "text": [
            "54.44444444444444\n"
          ],
          "name": "stdout"
        }
      ]
    },
    {
      "cell_type": "code",
      "metadata": {
        "id": "SAKx7KjNy2qo",
        "outputId": "f3ed16bd-1967-4570-ecb5-9581375eea62"
      },
      "source": [
        "correct = np.count_nonzero((result == y_test) == True)\n",
        "correct"
      ],
      "execution_count": null,
      "outputs": [
        {
          "output_type": "execute_result",
          "data": {
            "text/plain": [
              "49"
            ]
          },
          "metadata": {
            "tags": []
          },
          "execution_count": 71
        }
      ]
    },
    {
      "cell_type": "code",
      "metadata": {
        "id": "pJ5gf8jty2qo",
        "outputId": "7116957f-5e18-45d1-b75b-1c4947f859f4"
      },
      "source": [
        "split=np.arange(1,11)\n",
        "neighbors =[1, 3, 5, 7, 10, 20, 30, 40, 50]\n",
        "s_all=[]\n",
        "s_mean_all=[]\n",
        "c_all=[]\n",
        "c_mean_all=[]\n",
        "\n",
        "for k in neighbors:\n",
        "    score=0\n",
        "    score_mean=0\n",
        "    c=0\n",
        "    c_mean=0\n",
        "    for i in split:\n",
        "        if i<=10:\n",
        "            x_train, x_test, y_train, y_test = train_test_split(X, Y, test_size=0.2)\n",
        "            knn = KNeighborsClassifier(n_neighbors=k)\n",
        "            knn.fit(x_train, y_train)\n",
        "            result = knn.predict(x_test)\n",
        "            y_pred=list(result)\n",
        "            y_true=list(y_test)\n",
        "            score += accuracy_score(y_true, y_pred)\n",
        "            score_mean= score/10\n",
        "            correct = np.count_nonzero((result == y_test) == True)\n",
        "            c+=correct\n",
        "            c_mean=c/10\n",
        "        if i == 10:\n",
        "            s_all.append(score)\n",
        "            s_mean_all.append(score_mean)\n",
        "            c_all.append(c)\n",
        "            c_mean_all.append(c_mean)\n",
        "        i+=1\n",
        "                \n",
        "print(s_mean_all)\n",
        "print(c_mean_all)"
      ],
      "execution_count": null,
      "outputs": [
        {
          "output_type": "stream",
          "text": [
            "[0.5283333333333333, 0.5883333333333333, 0.6149999999999999, 0.61, 0.6416666666666666, 0.675, 0.6666666666666666, 0.6700000000000002, 0.6633333333333333]\n",
            "[31.7, 35.3, 36.9, 36.6, 38.5, 40.5, 40.0, 40.2, 39.8]\n"
          ],
          "name": "stdout"
        }
      ]
    },
    {
      "cell_type": "code",
      "metadata": {
        "id": "ZbgnHdCly2qo",
        "outputId": "91c3924f-0dbe-4be2-8fad-b77c812b8f09"
      },
      "source": [
        "data={'K':neighbors,'correct_predictors_average':c_mean_all,'accuracy_score_average':s_mean_all}\n",
        "df=pd.DataFrame(data)\n",
        "df"
      ],
      "execution_count": null,
      "outputs": [
        {
          "output_type": "execute_result",
          "data": {
            "text/html": [
              "<div>\n",
              "<style scoped>\n",
              "    .dataframe tbody tr th:only-of-type {\n",
              "        vertical-align: middle;\n",
              "    }\n",
              "\n",
              "    .dataframe tbody tr th {\n",
              "        vertical-align: top;\n",
              "    }\n",
              "\n",
              "    .dataframe thead th {\n",
              "        text-align: right;\n",
              "    }\n",
              "</style>\n",
              "<table border=\"1\" class=\"dataframe\">\n",
              "  <thead>\n",
              "    <tr style=\"text-align: right;\">\n",
              "      <th></th>\n",
              "      <th>K</th>\n",
              "      <th>correct_predictors_average</th>\n",
              "      <th>accuracy_score_average</th>\n",
              "    </tr>\n",
              "  </thead>\n",
              "  <tbody>\n",
              "    <tr>\n",
              "      <th>0</th>\n",
              "      <td>1</td>\n",
              "      <td>31.7</td>\n",
              "      <td>0.528333</td>\n",
              "    </tr>\n",
              "    <tr>\n",
              "      <th>1</th>\n",
              "      <td>3</td>\n",
              "      <td>35.3</td>\n",
              "      <td>0.588333</td>\n",
              "    </tr>\n",
              "    <tr>\n",
              "      <th>2</th>\n",
              "      <td>5</td>\n",
              "      <td>36.9</td>\n",
              "      <td>0.615000</td>\n",
              "    </tr>\n",
              "    <tr>\n",
              "      <th>3</th>\n",
              "      <td>7</td>\n",
              "      <td>36.6</td>\n",
              "      <td>0.610000</td>\n",
              "    </tr>\n",
              "    <tr>\n",
              "      <th>4</th>\n",
              "      <td>10</td>\n",
              "      <td>38.5</td>\n",
              "      <td>0.641667</td>\n",
              "    </tr>\n",
              "    <tr>\n",
              "      <th>5</th>\n",
              "      <td>20</td>\n",
              "      <td>40.5</td>\n",
              "      <td>0.675000</td>\n",
              "    </tr>\n",
              "    <tr>\n",
              "      <th>6</th>\n",
              "      <td>30</td>\n",
              "      <td>40.0</td>\n",
              "      <td>0.666667</td>\n",
              "    </tr>\n",
              "    <tr>\n",
              "      <th>7</th>\n",
              "      <td>40</td>\n",
              "      <td>40.2</td>\n",
              "      <td>0.670000</td>\n",
              "    </tr>\n",
              "    <tr>\n",
              "      <th>8</th>\n",
              "      <td>50</td>\n",
              "      <td>39.8</td>\n",
              "      <td>0.663333</td>\n",
              "    </tr>\n",
              "  </tbody>\n",
              "</table>\n",
              "</div>"
            ],
            "text/plain": [
              "    K  correct_predictors_average  accuracy_score_average\n",
              "0   1                        31.7                0.528333\n",
              "1   3                        35.3                0.588333\n",
              "2   5                        36.9                0.615000\n",
              "3   7                        36.6                0.610000\n",
              "4  10                        38.5                0.641667\n",
              "5  20                        40.5                0.675000\n",
              "6  30                        40.0                0.666667\n",
              "7  40                        40.2                0.670000\n",
              "8  50                        39.8                0.663333"
            ]
          },
          "metadata": {
            "tags": []
          },
          "execution_count": 73
        }
      ]
    },
    {
      "cell_type": "code",
      "metadata": {
        "id": "gMqhvyRky2qo",
        "outputId": "51d7df30-b96b-4d90-a286-9e933b008ccd"
      },
      "source": [
        "plt.plot(neighbors, s_mean_all)\n",
        "plt.xlabel('Value of K for KNN')\n",
        "plt.ylabel('Testing Accuracy')\n",
        "plt.show()"
      ],
      "execution_count": null,
      "outputs": [
        {
          "output_type": "display_data",
          "data": {
            "image/png": "[encoded data removed]",
            "text/plain": [
              "<Figure size 432x288 with 1 Axes>"
            ]
          },
          "metadata": {
            "tags": [],
            "needs_background": "light"
          }
        }
      ]
    },
    {
      "cell_type": "markdown",
      "metadata": {
        "id": "asE1p0eqy2qp"
      },
      "source": [
        "When the number of neighbors k is 50, the model has the highest prediction accuracy 66%."
      ]
    },
    {
      "cell_type": "markdown",
      "metadata": {
        "id": "5-ZFKnkcy2qp"
      },
      "source": [
        "**The Random Forest Classifier Method gave a comparable accuracy to the *quick* Logistic Regression Model used earlier in the analysis, while the KKN method gave about 20% less accuracy.**\n",
        "\n",
        ".\n",
        "\n"
      ]
    },
    {
      "cell_type": "markdown",
      "metadata": {
        "id": "Dn10_t9yy2qp"
      },
      "source": [
        "## Summary##"
      ]
    },
    {
      "cell_type": "code",
      "metadata": {
        "id": "-ryQUlrAy2qp",
        "outputId": "6df1b88a-bc17-4697-f00b-8ad1e1358f57"
      },
      "source": [
        "approach =['Initial model- log reg', 'Approach 1 -log reg', \"Approach 2 -log reg\", \"Approach 3 -log reg\", \"ML Log Regression\", \"Random Forest Classifier\", \"k-Nearest Neighbors Classifier.\"]\n",
        "predictors_ = ['all attributes', 'attributes with p-value < 0.005', \"with combination of categorical attributes\", \"combination from backward elimination\", \"all attributes\", \"all attributes\", \"all attributes\"]\n",
        "accuracies = np.around([ACC_all_var, ACC_app1, ACC_app2, ACC_app3, ACC_ml_log, ACC_RFC, ACC_KNN],2)\n",
        "summary = pd.DataFrame({'Approach': approach, 'Predictors Used': predictors_,'Model Accuracy': accuracies})\n",
        "summary"
      ],
      "execution_count": null,
      "outputs": [
        {
          "output_type": "execute_result",
          "data": {
            "text/html": [
              "<div>\n",
              "<style scoped>\n",
              "    .dataframe tbody tr th:only-of-type {\n",
              "        vertical-align: middle;\n",
              "    }\n",
              "\n",
              "    .dataframe tbody tr th {\n",
              "        vertical-align: top;\n",
              "    }\n",
              "\n",
              "    .dataframe thead th {\n",
              "        text-align: right;\n",
              "    }\n",
              "</style>\n",
              "<table border=\"1\" class=\"dataframe\">\n",
              "  <thead>\n",
              "    <tr style=\"text-align: right;\">\n",
              "      <th></th>\n",
              "      <th>Approach</th>\n",
              "      <th>Predictors Used</th>\n",
              "      <th>Model Accuracy</th>\n",
              "    </tr>\n",
              "  </thead>\n",
              "  <tbody>\n",
              "    <tr>\n",
              "      <th>0</th>\n",
              "      <td>Initial model- log reg</td>\n",
              "      <td>all attributes</td>\n",
              "      <td>84.28</td>\n",
              "    </tr>\n",
              "    <tr>\n",
              "      <th>1</th>\n",
              "      <td>Approach 1 -log reg</td>\n",
              "      <td>attributes with p-value &lt; 0.005</td>\n",
              "      <td>82.61</td>\n",
              "    </tr>\n",
              "    <tr>\n",
              "      <th>2</th>\n",
              "      <td>Approach 2 -log reg</td>\n",
              "      <td>with combination of categorical attributes</td>\n",
              "      <td>84.95</td>\n",
              "    </tr>\n",
              "    <tr>\n",
              "      <th>3</th>\n",
              "      <td>Approach 3 -log reg</td>\n",
              "      <td>combination from backward elimination</td>\n",
              "      <td>84.62</td>\n",
              "    </tr>\n",
              "    <tr>\n",
              "      <th>4</th>\n",
              "      <td>ML Log Regression</td>\n",
              "      <td>all attributes</td>\n",
              "      <td>84.44</td>\n",
              "    </tr>\n",
              "    <tr>\n",
              "      <th>5</th>\n",
              "      <td>Random Forest Classifier</td>\n",
              "      <td>all attributes</td>\n",
              "      <td>90.00</td>\n",
              "    </tr>\n",
              "    <tr>\n",
              "      <th>6</th>\n",
              "      <td>k-Nearest Neighbors Classifier.</td>\n",
              "      <td>all attributes</td>\n",
              "      <td>54.44</td>\n",
              "    </tr>\n",
              "  </tbody>\n",
              "</table>\n",
              "</div>"
            ],
            "text/plain": [
              "                          Approach  \\\n",
              "0           Initial model- log reg   \n",
              "1              Approach 1 -log reg   \n",
              "2              Approach 2 -log reg   \n",
              "3              Approach 3 -log reg   \n",
              "4                ML Log Regression   \n",
              "5         Random Forest Classifier   \n",
              "6  k-Nearest Neighbors Classifier.   \n",
              "\n",
              "                              Predictors Used  Model Accuracy  \n",
              "0                              all attributes           84.28  \n",
              "1             attributes with p-value < 0.005           82.61  \n",
              "2  with combination of categorical attributes           84.95  \n",
              "3       combination from backward elimination           84.62  \n",
              "4                              all attributes           84.44  \n",
              "5                              all attributes           90.00  \n",
              "6                              all attributes           54.44  "
            ]
          },
          "metadata": {
            "tags": []
          },
          "execution_count": 75
        }
      ]
    },
    {
      "cell_type": "markdown",
      "metadata": {
        "id": "R-0IZLpyy2qp"
      },
      "source": [
        "The logistic regression models we derived can offer good prediction of the occurence of death due to heart failure, with accuracy in range of 82.61% - 84.95%, slightly lower than the Random Forest Classifier approach.\n",
        "\n",
        "The attributes ranked high in relative importance by Random Forest Classifier, namely time, serum_creatinine, ejection_fraction, age, creatinine_phosphokinase, platelets and serum_sodium, are also the predictors in the logistic regression approaches (especially Approach 3) that have either low p-values (meaning the attributes are significant) and odds ratio greater than 1 (indicating association with death occurence).\n",
        "\n",
        "Therefore, from our evalution and analysis, we can conclude that we can derive models using logistic regression from our dataset that can predict the occurence of death due to heart failure with good statistical accuracy.\n",
        "\n",
        ".\n",
        "\n",
        ".\n",
        "\n"
      ]
    },
    {
      "cell_type": "markdown",
      "metadata": {
        "id": "IWmElc51y2qp"
      },
      "source": [
        "### Appendix - Demonstrating the Inappropriateness of a Linear Regression Model for the Heart Failure Data"
      ]
    },
    {
      "cell_type": "code",
      "metadata": {
        "id": "sYdLY9kMy2qp"
      },
      "source": [
        "data = pd.read_csv('./heart_failure_clinical_records_dataset.csv')\n",
        "df = pd.DataFrame(data)"
      ],
      "execution_count": null,
      "outputs": []
    },
    {
      "cell_type": "code",
      "metadata": {
        "id": "pK24eSEXy2qq",
        "outputId": "281e14bd-14fd-4583-f9ed-afb71fb946ce"
      },
      "source": [
        "#Boxplots to see outliers, then assess and remove\n",
        "for column in df:\n",
        "    plt.figure()\n",
        "    df.boxplot([column])"
      ],
      "execution_count": null,
      "outputs": [
        {
          "output_type": "display_data",
          "data": {
            "image/png": "[encoded data removed]",
            "text/plain": [
              "<Figure size 432x288 with 1 Axes>"
            ]
          },
          "metadata": {
            "tags": [],
            "needs_background": "light"
          }
        },
        {
          "output_type": "display_data",
          "data": {
            "image/png": "[encoded data removed]",
            "text/plain": [
              "<Figure size 432x288 with 1 Axes>"
            ]
          },
          "metadata": {
            "tags": [],
            "needs_background": "light"
          }
        },
        {
          "output_type": "display_data",
          "data": {
            "image/png": "[encoded data removed]",
            "text/plain": [
              "<Figure size 432x288 with 1 Axes>"
            ]
          },
          "metadata": {
            "tags": [],
            "needs_background": "light"
          }
        },
        {
          "output_type": "display_data",
          "data": {
            "image/png": "[encoded data removed]",
            "text/plain": [
              "<Figure size 432x288 with 1 Axes>"
            ]
          },
          "metadata": {
            "tags": [],
            "needs_background": "light"
          }
        },
        {
          "output_type": "display_data",
          "data": {
            "image/png": "[encoded data removed]",
            "text/plain": [
              "<Figure size 432x288 with 1 Axes>"
            ]
          },
          "metadata": {
            "tags": [],
            "needs_background": "light"
          }
        },
        {
          "output_type": "display_data",
          "data": {
            "image/png": "[encoded data removed]",
            "text/plain": [
              "<Figure size 432x288 with 1 Axes>"
            ]
          },
          "metadata": {
            "tags": [],
            "needs_background": "light"
          }
        },
        {
          "output_type": "display_data",
          "data": {
            "image/png": "[encoded data removed]",
            "text/plain": [
              "<Figure size 432x288 with 1 Axes>"
            ]
          },
          "metadata": {
            "tags": [],
            "needs_background": "light"
          }
        },
        {
          "output_type": "display_data",
          "data": {
            "image/png": "[encoded data removed]",
            "text/plain": [
              "<Figure size 432x288 with 1 Axes>"
            ]
          },
          "metadata": {
            "tags": [],
            "needs_background": "light"
          }
        },
        {
          "output_type": "display_data",
          "data": {
            "image/png": "[encoded data removed]",
            "text/plain": [
              "<Figure size 432x288 with 1 Axes>"
            ]
          },
          "metadata": {
            "tags": [],
            "needs_background": "light"
          }
        },
        {
          "output_type": "display_data",
          "data": {
            "image/png": "[encoded data removed]",
            "text/plain": [
              "<Figure size 432x288 with 1 Axes>"
            ]
          },
          "metadata": {
            "tags": [],
            "needs_background": "light"
          }
        },
        {
          "output_type": "display_data",
          "data": {
            "image/png": "[encoded data removed]",
            "text/plain": [
              "<Figure size 432x288 with 1 Axes>"
            ]
          },
          "metadata": {
            "tags": [],
            "needs_background": "light"
          }
        },
        {
          "output_type": "display_data",
          "data": {
            "image/png": "[encoded data removed]",
            "text/plain": [
              "<Figure size 432x288 with 1 Axes>"
            ]
          },
          "metadata": {
            "tags": [],
            "needs_background": "light"
          }
        },
        {
          "output_type": "display_data",
          "data": {
            "image/png": "[encoded data removed]",
            "text/plain": [
              "<Figure size 432x288 with 1 Axes>"
            ]
          },
          "metadata": {
            "tags": [],
            "needs_background": "light"
          }
        }
      ]
    },
    {
      "cell_type": "code",
      "metadata": {
        "id": "khY-Zvzjy2qq"
      },
      "source": [
        "# Removing Outliers assuming reason was found\n",
        "df_clean = df[df['creatinine_phosphokinase'] < 1300]\n",
        "df_clean = df_clean[df_clean['ejection_fraction'] < 70]\n",
        "df_clean = df_clean[df_clean['platelets'] > 90000]\n",
        "df_clean = df_clean[df_clean['platelets'] < 410000]\n",
        "df_clean = df_clean[df_clean['serum_creatinine'] < 1.7]\n",
        "df_clean = df_clean[df_clean['serum_sodium'] > 127]\n",
        "df_clean = df_clean[df_clean['serum_sodium'] <= 145]"
      ],
      "execution_count": null,
      "outputs": []
    },
    {
      "cell_type": "code",
      "metadata": {
        "id": "-aItSJGry2qq"
      },
      "source": [
        "df4=df #new dataframe\n",
        "#Creating the dummy variables for Binary variables\n",
        "one_hot = pd.get_dummies(df4, columns = ['anaemia','diabetes','high_blood_pressure','sex','smoking','DEATH_EVENT'])\n",
        "#Adding the dummy variables to the dataset\n",
        "df4 = pd.concat([df4,one_hot], axis = 1)\n",
        "df4 = df4.dropna() #making sure no null values exist"
      ],
      "execution_count": null,
      "outputs": []
    },
    {
      "cell_type": "code",
      "metadata": {
        "id": "5mAfJan7y2qq",
        "outputId": "39bd7dcc-d817-4c78-e207-94b792962e69"
      },
      "source": [
        "df4.columns #showing new dummy column names"
      ],
      "execution_count": null,
      "outputs": [
        {
          "output_type": "execute_result",
          "data": {
            "text/plain": [
              "Index(['age', 'anaemia', 'creatinine_phosphokinase', 'diabetes',\n",
              "       'ejection_fraction', 'high_blood_pressure', 'platelets',\n",
              "       'serum_creatinine', 'serum_sodium', 'sex', 'smoking', 'time',\n",
              "       'DEATH_EVENT', 'age', 'creatinine_phosphokinase', 'ejection_fraction',\n",
              "       'platelets', 'serum_creatinine', 'serum_sodium', 'time', 'anaemia_0',\n",
              "       'anaemia_1', 'diabetes_0', 'diabetes_1', 'high_blood_pressure_0',\n",
              "       'high_blood_pressure_1', 'sex_0', 'sex_1', 'smoking_0', 'smoking_1',\n",
              "       'DEATH_EVENT_0', 'DEATH_EVENT_1'],\n",
              "      dtype='object')"
            ]
          },
          "metadata": {
            "tags": []
          },
          "execution_count": 80
        }
      ]
    },
    {
      "cell_type": "code",
      "metadata": {
        "id": "DAARRdnRy2qq"
      },
      "source": [
        "#Building the Ordinary Linear Regression Model\n",
        "result1 = ols('DEATH_EVENT ~ age + creatinine_phosphokinase + ejection_fraction + platelets + serum_creatinine + serum_sodium + time + anaemia_0 + diabetes_0 + high_blood_pressure_0 + sex_0 + smoking_0', data = df4).fit()"
      ],
      "execution_count": null,
      "outputs": []
    },
    {
      "cell_type": "code",
      "metadata": {
        "id": "6kL6mZqGy2qq",
        "outputId": "aae61924-c073-4158-944c-0a12e486c777"
      },
      "source": [
        "result1.summary()"
      ],
      "execution_count": null,
      "outputs": [
        {
          "output_type": "execute_result",
          "data": {
            "text/html": [
              "<table class=\"simpletable\">\n",
              "<caption>OLS Regression Results</caption>\n",
              "<tr>\n",
              "  <th>Dep. Variable:</th>       <td>DEATH_EVENT</td>   <th>  R-squared:         </th> <td>   0.417</td>\n",
              "</tr>\n",
              "<tr>\n",
              "  <th>Model:</th>                   <td>OLS</td>       <th>  Adj. R-squared:    </th> <td>   0.392</td>\n",
              "</tr>\n",
              "<tr>\n",
              "  <th>Method:</th>             <td>Least Squares</td>  <th>  F-statistic:       </th> <td>   17.04</td>\n",
              "</tr>\n",
              "<tr>\n",
              "  <th>Date:</th>             <td>Sat, 12 Dec 2020</td> <th>  Prob (F-statistic):</th> <td>2.35e-27</td>\n",
              "</tr>\n",
              "<tr>\n",
              "  <th>Time:</th>                 <td>14:08:36</td>     <th>  Log-Likelihood:    </th> <td> -115.90</td>\n",
              "</tr>\n",
              "<tr>\n",
              "  <th>No. Observations:</th>      <td>   299</td>      <th>  AIC:               </th> <td>   257.8</td>\n",
              "</tr>\n",
              "<tr>\n",
              "  <th>Df Residuals:</th>          <td>   286</td>      <th>  BIC:               </th> <td>   305.9</td>\n",
              "</tr>\n",
              "<tr>\n",
              "  <th>Df Model:</th>              <td>    12</td>      <th>                     </th>     <td> </td>   \n",
              "</tr>\n",
              "<tr>\n",
              "  <th>Covariance Type:</th>      <td>nonrobust</td>    <th>                     </th>     <td> </td>   \n",
              "</tr>\n",
              "</table>\n",
              "<table class=\"simpletable\">\n",
              "<tr>\n",
              "               <td></td>                  <th>coef</th>     <th>std err</th>      <th>t</th>      <th>P>|t|</th>  <th>[0.025</th>    <th>0.975]</th>  \n",
              "</tr>\n",
              "<tr>\n",
              "  <th>Intercept</th>                   <td>    1.5964</td> <td>    0.696</td> <td>    2.293</td> <td> 0.023</td> <td>    0.226</td> <td>    2.967</td>\n",
              "</tr>\n",
              "<tr>\n",
              "  <th>age[0]</th>                      <td>    0.0029</td> <td>    0.001</td> <td>    3.088</td> <td> 0.002</td> <td>    0.001</td> <td>    0.005</td>\n",
              "</tr>\n",
              "<tr>\n",
              "  <th>age[1]</th>                      <td>    0.0029</td> <td>    0.001</td> <td>    3.088</td> <td> 0.002</td> <td>    0.001</td> <td>    0.005</td>\n",
              "</tr>\n",
              "<tr>\n",
              "  <th>creatinine_phosphokinase[0]</th> <td> 1.713e-05</td> <td> 1.12e-05</td> <td>    1.525</td> <td> 0.128</td> <td>-4.98e-06</td> <td> 3.92e-05</td>\n",
              "</tr>\n",
              "<tr>\n",
              "  <th>creatinine_phosphokinase[1]</th> <td> 1.713e-05</td> <td> 1.12e-05</td> <td>    1.525</td> <td> 0.128</td> <td>-4.98e-06</td> <td> 3.92e-05</td>\n",
              "</tr>\n",
              "<tr>\n",
              "  <th>ejection_fraction[0]</th>        <td>   -0.0049</td> <td>    0.001</td> <td>   -5.333</td> <td> 0.000</td> <td>   -0.007</td> <td>   -0.003</td>\n",
              "</tr>\n",
              "<tr>\n",
              "  <th>ejection_fraction[1]</th>        <td>   -0.0049</td> <td>    0.001</td> <td>   -5.333</td> <td> 0.000</td> <td>   -0.007</td> <td>   -0.003</td>\n",
              "</tr>\n",
              "<tr>\n",
              "  <th>platelets[0]</th>                <td>-4.187e-08</td> <td>  1.1e-07</td> <td>   -0.379</td> <td> 0.705</td> <td>-2.59e-07</td> <td> 1.75e-07</td>\n",
              "</tr>\n",
              "<tr>\n",
              "  <th>platelets[1]</th>                <td>-4.183e-08</td> <td>  1.1e-07</td> <td>   -0.379</td> <td> 0.705</td> <td>-2.59e-07</td> <td> 1.75e-07</td>\n",
              "</tr>\n",
              "<tr>\n",
              "  <th>serum_creatinine[0]</th>         <td>    0.0426</td> <td>    0.011</td> <td>    4.017</td> <td> 0.000</td> <td>    0.022</td> <td>    0.064</td>\n",
              "</tr>\n",
              "<tr>\n",
              "  <th>serum_creatinine[1]</th>         <td>    0.0426</td> <td>    0.011</td> <td>    4.017</td> <td> 0.000</td> <td>    0.022</td> <td>    0.064</td>\n",
              "</tr>\n",
              "<tr>\n",
              "  <th>serum_sodium[0]</th>             <td>   -0.0038</td> <td>    0.003</td> <td>   -1.513</td> <td> 0.131</td> <td>   -0.009</td> <td>    0.001</td>\n",
              "</tr>\n",
              "<tr>\n",
              "  <th>serum_sodium[1]</th>             <td>   -0.0038</td> <td>    0.003</td> <td>   -1.513</td> <td> 0.131</td> <td>   -0.009</td> <td>    0.001</td>\n",
              "</tr>\n",
              "<tr>\n",
              "  <th>time[0]</th>                     <td>   -0.0014</td> <td>    0.000</td> <td>   -9.415</td> <td> 0.000</td> <td>   -0.002</td> <td>   -0.001</td>\n",
              "</tr>\n",
              "<tr>\n",
              "  <th>time[1]</th>                     <td>   -0.0014</td> <td>    0.000</td> <td>   -9.415</td> <td> 0.000</td> <td>   -0.002</td> <td>   -0.001</td>\n",
              "</tr>\n",
              "<tr>\n",
              "  <th>anaemia_0</th>                   <td>    0.0028</td> <td>    0.044</td> <td>    0.062</td> <td> 0.950</td> <td>   -0.085</td> <td>    0.090</td>\n",
              "</tr>\n",
              "<tr>\n",
              "  <th>diabetes_0</th>                  <td>   -0.0193</td> <td>    0.044</td> <td>   -0.437</td> <td> 0.662</td> <td>   -0.106</td> <td>    0.068</td>\n",
              "</tr>\n",
              "<tr>\n",
              "  <th>high_blood_pressure_0</th>       <td>    0.0143</td> <td>    0.046</td> <td>    0.313</td> <td> 0.754</td> <td>   -0.076</td> <td>    0.104</td>\n",
              "</tr>\n",
              "<tr>\n",
              "  <th>sex_0</th>                       <td>    0.0637</td> <td>    0.051</td> <td>    1.247</td> <td> 0.214</td> <td>   -0.037</td> <td>    0.164</td>\n",
              "</tr>\n",
              "<tr>\n",
              "  <th>smoking_0</th>                   <td>    0.0057</td> <td>    0.051</td> <td>    0.112</td> <td> 0.911</td> <td>   -0.095</td> <td>    0.106</td>\n",
              "</tr>\n",
              "</table>\n",
              "<table class=\"simpletable\">\n",
              "<tr>\n",
              "  <th>Omnibus:</th>       <td>10.068</td> <th>  Durbin-Watson:     </th> <td>   1.578</td>\n",
              "</tr>\n",
              "<tr>\n",
              "  <th>Prob(Omnibus):</th> <td> 0.007</td> <th>  Jarque-Bera (JB):  </th> <td>   8.014</td>\n",
              "</tr>\n",
              "<tr>\n",
              "  <th>Skew:</th>          <td> 0.306</td> <th>  Prob(JB):          </th> <td>  0.0182</td>\n",
              "</tr>\n",
              "<tr>\n",
              "  <th>Kurtosis:</th>      <td> 2.483</td> <th>  Cond. No.          </th> <td>2.35e+22</td>\n",
              "</tr>\n",
              "</table><br/><br/>Warnings:<br/>[1] Standard Errors assume that the covariance matrix of the errors is correctly specified.<br/>[2] The smallest eigenvalue is 8.55e-32. This might indicate that there are<br/>strong multicollinearity problems or that the design matrix is singular."
            ],
            "text/plain": [
              "<class 'statsmodels.iolib.summary.Summary'>\n",
              "\"\"\"\n",
              "                            OLS Regression Results                            \n",
              "==============================================================================\n",
              "Dep. Variable:            DEATH_EVENT   R-squared:                       0.417\n",
              "Model:                            OLS   Adj. R-squared:                  0.392\n",
              "Method:                 Least Squares   F-statistic:                     17.04\n",
              "Date:                Sat, 12 Dec 2020   Prob (F-statistic):           2.35e-27\n",
              "Time:                        14:08:36   Log-Likelihood:                -115.90\n",
              "No. Observations:                 299   AIC:                             257.8\n",
              "Df Residuals:                     286   BIC:                             305.9\n",
              "Df Model:                          12                                         \n",
              "Covariance Type:            nonrobust                                         \n",
              "===============================================================================================\n",
              "                                  coef    std err          t      P>|t|      [0.025      0.975]\n",
              "-----------------------------------------------------------------------------------------------\n",
              "Intercept                       1.5964      0.696      2.293      0.023       0.226       2.967\n",
              "age[0]                          0.0029      0.001      3.088      0.002       0.001       0.005\n",
              "age[1]                          0.0029      0.001      3.088      0.002       0.001       0.005\n",
              "creatinine_phosphokinase[0]  1.713e-05   1.12e-05      1.525      0.128   -4.98e-06    3.92e-05\n",
              "creatinine_phosphokinase[1]  1.713e-05   1.12e-05      1.525      0.128   -4.98e-06    3.92e-05\n",
              "ejection_fraction[0]           -0.0049      0.001     -5.333      0.000      -0.007      -0.003\n",
              "ejection_fraction[1]           -0.0049      0.001     -5.333      0.000      -0.007      -0.003\n",
              "platelets[0]                -4.187e-08    1.1e-07     -0.379      0.705   -2.59e-07    1.75e-07\n",
              "platelets[1]                -4.183e-08    1.1e-07     -0.379      0.705   -2.59e-07    1.75e-07\n",
              "serum_creatinine[0]             0.0426      0.011      4.017      0.000       0.022       0.064\n",
              "serum_creatinine[1]             0.0426      0.011      4.017      0.000       0.022       0.064\n",
              "serum_sodium[0]                -0.0038      0.003     -1.513      0.131      -0.009       0.001\n",
              "serum_sodium[1]                -0.0038      0.003     -1.513      0.131      -0.009       0.001\n",
              "time[0]                        -0.0014      0.000     -9.415      0.000      -0.002      -0.001\n",
              "time[1]                        -0.0014      0.000     -9.415      0.000      -0.002      -0.001\n",
              "anaemia_0                       0.0028      0.044      0.062      0.950      -0.085       0.090\n",
              "diabetes_0                     -0.0193      0.044     -0.437      0.662      -0.106       0.068\n",
              "high_blood_pressure_0           0.0143      0.046      0.313      0.754      -0.076       0.104\n",
              "sex_0                           0.0637      0.051      1.247      0.214      -0.037       0.164\n",
              "smoking_0                       0.0057      0.051      0.112      0.911      -0.095       0.106\n",
              "==============================================================================\n",
              "Omnibus:                       10.068   Durbin-Watson:                   1.578\n",
              "Prob(Omnibus):                  0.007   Jarque-Bera (JB):                8.014\n",
              "Skew:                           0.306   Prob(JB):                       0.0182\n",
              "Kurtosis:                       2.483   Cond. No.                     2.35e+22\n",
              "==============================================================================\n",
              "\n",
              "Warnings:\n",
              "[1] Standard Errors assume that the covariance matrix of the errors is correctly specified.\n",
              "[2] The smallest eigenvalue is 8.55e-32. This might indicate that there are\n",
              "strong multicollinearity problems or that the design matrix is singular.\n",
              "\"\"\""
            ]
          },
          "metadata": {
            "tags": []
          },
          "execution_count": 82
        }
      ]
    },
    {
      "cell_type": "markdown",
      "metadata": {
        "id": "6jRtL4aRy2qr"
      },
      "source": [
        "**Based on the OLS model, it appears that there are certain factors with a p-value of more than 0.05, thus we could consider them insignificant based on a 95% confidence and remove them to see the effect on the OLS.**"
      ]
    },
    {
      "cell_type": "code",
      "metadata": {
        "id": "NGix57w0y2qr"
      },
      "source": [
        "#Second OLS\n",
        "result2 = ols('DEATH_EVENT ~ age + ejection_fraction + serum_creatinine + time + anaemia_0 + diabetes_0 + high_blood_pressure_0 + sex_0 + smoking_0', data = df4).fit()"
      ],
      "execution_count": null,
      "outputs": []
    },
    {
      "cell_type": "code",
      "metadata": {
        "id": "XGTwd1Uly2qs",
        "outputId": "ea1974ec-dc74-4c26-ecd1-a061b0a597b5"
      },
      "source": [
        "result2.summary()"
      ],
      "execution_count": null,
      "outputs": [
        {
          "output_type": "execute_result",
          "data": {
            "text/html": [
              "<table class=\"simpletable\">\n",
              "<caption>OLS Regression Results</caption>\n",
              "<tr>\n",
              "  <th>Dep. Variable:</th>       <td>DEATH_EVENT</td>   <th>  R-squared:         </th> <td>   0.408</td>\n",
              "</tr>\n",
              "<tr>\n",
              "  <th>Model:</th>                   <td>OLS</td>       <th>  Adj. R-squared:    </th> <td>   0.389</td>\n",
              "</tr>\n",
              "<tr>\n",
              "  <th>Method:</th>             <td>Least Squares</td>  <th>  F-statistic:       </th> <td>   22.11</td>\n",
              "</tr>\n",
              "<tr>\n",
              "  <th>Date:</th>             <td>Sat, 12 Dec 2020</td> <th>  Prob (F-statistic):</th> <td>1.96e-28</td>\n",
              "</tr>\n",
              "<tr>\n",
              "  <th>Time:</th>                 <td>14:08:37</td>     <th>  Log-Likelihood:    </th> <td> -118.20</td>\n",
              "</tr>\n",
              "<tr>\n",
              "  <th>No. Observations:</th>      <td>   299</td>      <th>  AIC:               </th> <td>   256.4</td>\n",
              "</tr>\n",
              "<tr>\n",
              "  <th>Df Residuals:</th>          <td>   289</td>      <th>  BIC:               </th> <td>   293.4</td>\n",
              "</tr>\n",
              "<tr>\n",
              "  <th>Df Model:</th>              <td>     9</td>      <th>                     </th>     <td> </td>   \n",
              "</tr>\n",
              "<tr>\n",
              "  <th>Covariance Type:</th>      <td>nonrobust</td>    <th>                     </th>     <td> </td>   \n",
              "</tr>\n",
              "</table>\n",
              "<table class=\"simpletable\">\n",
              "<tr>\n",
              "            <td></td>               <th>coef</th>     <th>std err</th>      <th>t</th>      <th>P>|t|</th>  <th>[0.025</th>    <th>0.975]</th>  \n",
              "</tr>\n",
              "<tr>\n",
              "  <th>Intercept</th>             <td>    0.5702</td> <td>    0.151</td> <td>    3.768</td> <td> 0.000</td> <td>    0.272</td> <td>    0.868</td>\n",
              "</tr>\n",
              "<tr>\n",
              "  <th>age[0]</th>                <td>    0.0028</td> <td>    0.001</td> <td>    3.038</td> <td> 0.003</td> <td>    0.001</td> <td>    0.005</td>\n",
              "</tr>\n",
              "<tr>\n",
              "  <th>age[1]</th>                <td>    0.0028</td> <td>    0.001</td> <td>    3.038</td> <td> 0.003</td> <td>    0.001</td> <td>    0.005</td>\n",
              "</tr>\n",
              "<tr>\n",
              "  <th>ejection_fraction[0]</th>  <td>   -0.0052</td> <td>    0.001</td> <td>   -5.730</td> <td> 0.000</td> <td>   -0.007</td> <td>   -0.003</td>\n",
              "</tr>\n",
              "<tr>\n",
              "  <th>ejection_fraction[1]</th>  <td>   -0.0052</td> <td>    0.001</td> <td>   -5.730</td> <td> 0.000</td> <td>   -0.007</td> <td>   -0.003</td>\n",
              "</tr>\n",
              "<tr>\n",
              "  <th>serum_creatinine[0]</th>   <td>    0.0455</td> <td>    0.010</td> <td>    4.350</td> <td> 0.000</td> <td>    0.025</td> <td>    0.066</td>\n",
              "</tr>\n",
              "<tr>\n",
              "  <th>serum_creatinine[1]</th>   <td>    0.0455</td> <td>    0.010</td> <td>    4.350</td> <td> 0.000</td> <td>    0.025</td> <td>    0.066</td>\n",
              "</tr>\n",
              "<tr>\n",
              "  <th>time[0]</th>               <td>   -0.0014</td> <td>    0.000</td> <td>   -9.630</td> <td> 0.000</td> <td>   -0.002</td> <td>   -0.001</td>\n",
              "</tr>\n",
              "<tr>\n",
              "  <th>time[1]</th>               <td>   -0.0014</td> <td>    0.000</td> <td>   -9.630</td> <td> 0.000</td> <td>   -0.002</td> <td>   -0.001</td>\n",
              "</tr>\n",
              "<tr>\n",
              "  <th>anaemia_0</th>             <td>    0.0184</td> <td>    0.044</td> <td>    0.423</td> <td> 0.673</td> <td>   -0.067</td> <td>    0.104</td>\n",
              "</tr>\n",
              "<tr>\n",
              "  <th>diabetes_0</th>            <td>   -0.0238</td> <td>    0.044</td> <td>   -0.543</td> <td> 0.587</td> <td>   -0.110</td> <td>    0.062</td>\n",
              "</tr>\n",
              "<tr>\n",
              "  <th>high_blood_pressure_0</th> <td>    0.0226</td> <td>    0.046</td> <td>    0.496</td> <td> 0.620</td> <td>   -0.067</td> <td>    0.112</td>\n",
              "</tr>\n",
              "<tr>\n",
              "  <th>sex_0</th>                 <td>    0.0549</td> <td>    0.051</td> <td>    1.084</td> <td> 0.279</td> <td>   -0.045</td> <td>    0.154</td>\n",
              "</tr>\n",
              "<tr>\n",
              "  <th>smoking_0</th>             <td>    0.0128</td> <td>    0.051</td> <td>    0.251</td> <td> 0.802</td> <td>   -0.088</td> <td>    0.113</td>\n",
              "</tr>\n",
              "</table>\n",
              "<table class=\"simpletable\">\n",
              "<tr>\n",
              "  <th>Omnibus:</th>       <td> 9.642</td> <th>  Durbin-Watson:     </th> <td>   1.606</td>\n",
              "</tr>\n",
              "<tr>\n",
              "  <th>Prob(Omnibus):</th> <td> 0.008</td> <th>  Jarque-Bera (JB):  </th> <td>   7.930</td>\n",
              "</tr>\n",
              "<tr>\n",
              "  <th>Skew:</th>          <td> 0.312</td> <th>  Prob(JB):          </th> <td>  0.0190</td>\n",
              "</tr>\n",
              "<tr>\n",
              "  <th>Kurtosis:</th>      <td> 2.503</td> <th>  Cond. No.          </th> <td>1.81e+18</td>\n",
              "</tr>\n",
              "</table><br/><br/>Warnings:<br/>[1] Standard Errors assume that the covariance matrix of the errors is correctly specified.<br/>[2] The smallest eigenvalue is 4.93e-30. This might indicate that there are<br/>strong multicollinearity problems or that the design matrix is singular."
            ],
            "text/plain": [
              "<class 'statsmodels.iolib.summary.Summary'>\n",
              "\"\"\"\n",
              "                            OLS Regression Results                            \n",
              "==============================================================================\n",
              "Dep. Variable:            DEATH_EVENT   R-squared:                       0.408\n",
              "Model:                            OLS   Adj. R-squared:                  0.389\n",
              "Method:                 Least Squares   F-statistic:                     22.11\n",
              "Date:                Sat, 12 Dec 2020   Prob (F-statistic):           1.96e-28\n",
              "Time:                        14:08:37   Log-Likelihood:                -118.20\n",
              "No. Observations:                 299   AIC:                             256.4\n",
              "Df Residuals:                     289   BIC:                             293.4\n",
              "Df Model:                           9                                         \n",
              "Covariance Type:            nonrobust                                         \n",
              "=========================================================================================\n",
              "                            coef    std err          t      P>|t|      [0.025      0.975]\n",
              "-----------------------------------------------------------------------------------------\n",
              "Intercept                 0.5702      0.151      3.768      0.000       0.272       0.868\n",
              "age[0]                    0.0028      0.001      3.038      0.003       0.001       0.005\n",
              "age[1]                    0.0028      0.001      3.038      0.003       0.001       0.005\n",
              "ejection_fraction[0]     -0.0052      0.001     -5.730      0.000      -0.007      -0.003\n",
              "ejection_fraction[1]     -0.0052      0.001     -5.730      0.000      -0.007      -0.003\n",
              "serum_creatinine[0]       0.0455      0.010      4.350      0.000       0.025       0.066\n",
              "serum_creatinine[1]       0.0455      0.010      4.350      0.000       0.025       0.066\n",
              "time[0]                  -0.0014      0.000     -9.630      0.000      -0.002      -0.001\n",
              "time[1]                  -0.0014      0.000     -9.630      0.000      -0.002      -0.001\n",
              "anaemia_0                 0.0184      0.044      0.423      0.673      -0.067       0.104\n",
              "diabetes_0               -0.0238      0.044     -0.543      0.587      -0.110       0.062\n",
              "high_blood_pressure_0     0.0226      0.046      0.496      0.620      -0.067       0.112\n",
              "sex_0                     0.0549      0.051      1.084      0.279      -0.045       0.154\n",
              "smoking_0                 0.0128      0.051      0.251      0.802      -0.088       0.113\n",
              "==============================================================================\n",
              "Omnibus:                        9.642   Durbin-Watson:                   1.606\n",
              "Prob(Omnibus):                  0.008   Jarque-Bera (JB):                7.930\n",
              "Skew:                           0.312   Prob(JB):                       0.0190\n",
              "Kurtosis:                       2.503   Cond. No.                     1.81e+18\n",
              "==============================================================================\n",
              "\n",
              "Warnings:\n",
              "[1] Standard Errors assume that the covariance matrix of the errors is correctly specified.\n",
              "[2] The smallest eigenvalue is 4.93e-30. This might indicate that there are\n",
              "strong multicollinearity problems or that the design matrix is singular.\n",
              "\"\"\""
            ]
          },
          "metadata": {
            "tags": []
          },
          "execution_count": 84
        }
      ]
    },
    {
      "cell_type": "markdown",
      "metadata": {
        "id": "TQIwhrJOy2qt"
      },
      "source": [
        "**The R-squared of the model appears  to be quite low, which might suggest that this model does not fit our data well. Therefore the focus would now be on developing a better model to explain the variation in our dataset, namely an ML Linear Regression Model**"
      ]
    },
    {
      "cell_type": "code",
      "metadata": {
        "id": "E-MjXS1yy2qu",
        "outputId": "846e0175-a409-4128-c6a0-faa8cad6eca5"
      },
      "source": [
        "fig, ax = plt.subplots(figsize=(12,8))\n",
        "fig = sm.graphics.influence_plot(result2, ax=ax, criterion = 'cooks')"
      ],
      "execution_count": null,
      "outputs": [
        {
          "output_type": "display_data",
          "data": {
            "image/png": "[encoded data removed]",
            "text/plain": [
              "<Figure size 864x576 with 1 Axes>"
            ]
          },
          "metadata": {
            "tags": [],
            "needs_background": "light"
          }
        }
      ]
    },
    {
      "cell_type": "code",
      "metadata": {
        "id": "Zbggomw3y2qu"
      },
      "source": [
        "df5 = df4.drop([184,181,186,63,113,262,110,213,194,20]) #dropping data points that are influential based on cooks method"
      ],
      "execution_count": null,
      "outputs": []
    },
    {
      "cell_type": "code",
      "metadata": {
        "id": "z-WkADehy2qu"
      },
      "source": [
        "result3 = ols('DEATH_EVENT ~ age + ejection_fraction + serum_creatinine + time + anaemia_0 + diabetes_0 + high_blood_pressure_0 + sex_0 + smoking_0', data = df5).fit()"
      ],
      "execution_count": null,
      "outputs": []
    },
    {
      "cell_type": "code",
      "metadata": {
        "id": "_pf23s2ry2qu",
        "outputId": "cf05c484-9c3f-4397-fd25-75b59aa3bd43"
      },
      "source": [
        "result3.summary()"
      ],
      "execution_count": null,
      "outputs": [
        {
          "output_type": "execute_result",
          "data": {
            "text/html": [
              "<table class=\"simpletable\">\n",
              "<caption>OLS Regression Results</caption>\n",
              "<tr>\n",
              "  <th>Dep. Variable:</th>       <td>DEATH_EVENT</td>   <th>  R-squared:         </th> <td>   0.464</td>\n",
              "</tr>\n",
              "<tr>\n",
              "  <th>Model:</th>                   <td>OLS</td>       <th>  Adj. R-squared:    </th> <td>   0.447</td>\n",
              "</tr>\n",
              "<tr>\n",
              "  <th>Method:</th>             <td>Least Squares</td>  <th>  F-statistic:       </th> <td>   26.82</td>\n",
              "</tr>\n",
              "<tr>\n",
              "  <th>Date:</th>             <td>Sat, 12 Dec 2020</td> <th>  Prob (F-statistic):</th> <td>3.52e-33</td>\n",
              "</tr>\n",
              "<tr>\n",
              "  <th>Time:</th>                 <td>14:08:37</td>     <th>  Log-Likelihood:    </th> <td> -94.776</td>\n",
              "</tr>\n",
              "<tr>\n",
              "  <th>No. Observations:</th>      <td>   289</td>      <th>  AIC:               </th> <td>   209.6</td>\n",
              "</tr>\n",
              "<tr>\n",
              "  <th>Df Residuals:</th>          <td>   279</td>      <th>  BIC:               </th> <td>   246.2</td>\n",
              "</tr>\n",
              "<tr>\n",
              "  <th>Df Model:</th>              <td>     9</td>      <th>                     </th>     <td> </td>   \n",
              "</tr>\n",
              "<tr>\n",
              "  <th>Covariance Type:</th>      <td>nonrobust</td>    <th>                     </th>     <td> </td>   \n",
              "</tr>\n",
              "</table>\n",
              "<table class=\"simpletable\">\n",
              "<tr>\n",
              "            <td></td>               <th>coef</th>     <th>std err</th>      <th>t</th>      <th>P>|t|</th>  <th>[0.025</th>    <th>0.975]</th>  \n",
              "</tr>\n",
              "<tr>\n",
              "  <th>Intercept</th>             <td>    0.5482</td> <td>    0.145</td> <td>    3.775</td> <td> 0.000</td> <td>    0.262</td> <td>    0.834</td>\n",
              "</tr>\n",
              "<tr>\n",
              "  <th>age[0]</th>                <td>    0.0030</td> <td>    0.001</td> <td>    3.382</td> <td> 0.001</td> <td>    0.001</td> <td>    0.005</td>\n",
              "</tr>\n",
              "<tr>\n",
              "  <th>age[1]</th>                <td>    0.0030</td> <td>    0.001</td> <td>    3.382</td> <td> 0.001</td> <td>    0.001</td> <td>    0.005</td>\n",
              "</tr>\n",
              "<tr>\n",
              "  <th>ejection_fraction[0]</th>  <td>   -0.0052</td> <td>    0.001</td> <td>   -6.012</td> <td> 0.000</td> <td>   -0.007</td> <td>   -0.004</td>\n",
              "</tr>\n",
              "<tr>\n",
              "  <th>ejection_fraction[1]</th>  <td>   -0.0052</td> <td>    0.001</td> <td>   -6.012</td> <td> 0.000</td> <td>   -0.007</td> <td>   -0.004</td>\n",
              "</tr>\n",
              "<tr>\n",
              "  <th>serum_creatinine[0]</th>   <td>    0.0468</td> <td>    0.010</td> <td>    4.764</td> <td> 0.000</td> <td>    0.027</td> <td>    0.066</td>\n",
              "</tr>\n",
              "<tr>\n",
              "  <th>serum_creatinine[1]</th>   <td>    0.0468</td> <td>    0.010</td> <td>    4.764</td> <td> 0.000</td> <td>    0.027</td> <td>    0.066</td>\n",
              "</tr>\n",
              "<tr>\n",
              "  <th>time[0]</th>               <td>   -0.0015</td> <td>    0.000</td> <td>  -10.566</td> <td> 0.000</td> <td>   -0.002</td> <td>   -0.001</td>\n",
              "</tr>\n",
              "<tr>\n",
              "  <th>time[1]</th>               <td>   -0.0015</td> <td>    0.000</td> <td>  -10.566</td> <td> 0.000</td> <td>   -0.002</td> <td>   -0.001</td>\n",
              "</tr>\n",
              "<tr>\n",
              "  <th>anaemia_0</th>             <td>    0.0286</td> <td>    0.042</td> <td>    0.688</td> <td> 0.492</td> <td>   -0.053</td> <td>    0.111</td>\n",
              "</tr>\n",
              "<tr>\n",
              "  <th>diabetes_0</th>            <td>   -0.0278</td> <td>    0.042</td> <td>   -0.665</td> <td> 0.506</td> <td>   -0.110</td> <td>    0.054</td>\n",
              "</tr>\n",
              "<tr>\n",
              "  <th>high_blood_pressure_0</th> <td>    0.0065</td> <td>    0.043</td> <td>    0.149</td> <td> 0.882</td> <td>   -0.079</td> <td>    0.092</td>\n",
              "</tr>\n",
              "<tr>\n",
              "  <th>sex_0</th>                 <td>    0.0598</td> <td>    0.048</td> <td>    1.244</td> <td> 0.215</td> <td>   -0.035</td> <td>    0.154</td>\n",
              "</tr>\n",
              "<tr>\n",
              "  <th>smoking_0</th>             <td>    0.0136</td> <td>    0.048</td> <td>    0.281</td> <td> 0.779</td> <td>   -0.082</td> <td>    0.109</td>\n",
              "</tr>\n",
              "</table>\n",
              "<table class=\"simpletable\">\n",
              "<tr>\n",
              "  <th>Omnibus:</th>       <td> 8.031</td> <th>  Durbin-Watson:     </th> <td>   1.539</td>\n",
              "</tr>\n",
              "<tr>\n",
              "  <th>Prob(Omnibus):</th> <td> 0.018</td> <th>  Jarque-Bera (JB):  </th> <td>   5.757</td>\n",
              "</tr>\n",
              "<tr>\n",
              "  <th>Skew:</th>          <td> 0.220</td> <th>  Prob(JB):          </th> <td>  0.0562</td>\n",
              "</tr>\n",
              "<tr>\n",
              "  <th>Kurtosis:</th>      <td> 2.467</td> <th>  Cond. No.          </th> <td>7.62e+17</td>\n",
              "</tr>\n",
              "</table><br/><br/>Warnings:<br/>[1] Standard Errors assume that the covariance matrix of the errors is correctly specified.<br/>[2] The smallest eigenvalue is 2.68e-29. This might indicate that there are<br/>strong multicollinearity problems or that the design matrix is singular."
            ],
            "text/plain": [
              "<class 'statsmodels.iolib.summary.Summary'>\n",
              "\"\"\"\n",
              "                            OLS Regression Results                            \n",
              "==============================================================================\n",
              "Dep. Variable:            DEATH_EVENT   R-squared:                       0.464\n",
              "Model:                            OLS   Adj. R-squared:                  0.447\n",
              "Method:                 Least Squares   F-statistic:                     26.82\n",
              "Date:                Sat, 12 Dec 2020   Prob (F-statistic):           3.52e-33\n",
              "Time:                        14:08:37   Log-Likelihood:                -94.776\n",
              "No. Observations:                 289   AIC:                             209.6\n",
              "Df Residuals:                     279   BIC:                             246.2\n",
              "Df Model:                           9                                         \n",
              "Covariance Type:            nonrobust                                         \n",
              "=========================================================================================\n",
              "                            coef    std err          t      P>|t|      [0.025      0.975]\n",
              "-----------------------------------------------------------------------------------------\n",
              "Intercept                 0.5482      0.145      3.775      0.000       0.262       0.834\n",
              "age[0]                    0.0030      0.001      3.382      0.001       0.001       0.005\n",
              "age[1]                    0.0030      0.001      3.382      0.001       0.001       0.005\n",
              "ejection_fraction[0]     -0.0052      0.001     -6.012      0.000      -0.007      -0.004\n",
              "ejection_fraction[1]     -0.0052      0.001     -6.012      0.000      -0.007      -0.004\n",
              "serum_creatinine[0]       0.0468      0.010      4.764      0.000       0.027       0.066\n",
              "serum_creatinine[1]       0.0468      0.010      4.764      0.000       0.027       0.066\n",
              "time[0]                  -0.0015      0.000    -10.566      0.000      -0.002      -0.001\n",
              "time[1]                  -0.0015      0.000    -10.566      0.000      -0.002      -0.001\n",
              "anaemia_0                 0.0286      0.042      0.688      0.492      -0.053       0.111\n",
              "diabetes_0               -0.0278      0.042     -0.665      0.506      -0.110       0.054\n",
              "high_blood_pressure_0     0.0065      0.043      0.149      0.882      -0.079       0.092\n",
              "sex_0                     0.0598      0.048      1.244      0.215      -0.035       0.154\n",
              "smoking_0                 0.0136      0.048      0.281      0.779      -0.082       0.109\n",
              "==============================================================================\n",
              "Omnibus:                        8.031   Durbin-Watson:                   1.539\n",
              "Prob(Omnibus):                  0.018   Jarque-Bera (JB):                5.757\n",
              "Skew:                           0.220   Prob(JB):                       0.0562\n",
              "Kurtosis:                       2.467   Cond. No.                     7.62e+17\n",
              "==============================================================================\n",
              "\n",
              "Warnings:\n",
              "[1] Standard Errors assume that the covariance matrix of the errors is correctly specified.\n",
              "[2] The smallest eigenvalue is 2.68e-29. This might indicate that there are\n",
              "strong multicollinearity problems or that the design matrix is singular.\n",
              "\"\"\""
            ]
          },
          "metadata": {
            "tags": []
          },
          "execution_count": 88
        }
      ]
    },
    {
      "cell_type": "code",
      "metadata": {
        "id": "ZKOrNl_jy2qu"
      },
      "source": [
        "df6 = df5"
      ],
      "execution_count": null,
      "outputs": []
    },
    {
      "cell_type": "code",
      "metadata": {
        "id": "EgqlCy-zy2qv"
      },
      "source": [
        "# Reshaping the array to perform an ML model\n",
        "df6['DEATH_EVENT'] = df6['DEATH_EVENT'].values.reshape(-1,1)\n",
        "df6['anaemia'] = df6['anaemia'].values.reshape(-1,1)\n",
        "df6['diabetes'] = df6['diabetes'].values.reshape(-1,1)\n",
        "df6['high_blood_pressure'] = df6['high_blood_pressure'].values.reshape(-1,1)\n",
        "df6['sex'] = df6['sex'].values.reshape(-1,1)\n",
        "df6['smoking'] = df6['smoking'].values.reshape(-1,1)"
      ],
      "execution_count": null,
      "outputs": []
    },
    {
      "cell_type": "code",
      "metadata": {
        "id": "UQPRdysTy2qv"
      },
      "source": [
        "# dependent and independent variables of the ML model\n",
        "y = df6['DEATH_EVENT']\n",
        "x = df6[['age', 'ejection_fraction', 'serum_creatinine', 'time', 'anaemia', 'diabetes', 'high_blood_pressure', 'sex', 'smoking']]"
      ],
      "execution_count": null,
      "outputs": []
    },
    {
      "cell_type": "code",
      "metadata": {
        "id": "pQlB8H4my2qv"
      },
      "source": [
        "X_train, X_test, Y_train, Y_test = train_test_split(x,y,test_size=0.3,random_state=None) "
      ],
      "execution_count": null,
      "outputs": []
    },
    {
      "cell_type": "code",
      "metadata": {
        "id": "LJQnsWyVy2qw"
      },
      "source": [
        "train_model = sklearn.linear_model.LinearRegression().fit(X_train, Y_train)"
      ],
      "execution_count": null,
      "outputs": []
    },
    {
      "cell_type": "code",
      "metadata": {
        "id": "3RB_N5dpy2qw"
      },
      "source": [
        "predict = train_model.predict(X_test)"
      ],
      "execution_count": null,
      "outputs": []
    },
    {
      "cell_type": "code",
      "metadata": {
        "id": "AsaGhhm_y2qw"
      },
      "source": [
        "test_rmse = (np.sqrt(mean_squared_error(Y_test, predict)))"
      ],
      "execution_count": null,
      "outputs": []
    },
    {
      "cell_type": "code",
      "metadata": {
        "id": "8IbVjm2uy2qw"
      },
      "source": [
        "test_r2 = r2_score (Y_test, predict)"
      ],
      "execution_count": null,
      "outputs": []
    },
    {
      "cell_type": "code",
      "metadata": {
        "id": "S5W4rjTey2qw",
        "outputId": "9455883e-e267-4415-95f3-1a0f646d9e26"
      },
      "source": [
        "print('RMSE is: ', test_rmse, '//', 'R2_Score is: ', test_r2)"
      ],
      "execution_count": null,
      "outputs": [
        {
          "output_type": "stream",
          "text": [
            "RMSE is:  0.36260664057925807 // R2_Score is:  0.37250997151893184\n"
          ],
          "name": "stdout"
        }
      ]
    },
    {
      "cell_type": "markdown",
      "metadata": {
        "id": "5XzktWxmy2qw"
      },
      "source": [
        "This R^2 value is not great in this case either. **Neither is the Linear Regression Model appropriate nor needed here**. As can be seen in the earlier analysis in this file, both Logistic Regression models and the earlier Machine Learning models, are much better in predicting Death Occurence by Heart Failure. As discussed earlier, they are the more appropriate models for the current data under study."
      ]
    },
    {
      "cell_type": "code",
      "metadata": {
        "id": "zl9VORLVy2qw"
      },
      "source": [
        ""
      ],
      "execution_count": null,
      "outputs": []
    }
  ]
}